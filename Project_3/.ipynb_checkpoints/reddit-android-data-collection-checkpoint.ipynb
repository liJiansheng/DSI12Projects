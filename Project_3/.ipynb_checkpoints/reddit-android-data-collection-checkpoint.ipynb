{
 "cells": [
  {
   "cell_type": "markdown",
   "metadata": {},
   "source": [
    "<img src=\"http://imgur.com/1ZcRyrc.png\" style=\"float: left; margin: 20px; height: 55px\">\n",
    "\n",
    "# Project 3 Web APIs & Classification\n",
    "_Authors: Li Jiansheng\n",
    "\n",
    "---\n"
   ]
  },
  {
   "cell_type": "markdown",
   "metadata": {},
   "source": [
    "### Web Scraping for Android Subreddit\n"
   ]
  },
  {
   "cell_type": "code",
   "execution_count": 1,
   "metadata": {},
   "outputs": [],
   "source": [
    "import requests\n",
    "import pandas as pd\n",
    "import time\n",
    "import random"
   ]
  },
  {
   "cell_type": "code",
   "execution_count": 2,
   "metadata": {},
   "outputs": [],
   "source": [
    "url = 'https://www.reddit.com/r/Android.json'"
   ]
  },
  {
   "cell_type": "code",
   "execution_count": 3,
   "metadata": {},
   "outputs": [],
   "source": [
    "res = requests.get(url)"
   ]
  },
  {
   "cell_type": "code",
   "execution_count": 4,
   "metadata": {},
   "outputs": [
    {
     "data": {
      "text/plain": [
       "429"
      ]
     },
     "execution_count": 4,
     "metadata": {},
     "output_type": "execute_result"
    }
   ],
   "source": [
    "res.status_code"
   ]
  },
  {
   "cell_type": "code",
   "execution_count": 5,
   "metadata": {},
   "outputs": [],
   "source": [
    "res = requests.get(url, headers={'User-agent': 'Jiansheng Inc 1.0'})"
   ]
  },
  {
   "cell_type": "code",
   "execution_count": 6,
   "metadata": {},
   "outputs": [
    {
     "data": {
      "text/plain": [
       "200"
      ]
     },
     "execution_count": 6,
     "metadata": {},
     "output_type": "execute_result"
    }
   ],
   "source": [
    "res.status_code"
   ]
  },
  {
   "cell_type": "code",
   "execution_count": 7,
   "metadata": {},
   "outputs": [],
   "source": [
    "reddit_dict = res.json()"
   ]
  },
  {
   "cell_type": "code",
   "execution_count": 8,
   "metadata": {},
   "outputs": [
    {
     "data": {
      "text/plain": [
       "'t3_erja79'"
      ]
     },
     "execution_count": 8,
     "metadata": {},
     "output_type": "execute_result"
    }
   ],
   "source": [
    "reddit_dict['data']['after']"
   ]
  },
  {
   "cell_type": "markdown",
   "metadata": {},
   "source": [
    "This is the name of the last post."
   ]
  },
  {
   "cell_type": "markdown",
   "metadata": {},
   "source": [
    "This is the new URL that gives you the next 25 posts."
   ]
  },
  {
   "cell_type": "code",
   "execution_count": 10,
   "metadata": {},
   "outputs": [
    {
     "data": {
      "text/plain": [
       "'https://www.reddit.com/r/Android.json?after=t3_erja79'"
      ]
     },
     "execution_count": 10,
     "metadata": {},
     "output_type": "execute_result"
    }
   ],
   "source": [
    "url + '?after=' + reddit_dict['data']['after']"
   ]
  },
  {
   "cell_type": "markdown",
   "metadata": {},
   "source": [
    "## Looping through the posts, 25 posts at a time"
   ]
  },
  {
   "cell_type": "code",
   "execution_count": 11,
   "metadata": {},
   "outputs": [
    {
     "name": "stdout",
     "output_type": "stream",
     "text": [
      "https://www.reddit.com/r/Android.json\n",
      "0\n",
      "https://www.reddit.com/r/Android.json?after=t3_erja79\n",
      "1\n",
      "https://www.reddit.com/r/Android.json?after=t3_eqgxyv\n",
      "2\n",
      "https://www.reddit.com/r/Android.json?after=t3_ephe1s\n",
      "3\n",
      "https://www.reddit.com/r/Android.json?after=t3_enxy9j\n",
      "4\n",
      "https://www.reddit.com/r/Android.json?after=t3_enouno\n",
      "5\n",
      "https://www.reddit.com/r/Android.json?after=t3_emvtr2\n",
      "6\n",
      "https://www.reddit.com/r/Android.json?after=t3_emrvkt\n",
      "7\n",
      "https://www.reddit.com/r/Android.json?after=t3_el0b5m\n",
      "8\n",
      "https://www.reddit.com/r/Android.json?after=t3_ek160q\n",
      "9\n",
      "https://www.reddit.com/r/Android.json?after=t3_ejaj71\n",
      "10\n",
      "https://www.reddit.com/r/Android.json?after=t3_eidj4r\n",
      "11\n",
      "https://www.reddit.com/r/Android.json?after=t3_eh523u\n",
      "12\n",
      "https://www.reddit.com/r/Android.json?after=t3_egaptr\n",
      "13\n",
      "https://www.reddit.com/r/Android.json?after=t3_efonpw\n",
      "14\n",
      "https://www.reddit.com/r/Android.json?after=t3_efmvz8\n",
      "15\n",
      "https://www.reddit.com/r/Android.json?after=t3_edr0ai\n",
      "16\n",
      "https://www.reddit.com/r/Android.json?after=t3_ecmih5\n",
      "17\n",
      "https://www.reddit.com/r/Android.json?after=t3_ecgwcc\n",
      "18\n",
      "https://www.reddit.com/r/Android.json?after=t3_ebsvjn\n",
      "19\n",
      "https://www.reddit.com/r/Android.json?after=t3_eaudot\n",
      "20\n",
      "https://www.reddit.com/r/Android.json?after=t3_eagr8j\n",
      "21\n",
      "https://www.reddit.com/r/Android.json?after=t3_e9wj00\n",
      "22\n",
      "https://www.reddit.com/r/Android.json?after=t3_e9m9i9\n",
      "23\n",
      "https://www.reddit.com/r/Android.json?after=t3_e8vpkq\n",
      "24\n",
      "https://www.reddit.com/r/Android.json?after=t3_e98xsv\n",
      "25\n",
      "https://www.reddit.com/r/Android.json?after=t3_e8klc8\n",
      "26\n",
      "https://www.reddit.com/r/Android.json?after=t3_e7j2k4\n",
      "27\n",
      "https://www.reddit.com/r/Android.json?after=t3_e6k6ej\n",
      "28\n",
      "https://www.reddit.com/r/Android.json?after=t3_e6173s\n",
      "29\n",
      "https://www.reddit.com/r/Android.json?after=t3_e6272m\n",
      "30\n",
      "https://www.reddit.com/r/Android.json?after=t3_e5aum7\n",
      "31\n",
      "https://www.reddit.com/r/Android.json\n",
      "32\n",
      "https://www.reddit.com/r/Android.json?after=t3_erja79\n",
      "33\n",
      "https://www.reddit.com/r/Android.json?after=t3_eqgxyv\n",
      "34\n",
      "https://www.reddit.com/r/Android.json?after=t3_ephe1s\n",
      "35\n",
      "https://www.reddit.com/r/Android.json?after=t3_enxy9j\n",
      "36\n",
      "https://www.reddit.com/r/Android.json?after=t3_enouno\n",
      "37\n",
      "https://www.reddit.com/r/Android.json?after=t3_emvtr2\n",
      "38\n",
      "https://www.reddit.com/r/Android.json?after=t3_emrvkt\n",
      "39\n"
     ]
    }
   ],
   "source": [
    "posts = []\n",
    "after = None\n",
    "\n",
    "for a in range(40):\n",
    "    if after == None:\n",
    "        current_url = url\n",
    "    else:\n",
    "        current_url = url + '?after=' + after\n",
    "    print(current_url)\n",
    "    res = requests.get(current_url, headers={'User-agent': 'Jiansheng Inc 1.0'})\n",
    "    \n",
    "    if res.status_code != 200:\n",
    "        print('Status error', res.status_code)\n",
    "        break\n",
    "    \n",
    "    current_dict = res.json()\n",
    "    current_posts = [p['data'] for p in current_dict['data']['children']]\n",
    "    posts.extend(current_posts)\n",
    "    after = current_dict['data']['after']\n",
    "    \n",
    "    if a > 0:\n",
    "        prev_posts = pd.read_csv('./datasets/android.csv')\n",
    "        current_df = pd.DataFrame()\n",
    "            \n",
    "    else:\n",
    "        pd.DataFrame(posts).to_csv('./datasets/android.csv', index = False)\n",
    "\n",
    "    # generate a random sleep duration to look more 'natural'\n",
    "    sleep_duration = random.randint(2,10)\n",
    "    print(a)\n",
    "    time.sleep(sleep_duration)"
   ]
  },
  {
   "cell_type": "markdown",
   "metadata": {},
   "source": [
    "Even though we loop through 40 times, we can see the extraction repeats from the 31st time. "
   ]
  },
  {
   "cell_type": "code",
   "execution_count": 12,
   "metadata": {},
   "outputs": [],
   "source": [
    "pd.DataFrame(posts).to_csv('./datasets/android.csv', index = False)"
   ]
  },
  {
   "cell_type": "markdown",
   "metadata": {},
   "source": [
    "We need to save all posts to a csv."
   ]
  },
  {
   "cell_type": "code",
   "execution_count": 13,
   "metadata": {
    "scrolled": true
   },
   "outputs": [
    {
     "data": {
      "text/plain": [
       "786"
      ]
     },
     "execution_count": 13,
     "metadata": {},
     "output_type": "execute_result"
    }
   ],
   "source": [
    "android = pd.read_csv('android.csv')\n",
    "\n",
    "\n",
    "android.drop_duplicates(subset='title', keep='first', inplace=True)\n",
    "len(android)\n"
   ]
  },
  {
   "cell_type": "markdown",
   "metadata": {},
   "source": [
    "We will use title to check for duplicates. We want to see how many unique posts are left."
   ]
  }
 ],
 "metadata": {
  "kernelspec": {
   "display_name": "Python 3",
   "language": "python",
   "name": "python3"
  },
  "language_info": {
   "codemirror_mode": {
    "name": "ipython",
    "version": 3
   },
   "file_extension": ".py",
   "mimetype": "text/x-python",
   "name": "python",
   "nbconvert_exporter": "python",
   "pygments_lexer": "ipython3",
   "version": "3.7.5"
  }
 },
 "nbformat": 4,
 "nbformat_minor": 2
}
