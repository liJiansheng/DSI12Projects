{
 "cells": [
  {
   "cell_type": "markdown",
   "metadata": {},
   "source": [
    "<img src=\"http://imgur.com/1ZcRyrc.png\" style=\"float: left; margin: 20px; height: 55px\">\n",
    "\n",
    "# Project 3 Web APIs & Classification\n",
    "_Authors: Li Jiansheng\n",
    "\n",
    "---\n"
   ]
  },
  {
   "cell_type": "markdown",
   "metadata": {},
   "source": [
    "### Web Scraping for Iphone Subreddit\n",
    "Steps taken here are same as Android scraping.\n"
   ]
  },
  {
   "cell_type": "code",
   "execution_count": 18,
   "metadata": {},
   "outputs": [],
   "source": [
    "#Import libraries for web scraping\n",
    "import requests\n",
    "import pandas as pd\n",
    "import time\n",
    "import random"
   ]
  },
  {
   "cell_type": "code",
   "execution_count": 19,
   "metadata": {},
   "outputs": [],
   "source": [
    "url = 'https://www.reddit.com/r/iphone/new.json'"
   ]
  },
  {
   "cell_type": "code",
   "execution_count": 20,
   "metadata": {},
   "outputs": [],
   "source": [
    "res = requests.get(url)\n"
   ]
  },
  {
   "cell_type": "code",
   "execution_count": 21,
   "metadata": {},
   "outputs": [
    {
     "data": {
      "text/plain": [
       "429"
      ]
     },
     "execution_count": 21,
     "metadata": {},
     "output_type": "execute_result"
    }
   ],
   "source": [
    "res.status_code\n"
   ]
  },
  {
   "cell_type": "code",
   "execution_count": 22,
   "metadata": {},
   "outputs": [],
   "source": [
    "res = requests.get(url, headers={'User-agent': 'Jiansheng Inc 1.0'})"
   ]
  },
  {
   "cell_type": "code",
   "execution_count": 23,
   "metadata": {},
   "outputs": [
    {
     "data": {
      "text/plain": [
       "200"
      ]
     },
     "execution_count": 23,
     "metadata": {},
     "output_type": "execute_result"
    }
   ],
   "source": [
    "res.status_code"
   ]
  },
  {
   "cell_type": "markdown",
   "metadata": {},
   "source": [
    "## Looping through the posts, 25 posts at a time"
   ]
  },
  {
   "cell_type": "code",
   "execution_count": 24,
   "metadata": {},
   "outputs": [
    {
     "name": "stdout",
     "output_type": "stream",
     "text": [
      "https://www.reddit.com/r/iphone/new.json\n",
      "0\n",
      "https://www.reddit.com/r/iphone/new.json?after=t3_etnm1b\n",
      "1\n",
      "https://www.reddit.com/r/iphone/new.json?after=t3_erxm5f\n",
      "2\n",
      "https://www.reddit.com/r/iphone/new.json?after=t3_eqqq63\n",
      "3\n",
      "https://www.reddit.com/r/iphone/new.json?after=t3_epg3fa\n",
      "4\n",
      "https://www.reddit.com/r/iphone/new.json?after=t3_enekbh\n",
      "5\n",
      "https://www.reddit.com/r/iphone/new.json?after=t3_elszso\n",
      "6\n",
      "https://www.reddit.com/r/iphone/new.json?after=t3_ejt8lc\n",
      "7\n",
      "https://www.reddit.com/r/iphone/new.json?after=t3_ej4kk4\n",
      "8\n",
      "https://www.reddit.com/r/iphone/new.json?after=t3_ei792b\n",
      "9\n",
      "https://www.reddit.com/r/iphone/new.json?after=t3_eh8oa5\n",
      "10\n",
      "https://www.reddit.com/r/iphone/new.json?after=t3_efag5s\n",
      "11\n",
      "https://www.reddit.com/r/iphone/new.json?after=t3_edyf7l\n",
      "12\n",
      "https://www.reddit.com/r/iphone/new.json?after=t3_ebjq7n\n",
      "13\n",
      "https://www.reddit.com/r/iphone/new.json?after=t3_eaaah4\n",
      "14\n",
      "https://www.reddit.com/r/iphone/new.json?after=t3_e91048\n",
      "15\n",
      "https://www.reddit.com/r/iphone/new.json?after=t3_e8dso1\n",
      "16\n",
      "https://www.reddit.com/r/iphone/new.json?after=t3_e62nnc\n",
      "17\n",
      "https://www.reddit.com/r/iphone/new.json?after=t3_e54iw2\n",
      "18\n",
      "https://www.reddit.com/r/iphone/new.json?after=t3_e3qaqa\n",
      "19\n",
      "https://www.reddit.com/r/iphone/new.json?after=t3_e2shg2\n",
      "20\n",
      "https://www.reddit.com/r/iphone/new.json?after=t3_e18zz4\n",
      "21\n",
      "https://www.reddit.com/r/iphone/new.json?after=t3_e0fgy9\n",
      "22\n",
      "https://www.reddit.com/r/iphone/new.json?after=t3_dzaxpm\n",
      "23\n",
      "https://www.reddit.com/r/iphone/new.json?after=t3_dy7mn9\n",
      "24\n",
      "https://www.reddit.com/r/iphone/new.json?after=t3_dxer54\n",
      "25\n",
      "https://www.reddit.com/r/iphone/new.json?after=t3_dvmah2\n",
      "26\n",
      "https://www.reddit.com/r/iphone/new.json?after=t3_duiu89\n",
      "27\n",
      "https://www.reddit.com/r/iphone/new.json?after=t3_dt4grb\n",
      "28\n",
      "https://www.reddit.com/r/iphone/new.json\n",
      "29\n",
      "https://www.reddit.com/r/iphone/new.json?after=t3_etnm1b\n",
      "30\n",
      "https://www.reddit.com/r/iphone/new.json?after=t3_erxm5f\n",
      "31\n",
      "https://www.reddit.com/r/iphone/new.json?after=t3_eqqq63\n",
      "32\n",
      "https://www.reddit.com/r/iphone/new.json?after=t3_epg3fa\n",
      "33\n",
      "https://www.reddit.com/r/iphone/new.json?after=t3_enekbh\n",
      "34\n",
      "https://www.reddit.com/r/iphone/new.json?after=t3_elszso\n",
      "35\n",
      "https://www.reddit.com/r/iphone/new.json?after=t3_ejt8lc\n",
      "36\n",
      "https://www.reddit.com/r/iphone/new.json?after=t3_ej4kk4\n",
      "37\n",
      "https://www.reddit.com/r/iphone/new.json?after=t3_ei792b\n",
      "38\n",
      "https://www.reddit.com/r/iphone/new.json?after=t3_eh8oa5\n",
      "39\n"
     ]
    }
   ],
   "source": [
    "posts = []\n",
    "after = None\n",
    "\n",
    "for a in range(40):\n",
    "    if after == None:\n",
    "        current_url = url\n",
    "    else:\n",
    "        current_url = url + '?after=' + after\n",
    "    print(current_url)\n",
    "    res = requests.get(current_url, headers={'User-agent': 'Jiansheng Inc 1.0'})\n",
    "    \n",
    "    if res.status_code != 200:\n",
    "        print('Status error', res.status_code)\n",
    "        break\n",
    "    \n",
    "    current_dict = res.json()\n",
    "    current_posts = [p['data'] for p in current_dict['data']['children']]\n",
    "    posts.extend(current_posts)\n",
    "    after = current_dict['data']['after']\n",
    "    \n",
    "    if a > 0:\n",
    "        prev_posts = pd.read_csv('./datasets/iphone.csv')\n",
    "        current_df = pd.DataFrame()\n",
    "        #current_df = pd.concat([prev_posts, current_df])\n",
    "        #pd.DataFrame(current_df).to_csv('./datasets/iphone.csv', index = False)\n",
    "        \n",
    "    else:\n",
    "        pd.DataFrame(posts).to_csv('./datasets/iphone.csv', index = False)\n",
    "\n",
    "    # generate a random sleep duration to look more 'natural'\n",
    "    sleep_duration = random.randint(2,10)\n",
    "    print(a)\n",
    "    time.sleep(sleep_duration)"
   ]
  },
  {
   "cell_type": "code",
   "execution_count": 25,
   "metadata": {
    "scrolled": true
   },
   "outputs": [
    {
     "data": {
      "text/plain": [
       "990"
      ]
     },
     "execution_count": 25,
     "metadata": {},
     "output_type": "execute_result"
    }
   ],
   "source": [
    "len(posts)"
   ]
  },
  {
   "cell_type": "code",
   "execution_count": 26,
   "metadata": {},
   "outputs": [],
   "source": [
    "iphone=pd.DataFrame(posts).to_csv('./datasets/iphone.csv', index = False)"
   ]
  },
  {
   "cell_type": "code",
   "execution_count": 27,
   "metadata": {},
   "outputs": [
    {
     "data": {
      "text/plain": [
       "715"
      ]
     },
     "execution_count": 27,
     "metadata": {},
     "output_type": "execute_result"
    }
   ],
   "source": [
    "iphone = pd.read_csv('./datasets/iphone.csv')\n",
    "\n",
    "\n",
    "iphone.drop_duplicates(subset='title', keep='first', inplace=True)\n",
    "len(iphone)\n"
   ]
  }
 ],
 "metadata": {
  "kernelspec": {
   "display_name": "Python 3",
   "language": "python",
   "name": "python3"
  },
  "language_info": {
   "codemirror_mode": {
    "name": "ipython",
    "version": 3
   },
   "file_extension": ".py",
   "mimetype": "text/x-python",
   "name": "python",
   "nbconvert_exporter": "python",
   "pygments_lexer": "ipython3",
   "version": "3.7.5"
  }
 },
 "nbformat": 4,
 "nbformat_minor": 2
}
