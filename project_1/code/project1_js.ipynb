{
 "cells": [
  {
   "cell_type": "markdown",
   "metadata": {},
   "source": [
    "# Project 1: SAT & ACT Analysis"
   ]
  },
  {
   "cell_type": "markdown",
   "metadata": {},
   "source": [
    "The first markdown cell in a notebook is a great place to provide an overview of your entire project. You will likely want to at least state your\n",
    "\n",
    "## Problem Statement"
   ]
  },
  {
   "cell_type": "markdown",
   "metadata": {},
   "source": [
    "To recommend an efficient method to improve SAT participation based on previous years' data"
   ]
  },
  {
   "cell_type": "markdown",
   "metadata": {},
   "source": [
    "## Executive Summary\n",
    "\n",
    "If you want to, it's great to use relative links to direct your audience to various sections of a notebook. **HERE'S A DEMONSTRATION WITH THE CURRENT SECTION HEADERS**:\n",
    "\n",
    "### Contents:\n",
    "- [2017 Data Import & Cleaning](#Data-Import-and-Cleaning)\n",
    "- [2018 Data Import and Cleaning](#2018-Data-Import-and-Cleaning)\n",
    "- [Exploratory Data Analysis](#Exploratory-Data-Analysis)\n",
    "- [Data Visualization](#Visualize-the-data)\n",
    "- [Descriptive and Inferential Statistics](#Descriptive-and-Inferential-Statistics)\n",
    "- [Outside Research](#Outside-Research)\n",
    "- [Conclusions and Recommendations](#Conclusions-and-Recommendations)"
   ]
  },
  {
   "cell_type": "markdown",
   "metadata": {},
   "source": [
    "**If you combine your problem statement, executive summary, data dictionary, and conclusions/recommendations, you have an amazing README.md file that quickly aligns your audience to the contents of your project.** Don't forget to cite your data sources!"
   ]
  },
  {
   "cell_type": "markdown",
   "metadata": {},
   "source": [
    "*All libraries used should be added here*"
   ]
  },
  {
   "cell_type": "code",
   "execution_count": 2,
   "metadata": {},
   "outputs": [],
   "source": [
    "#Imports:\n",
    "import numpy as np\n",
    "import pandas as pd"
   ]
  },
  {
   "cell_type": "markdown",
   "metadata": {},
   "source": [
    "## 2017 Data Import and Cleaning"
   ]
  },
  {
   "cell_type": "markdown",
   "metadata": {},
   "source": [
    "#### 1. Read In SAT & ACT  Data\n",
    "\n",
    "Read in the `sat_2017.csv` and `act_2017.csv` files and assign them to appropriately named pandas dataframes."
   ]
  },
  {
   "cell_type": "code",
   "execution_count": 3,
   "metadata": {},
   "outputs": [],
   "source": [
    "#Code:\n",
    "raw_sat2017 = ''\n",
    "raw_act2017 = ''\n",
    "\n",
    "sat2017_file = '../data/sat_2017.csv'\n",
    "act2017_file = '../data/act_2017.csv'\n",
    "\n",
    "sat2017_df=pd.read_csv(sat2017_file)\n",
    "act2017_df=pd.read_csv(act2017_file)\n",
    "\n"
   ]
  },
  {
   "cell_type": "markdown",
   "metadata": {},
   "source": [
    "#### 2. Display Data\n",
    "\n",
    "Print the first 10 rows of each dataframe to your jupyter notebook"
   ]
  },
  {
   "cell_type": "code",
   "execution_count": 4,
   "metadata": {},
   "outputs": [
    {
     "name": "stdout",
     "output_type": "stream",
     "text": [
      "                  State Participation  Evidence-Based Reading and Writing  \\\n",
      "0               Alabama            5%                                 593   \n",
      "1                Alaska           38%                                 547   \n",
      "2               Arizona           30%                                 563   \n",
      "3              Arkansas            3%                                 614   \n",
      "4            California           53%                                 531   \n",
      "5              Colorado           11%                                 606   \n",
      "6           Connecticut          100%                                 530   \n",
      "7              Delaware          100%                                 503   \n",
      "8  District of Columbia          100%                                 482   \n",
      "9               Florida           83%                                 520   \n",
      "\n",
      "   Math  Total  \n",
      "0   572   1165  \n",
      "1   533   1080  \n",
      "2   553   1116  \n",
      "3   594   1208  \n",
      "4   524   1055  \n",
      "5   595   1201  \n",
      "6   512   1041  \n",
      "7   492    996  \n",
      "8   468    950  \n",
      "9   497   1017  \n",
      "                  State Participation  English  Math  Reading  Science  \\\n",
      "0              National           60%     20.3  20.7     21.4     21.0   \n",
      "1               Alabama          100%     18.9  18.4     19.7     19.4   \n",
      "2                Alaska           65%     18.7  19.8     20.4     19.9   \n",
      "3               Arizona           62%     18.6  19.8     20.1     19.8   \n",
      "4              Arkansas          100%     18.9  19.0     19.7     19.5   \n",
      "5            California           31%     22.5  22.7     23.1     22.2   \n",
      "6              Colorado          100%     20.1  20.3     21.2     20.9   \n",
      "7           Connecticut           31%     25.5  24.6     25.6     24.6   \n",
      "8              Delaware           18%     24.1  23.4     24.8     23.6   \n",
      "9  District of Columbia           32%     24.4  23.5     24.9     23.5   \n",
      "\n",
      "  Composite  \n",
      "0      21.0  \n",
      "1      19.2  \n",
      "2      19.8  \n",
      "3      19.7  \n",
      "4      19.4  \n",
      "5      22.8  \n",
      "6      20.8  \n",
      "7      25.2  \n",
      "8      24.1  \n",
      "9      24.2  \n"
     ]
    }
   ],
   "source": [
    "#Code:\n",
    "print(sat2017_df[:10])\n",
    "print(act2017_df[:10])"
   ]
  },
  {
   "cell_type": "markdown",
   "metadata": {},
   "source": [
    "#### 3. Verbally Describe Data\n",
    "\n",
    "Take your time looking through the data and thoroughly describe the data in the markdown cell below. "
   ]
  },
  {
   "cell_type": "markdown",
   "metadata": {},
   "source": [
    "**SAT**\\\n",
    "    State: State where SAT was taken.\\\n",
    "    Participation: Participation percentage based on eligible students.\\\n",
    "    Evidence-Based Reading and Writing: SAT score for Evidence-based Reading Writing assessment.\\\n",
    "    Math: SAT score for Math assessment.\\\n",
    "    Total: Total score of ERW and Math.\\\n",
    "\\\n",
    "**ACT**\\\n",
    "State: State where ACT was taken.\\\n",
    "Participation: Participation percentage based on eligible students.\\\n",
    "English: ACT score for English assessment.\\\n",
    "Math: ACT score for Math assessment.\\\n",
    "Reading: ACT score for Reading assessment.\\\n",
    "Science: ACT score for Science assessment.\\\n",
    "Composite: average score for all assessments taken.\n",
    "\n",
    "\n"
   ]
  },
  {
   "cell_type": "markdown",
   "metadata": {},
   "source": [
    "#### 4a. Does the data look complete? "
   ]
  },
  {
   "cell_type": "markdown",
   "metadata": {},
   "source": [
    "Yes. "
   ]
  },
  {
   "cell_type": "markdown",
   "metadata": {},
   "source": [
    "#### 4b. Are there any obvious issues with the observations?\n",
    "\n",
    "**What is the minimum *possible* value for each test/subtest? What is the maximum *possible* value?**\n",
    "\n",
    "Consider comparing any questionable values to the sources of your data:\n",
    "- [SAT](https://blog.collegevine.com/here-are-the-average-sat-scores-by-state/)\n",
    "- [ACT](https://blog.prepscholar.com/act-scores-by-state-averages-highs-and-lows)"
   ]
  },
  {
   "cell_type": "markdown",
   "metadata": {},
   "source": [
    "SAT 2017 Maryland's Math score is too low. ACT 2017 Wyoming has a wrong composite score"
   ]
  },
  {
   "cell_type": "markdown",
   "metadata": {},
   "source": [
    "#### 4c. Fix any errors you identified\n",
    "\n",
    "**The data is available** so there's no need to guess or calculate anything. If you didn't find any errors, continue to the next step."
   ]
  },
  {
   "cell_type": "code",
   "execution_count": null,
   "metadata": {},
   "outputs": [],
   "source": [
    "#code\n"
   ]
  },
  {
   "cell_type": "markdown",
   "metadata": {},
   "source": [
    "#### 5. What are your data types? \n",
    "Display the data types of each feature. "
   ]
  },
  {
   "cell_type": "code",
   "execution_count": 5,
   "metadata": {},
   "outputs": [
    {
     "name": "stdout",
     "output_type": "stream",
     "text": [
      "SAT data types\n",
      "--------------\n",
      "State                                 object\n",
      "Participation                         object\n",
      "Evidence-Based Reading and Writing     int64\n",
      "Math                                   int64\n",
      "Total                                  int64\n",
      "dtype: object\n",
      "\n",
      "ACT data types\n",
      "--------------\n",
      "State             object\n",
      "Participation     object\n",
      "English          float64\n",
      "Math             float64\n",
      "Reading          float64\n",
      "Science          float64\n",
      "Composite         object\n",
      "dtype: object\n"
     ]
    }
   ],
   "source": [
    "#code\n",
    "print(\"SAT data types\")\n",
    "print(\"--------------\")\n",
    "print(sat2017_df.dtypes)\n",
    "print(\"\")\n",
    "print(\"ACT data types\")\n",
    "print(\"--------------\")\n",
    "print(act2017_df.dtypes)"
   ]
  },
  {
   "cell_type": "markdown",
   "metadata": {},
   "source": [
    "What did you learn?\n",
    "- Do any of them seem odd?  \n",
    "- Which ones are not as they should be?  "
   ]
  },
  {
   "cell_type": "markdown",
   "metadata": {},
   "source": [
    "Participation and Composite should be a numerical data type"
   ]
  },
  {
   "cell_type": "markdown",
   "metadata": {},
   "source": [
    "#### 6. Fix Incorrect Data Types\n",
    "Based on what you discovered above, use appropriate methods to re-type incorrectly typed data.\n",
    "- Define a function that will allow you to convert participation rates to an appropriate numeric type. Use `map` or `apply` to change these columns in each dataframe."
   ]
  },
  {
   "cell_type": "code",
   "execution_count": 6,
   "metadata": {},
   "outputs": [],
   "source": [
    "#code\n",
    "def convertParticipation(dataframe,colname):\n",
    "    dataframe[colname]=dataframe[colname].apply(lambda x:float(x.replace('%','')))\n",
    "    \n",
    "def convertColFloat(dataframe,colname):\n",
    "        try:\n",
    "            dataframe[colname]=dataframe[colname].apply(lambda x:float(x))\n",
    "        except ValueError:\n",
    "            dataframe[colname]=dataframe[colname].apply(lambda x:float(x.replace('x','')))\n",
    "\n",
    "convertParticipation(sat2017_df,'Participation')\n"
   ]
  },
  {
   "cell_type": "markdown",
   "metadata": {},
   "source": [
    "- Fix any individual values preventing other columns from being the appropriate type."
   ]
  },
  {
   "cell_type": "code",
   "execution_count": 7,
   "metadata": {},
   "outputs": [],
   "source": [
    "#code\n",
    "convertParticipation(act2017_df,'Participation')\n",
    "convertColFloat(act2017_df,'Composite')"
   ]
  },
  {
   "cell_type": "markdown",
   "metadata": {},
   "source": [
    "- Finish your data modifications by making sure the columns are now typed appropriately."
   ]
  },
  {
   "cell_type": "code",
   "execution_count": 8,
   "metadata": {},
   "outputs": [
    {
     "name": "stdout",
     "output_type": "stream",
     "text": [
      "SAT data types\n",
      "--------------\n",
      "State                                  object\n",
      "Participation                         float64\n",
      "Evidence-Based Reading and Writing      int64\n",
      "Math                                    int64\n",
      "Total                                   int64\n",
      "dtype: object\n",
      "\n",
      "ACT data types\n",
      "--------------\n",
      "State             object\n",
      "Participation    float64\n",
      "English          float64\n",
      "Math             float64\n",
      "Reading          float64\n",
      "Science          float64\n",
      "Composite        float64\n",
      "dtype: object\n"
     ]
    }
   ],
   "source": [
    "#code\n",
    "print(\"SAT data types\")\n",
    "print(\"--------------\")\n",
    "print(sat2017_df.dtypes)\n",
    "print(\"\")\n",
    "print(\"ACT data types\")\n",
    "print(\"--------------\")\n",
    "print(act2017_df.dtypes)"
   ]
  },
  {
   "cell_type": "markdown",
   "metadata": {},
   "source": [
    "- Display the data types again to confirm they are correct."
   ]
  },
  {
   "cell_type": "code",
   "execution_count": 9,
   "metadata": {
    "scrolled": false
   },
   "outputs": [
    {
     "name": "stdout",
     "output_type": "stream",
     "text": [
      "\n",
      "SAT data types\n",
      "--------------\n",
      "                   State  Participation  Evidence-Based Reading and Writing  \\\n",
      "0                Alabama            5.0                                 593   \n",
      "1                 Alaska           38.0                                 547   \n",
      "2                Arizona           30.0                                 563   \n",
      "3               Arkansas            3.0                                 614   \n",
      "4             California           53.0                                 531   \n",
      "5               Colorado           11.0                                 606   \n",
      "6            Connecticut          100.0                                 530   \n",
      "7               Delaware          100.0                                 503   \n",
      "8   District of Columbia          100.0                                 482   \n",
      "9                Florida           83.0                                 520   \n",
      "10               Georgia           61.0                                 535   \n",
      "11                Hawaii           55.0                                 544   \n",
      "12                 Idaho           93.0                                 513   \n",
      "13              Illinois            9.0                                 559   \n",
      "14               Indiana           63.0                                 542   \n",
      "15                  Iowa            2.0                                 641   \n",
      "16                Kansas            4.0                                 632   \n",
      "17              Kentucky            4.0                                 631   \n",
      "18             Louisiana            4.0                                 611   \n",
      "19                 Maine           95.0                                 513   \n",
      "20              Maryland           69.0                                 536   \n",
      "21         Massachusetts           76.0                                 555   \n",
      "22              Michigan          100.0                                 509   \n",
      "23             Minnesota            3.0                                 644   \n",
      "24           Mississippi            2.0                                 634   \n",
      "25              Missouri            3.0                                 640   \n",
      "26               Montana           10.0                                 605   \n",
      "27              Nebraska            3.0                                 629   \n",
      "28                Nevada           26.0                                 563   \n",
      "29         New Hampshire           96.0                                 532   \n",
      "30            New Jersey           70.0                                 530   \n",
      "31            New Mexico           11.0                                 577   \n",
      "32              New York           67.0                                 528   \n",
      "33        North Carolina           49.0                                 546   \n",
      "34          North Dakota            2.0                                 635   \n",
      "35                  Ohio           12.0                                 578   \n",
      "36              Oklahoma            7.0                                 530   \n",
      "37                Oregon           43.0                                 560   \n",
      "38          Pennsylvania           65.0                                 540   \n",
      "39          Rhode Island           71.0                                 539   \n",
      "40        South Carolina           50.0                                 543   \n",
      "41          South Dakota            3.0                                 612   \n",
      "42             Tennessee            5.0                                 623   \n",
      "43                 Texas           62.0                                 513   \n",
      "44                  Utah            3.0                                 624   \n",
      "45               Vermont           60.0                                 562   \n",
      "46              Virginia           65.0                                 561   \n",
      "47            Washington           64.0                                 541   \n",
      "48         West Virginia           14.0                                 558   \n",
      "49             Wisconsin            3.0                                 642   \n",
      "50               Wyoming            3.0                                 626   \n",
      "\n",
      "    Math  Total  \n",
      "0    572   1165  \n",
      "1    533   1080  \n",
      "2    553   1116  \n",
      "3    594   1208  \n",
      "4    524   1055  \n",
      "5    595   1201  \n",
      "6    512   1041  \n",
      "7    492    996  \n",
      "8    468    950  \n",
      "9    497   1017  \n",
      "10   515   1050  \n",
      "11   541   1085  \n",
      "12   493   1005  \n",
      "13   556   1115  \n",
      "14   532   1074  \n",
      "15   635   1275  \n",
      "16   628   1260  \n",
      "17   616   1247  \n",
      "18   586   1198  \n",
      "19   499   1012  \n",
      "20    52   1060  \n",
      "21   551   1107  \n",
      "22   495   1005  \n",
      "23   651   1295  \n",
      "24   607   1242  \n",
      "25   631   1271  \n",
      "26   591   1196  \n",
      "27   625   1253  \n",
      "28   553   1116  \n",
      "29   520   1052  \n",
      "30   526   1056  \n",
      "31   561   1138  \n",
      "32   523   1052  \n",
      "33   535   1081  \n",
      "34   621   1256  \n",
      "35   570   1149  \n",
      "36   517   1047  \n",
      "37   548   1108  \n",
      "38   531   1071  \n",
      "39   524   1062  \n",
      "40   521   1064  \n",
      "41   603   1216  \n",
      "42   604   1228  \n",
      "43   507   1020  \n",
      "44   614   1238  \n",
      "45   551   1114  \n",
      "46   541   1102  \n",
      "47   534   1075  \n",
      "48   528   1086  \n",
      "49   649   1291  \n",
      "50   604   1230  \n",
      "\n",
      "ACT data types\n",
      "--------------\n",
      "                   State  Participation  English  Math  Reading  Science  \\\n",
      "0               National           60.0     20.3  20.7     21.4     21.0   \n",
      "1                Alabama          100.0     18.9  18.4     19.7     19.4   \n",
      "2                 Alaska           65.0     18.7  19.8     20.4     19.9   \n",
      "3                Arizona           62.0     18.6  19.8     20.1     19.8   \n",
      "4               Arkansas          100.0     18.9  19.0     19.7     19.5   \n",
      "5             California           31.0     22.5  22.7     23.1     22.2   \n",
      "6               Colorado          100.0     20.1  20.3     21.2     20.9   \n",
      "7            Connecticut           31.0     25.5  24.6     25.6     24.6   \n",
      "8               Delaware           18.0     24.1  23.4     24.8     23.6   \n",
      "9   District of Columbia           32.0     24.4  23.5     24.9     23.5   \n",
      "10               Florida           73.0     19.0  19.4     21.0     19.4   \n",
      "11               Georgia           55.0     21.0  20.9     22.0     21.3   \n",
      "12                Hawaii           90.0     17.8  19.2     19.2     19.3   \n",
      "13                 Idaho           38.0     21.9  21.8     23.0     22.1   \n",
      "14              Illinois           93.0     21.0  21.2     21.6     21.3   \n",
      "15               Indiana           35.0     22.0  22.4     23.2     22.3   \n",
      "16                  Iowa           67.0     21.2  21.3     22.6     22.1   \n",
      "17                Kansas           73.0     21.1  21.3     22.3     21.7   \n",
      "18              Kentucky          100.0     19.6  19.4     20.5     20.1   \n",
      "19             Louisiana          100.0     19.4  18.8     19.8     19.6   \n",
      "20                 Maine            8.0     24.2  24.0     24.8     23.7   \n",
      "21              Maryland           28.0     23.3  23.1     24.2      2.3   \n",
      "22         Massachusetts           29.0     25.4  25.3     25.9     24.7   \n",
      "23              Michigan           29.0     24.1  23.7     24.5     23.8   \n",
      "24             Minnesota          100.0     20.4  21.5     21.8     21.6   \n",
      "25           Mississippi          100.0     18.2  18.1     18.8     18.8   \n",
      "26              Missouri          100.0     19.8  19.9     20.8     20.5   \n",
      "27               Montana          100.0     19.0  20.2     21.0     20.5   \n",
      "28              Nebraska           84.0     20.9  20.9     21.9     21.5   \n",
      "29                Nevada          100.0     16.3  18.0     18.1     18.2   \n",
      "30         New Hampshire           18.0     25.4  25.1     26.0     24.9   \n",
      "31            New Jersey           34.0     23.8  23.8     24.1     23.2   \n",
      "32            New Mexico           66.0     18.6  19.4     20.4     20.0   \n",
      "33              New York           31.0     23.8  24.0     24.6     23.9   \n",
      "34        North Carolina          100.0     17.8  19.3     19.6     19.3   \n",
      "35          North Dakota           98.0     19.0  20.4     20.5     20.6   \n",
      "36                  Ohio           75.0     21.2  21.6     22.5     22.0   \n",
      "37              Oklahoma          100.0     18.5  18.8     20.1     19.6   \n",
      "38                Oregon           40.0     21.2  21.5     22.4     21.7   \n",
      "39          Pennsylvania           23.0     23.4  23.4     24.2     23.3   \n",
      "40          Rhode Island           21.0     24.0  23.3     24.7     23.4   \n",
      "41        South Carolina          100.0     17.5  18.6     19.1     18.9   \n",
      "42          South Dakota           80.0     20.7  21.5     22.3     22.0   \n",
      "43             Tennessee          100.0     19.5  19.2     20.1     19.9   \n",
      "44                 Texas           45.0     19.5  20.7     21.1     20.9   \n",
      "45                  Utah          100.0     19.5  19.9     20.8     20.6   \n",
      "46               Vermont           29.0     23.3  23.1     24.4     23.2   \n",
      "47              Virginia           29.0     23.5  23.3     24.6     23.5   \n",
      "48            Washington           29.0     20.9  21.9     22.1     22.0   \n",
      "49         West Virginia           69.0     20.0  19.4     21.2     20.5   \n",
      "50             Wisconsin          100.0     19.7  20.4     20.6     20.9   \n",
      "51               Wyoming          100.0     19.4  19.8     20.8     20.6   \n",
      "\n",
      "    Composite  \n",
      "0        21.0  \n",
      "1        19.2  \n",
      "2        19.8  \n",
      "3        19.7  \n",
      "4        19.4  \n",
      "5        22.8  \n",
      "6        20.8  \n",
      "7        25.2  \n",
      "8        24.1  \n",
      "9        24.2  \n",
      "10       19.8  \n",
      "11       21.4  \n",
      "12       19.0  \n",
      "13       22.3  \n",
      "14       21.4  \n",
      "15       22.6  \n",
      "16       21.9  \n",
      "17       21.7  \n",
      "18       20.0  \n",
      "19       19.5  \n",
      "20       24.3  \n",
      "21       23.6  \n",
      "22       25.4  \n",
      "23       24.1  \n",
      "24       21.5  \n",
      "25       18.6  \n",
      "26       20.4  \n",
      "27       20.3  \n",
      "28       21.4  \n",
      "29       17.8  \n",
      "30       25.5  \n",
      "31       23.9  \n",
      "32       19.7  \n",
      "33       24.2  \n",
      "34       19.1  \n",
      "35       20.3  \n",
      "36       22.0  \n",
      "37       19.4  \n",
      "38       21.8  \n",
      "39       23.7  \n",
      "40       24.0  \n",
      "41       18.7  \n",
      "42       21.8  \n",
      "43       19.8  \n",
      "44       20.7  \n",
      "45       20.3  \n",
      "46       23.6  \n",
      "47       23.8  \n",
      "48       21.9  \n",
      "49       20.4  \n",
      "50       20.5  \n",
      "51       20.2  \n"
     ]
    }
   ],
   "source": [
    "#Code:\n",
    "print()\n",
    "print(\"SAT data types\")\n",
    "print(\"--------------\")\n",
    "print(sat2017_df)\n",
    "print(\"\")\n",
    "print(\"ACT data types\")\n",
    "print(\"--------------\")\n",
    "print(act2017_df)"
   ]
  },
  {
   "cell_type": "markdown",
   "metadata": {},
   "source": [
    "#### 7. Rename Columns\n",
    "Change the names of the columns to more expressive names so that you can tell the difference the SAT columns and the ACT columns. Your solution should map all column names being changed at once (no repeated singular name-changes). **We will be combining these data with some of the data from 2018, and so you should name columns in an appropriate way**.\n",
    "\n",
    "**Guidelines**:\n",
    "- Column names should be all lowercase (you will thank yourself when you start pushing data to SQL later in the course)\n",
    "- Column names should not contain spaces (underscores will suffice--this allows for using the `df.column_name` method to access columns in addition to `df['column_name']`.\n",
    "- Column names should be unique and informative (the only feature that we actually share between dataframes is the state)."
   ]
  },
  {
   "cell_type": "code",
   "execution_count": 10,
   "metadata": {},
   "outputs": [],
   "source": [
    "#code\n",
    "\n",
    "sat2017_df.rename(columns={'State':'state',\n",
    "                   'Participation':'sat_participation',\n",
    "                    'Evidence-Based Reading and Writing':'sat_evidence_read_write',\n",
    "                    'Math':'sat_math',\n",
    "                    'Total':'total'},inplace=True)\n",
    "act2017_df.rename(columns={'State':'state',\n",
    "                   'Participation':'act_participation',\n",
    "                    'English':'act_english',\n",
    "                    'Math':'act_math',\n",
    "                    'Reading':'act_reading',\n",
    "                    'Science':'act_science',\n",
    "                    'Composite':'act_composite'},inplace=True)\n",
    "\n",
    "\n"
   ]
  },
  {
   "cell_type": "code",
   "execution_count": 93,
   "metadata": {},
   "outputs": [
    {
     "data": {
      "text/html": [
       "<div>\n",
       "<style scoped>\n",
       "    .dataframe tbody tr th:only-of-type {\n",
       "        vertical-align: middle;\n",
       "    }\n",
       "\n",
       "    .dataframe tbody tr th {\n",
       "        vertical-align: top;\n",
       "    }\n",
       "\n",
       "    .dataframe thead th {\n",
       "        text-align: right;\n",
       "    }\n",
       "</style>\n",
       "<table border=\"1\" class=\"dataframe\">\n",
       "  <thead>\n",
       "    <tr style=\"text-align: right;\">\n",
       "      <th></th>\n",
       "      <th>state</th>\n",
       "      <th>sat_participation</th>\n",
       "      <th>sat_evidence_read_write</th>\n",
       "      <th>sat_math</th>\n",
       "      <th>total</th>\n",
       "    </tr>\n",
       "  </thead>\n",
       "  <tbody>\n",
       "    <tr>\n",
       "      <th>0</th>\n",
       "      <td>Alabama</td>\n",
       "      <td>5.0</td>\n",
       "      <td>593.0</td>\n",
       "      <td>572.0</td>\n",
       "      <td>1165.0</td>\n",
       "    </tr>\n",
       "    <tr>\n",
       "      <th>1</th>\n",
       "      <td>Alaska</td>\n",
       "      <td>38.0</td>\n",
       "      <td>547.0</td>\n",
       "      <td>533.0</td>\n",
       "      <td>1080.0</td>\n",
       "    </tr>\n",
       "    <tr>\n",
       "      <th>2</th>\n",
       "      <td>Arizona</td>\n",
       "      <td>30.0</td>\n",
       "      <td>563.0</td>\n",
       "      <td>553.0</td>\n",
       "      <td>1116.0</td>\n",
       "    </tr>\n",
       "    <tr>\n",
       "      <th>3</th>\n",
       "      <td>Arkansas</td>\n",
       "      <td>3.0</td>\n",
       "      <td>614.0</td>\n",
       "      <td>594.0</td>\n",
       "      <td>1208.0</td>\n",
       "    </tr>\n",
       "    <tr>\n",
       "      <th>4</th>\n",
       "      <td>California</td>\n",
       "      <td>53.0</td>\n",
       "      <td>531.0</td>\n",
       "      <td>524.0</td>\n",
       "      <td>1055.0</td>\n",
       "    </tr>\n",
       "    <tr>\n",
       "      <th>5</th>\n",
       "      <td>Colorado</td>\n",
       "      <td>11.0</td>\n",
       "      <td>606.0</td>\n",
       "      <td>595.0</td>\n",
       "      <td>1201.0</td>\n",
       "    </tr>\n",
       "    <tr>\n",
       "      <th>6</th>\n",
       "      <td>Connecticut</td>\n",
       "      <td>100.0</td>\n",
       "      <td>530.0</td>\n",
       "      <td>512.0</td>\n",
       "      <td>1041.0</td>\n",
       "    </tr>\n",
       "    <tr>\n",
       "      <th>7</th>\n",
       "      <td>Delaware</td>\n",
       "      <td>100.0</td>\n",
       "      <td>503.0</td>\n",
       "      <td>492.0</td>\n",
       "      <td>996.0</td>\n",
       "    </tr>\n",
       "    <tr>\n",
       "      <th>8</th>\n",
       "      <td>District of Columbia</td>\n",
       "      <td>100.0</td>\n",
       "      <td>482.0</td>\n",
       "      <td>468.0</td>\n",
       "      <td>950.0</td>\n",
       "    </tr>\n",
       "    <tr>\n",
       "      <th>9</th>\n",
       "      <td>Florida</td>\n",
       "      <td>83.0</td>\n",
       "      <td>520.0</td>\n",
       "      <td>497.0</td>\n",
       "      <td>1017.0</td>\n",
       "    </tr>\n",
       "    <tr>\n",
       "      <th>10</th>\n",
       "      <td>Georgia</td>\n",
       "      <td>61.0</td>\n",
       "      <td>535.0</td>\n",
       "      <td>515.0</td>\n",
       "      <td>1050.0</td>\n",
       "    </tr>\n",
       "    <tr>\n",
       "      <th>11</th>\n",
       "      <td>Hawaii</td>\n",
       "      <td>55.0</td>\n",
       "      <td>544.0</td>\n",
       "      <td>541.0</td>\n",
       "      <td>1085.0</td>\n",
       "    </tr>\n",
       "    <tr>\n",
       "      <th>12</th>\n",
       "      <td>Idaho</td>\n",
       "      <td>93.0</td>\n",
       "      <td>513.0</td>\n",
       "      <td>493.0</td>\n",
       "      <td>1005.0</td>\n",
       "    </tr>\n",
       "    <tr>\n",
       "      <th>13</th>\n",
       "      <td>Illinois</td>\n",
       "      <td>9.0</td>\n",
       "      <td>559.0</td>\n",
       "      <td>556.0</td>\n",
       "      <td>1115.0</td>\n",
       "    </tr>\n",
       "    <tr>\n",
       "      <th>14</th>\n",
       "      <td>Indiana</td>\n",
       "      <td>63.0</td>\n",
       "      <td>542.0</td>\n",
       "      <td>532.0</td>\n",
       "      <td>1074.0</td>\n",
       "    </tr>\n",
       "    <tr>\n",
       "      <th>15</th>\n",
       "      <td>Iowa</td>\n",
       "      <td>2.0</td>\n",
       "      <td>641.0</td>\n",
       "      <td>635.0</td>\n",
       "      <td>1275.0</td>\n",
       "    </tr>\n",
       "    <tr>\n",
       "      <th>16</th>\n",
       "      <td>Kansas</td>\n",
       "      <td>4.0</td>\n",
       "      <td>632.0</td>\n",
       "      <td>628.0</td>\n",
       "      <td>1260.0</td>\n",
       "    </tr>\n",
       "    <tr>\n",
       "      <th>17</th>\n",
       "      <td>Kentucky</td>\n",
       "      <td>4.0</td>\n",
       "      <td>631.0</td>\n",
       "      <td>616.0</td>\n",
       "      <td>1247.0</td>\n",
       "    </tr>\n",
       "    <tr>\n",
       "      <th>18</th>\n",
       "      <td>Louisiana</td>\n",
       "      <td>4.0</td>\n",
       "      <td>611.0</td>\n",
       "      <td>586.0</td>\n",
       "      <td>1198.0</td>\n",
       "    </tr>\n",
       "    <tr>\n",
       "      <th>19</th>\n",
       "      <td>Maine</td>\n",
       "      <td>95.0</td>\n",
       "      <td>513.0</td>\n",
       "      <td>499.0</td>\n",
       "      <td>1012.0</td>\n",
       "    </tr>\n",
       "    <tr>\n",
       "      <th>20</th>\n",
       "      <td>Maryland</td>\n",
       "      <td>69.0</td>\n",
       "      <td>536.0</td>\n",
       "      <td>52.0</td>\n",
       "      <td>1060.0</td>\n",
       "    </tr>\n",
       "    <tr>\n",
       "      <th>21</th>\n",
       "      <td>Massachusetts</td>\n",
       "      <td>76.0</td>\n",
       "      <td>555.0</td>\n",
       "      <td>551.0</td>\n",
       "      <td>1107.0</td>\n",
       "    </tr>\n",
       "    <tr>\n",
       "      <th>22</th>\n",
       "      <td>Michigan</td>\n",
       "      <td>100.0</td>\n",
       "      <td>509.0</td>\n",
       "      <td>495.0</td>\n",
       "      <td>1005.0</td>\n",
       "    </tr>\n",
       "    <tr>\n",
       "      <th>23</th>\n",
       "      <td>Minnesota</td>\n",
       "      <td>3.0</td>\n",
       "      <td>644.0</td>\n",
       "      <td>651.0</td>\n",
       "      <td>1295.0</td>\n",
       "    </tr>\n",
       "    <tr>\n",
       "      <th>24</th>\n",
       "      <td>Mississippi</td>\n",
       "      <td>2.0</td>\n",
       "      <td>634.0</td>\n",
       "      <td>607.0</td>\n",
       "      <td>1242.0</td>\n",
       "    </tr>\n",
       "    <tr>\n",
       "      <th>25</th>\n",
       "      <td>Missouri</td>\n",
       "      <td>3.0</td>\n",
       "      <td>640.0</td>\n",
       "      <td>631.0</td>\n",
       "      <td>1271.0</td>\n",
       "    </tr>\n",
       "    <tr>\n",
       "      <th>26</th>\n",
       "      <td>Montana</td>\n",
       "      <td>10.0</td>\n",
       "      <td>605.0</td>\n",
       "      <td>591.0</td>\n",
       "      <td>1196.0</td>\n",
       "    </tr>\n",
       "    <tr>\n",
       "      <th>27</th>\n",
       "      <td>Nebraska</td>\n",
       "      <td>3.0</td>\n",
       "      <td>629.0</td>\n",
       "      <td>625.0</td>\n",
       "      <td>1253.0</td>\n",
       "    </tr>\n",
       "    <tr>\n",
       "      <th>28</th>\n",
       "      <td>Nevada</td>\n",
       "      <td>26.0</td>\n",
       "      <td>563.0</td>\n",
       "      <td>553.0</td>\n",
       "      <td>1116.0</td>\n",
       "    </tr>\n",
       "    <tr>\n",
       "      <th>29</th>\n",
       "      <td>New Hampshire</td>\n",
       "      <td>96.0</td>\n",
       "      <td>532.0</td>\n",
       "      <td>520.0</td>\n",
       "      <td>1052.0</td>\n",
       "    </tr>\n",
       "    <tr>\n",
       "      <th>30</th>\n",
       "      <td>New Jersey</td>\n",
       "      <td>70.0</td>\n",
       "      <td>530.0</td>\n",
       "      <td>526.0</td>\n",
       "      <td>1056.0</td>\n",
       "    </tr>\n",
       "    <tr>\n",
       "      <th>31</th>\n",
       "      <td>New Mexico</td>\n",
       "      <td>11.0</td>\n",
       "      <td>577.0</td>\n",
       "      <td>561.0</td>\n",
       "      <td>1138.0</td>\n",
       "    </tr>\n",
       "    <tr>\n",
       "      <th>32</th>\n",
       "      <td>New York</td>\n",
       "      <td>67.0</td>\n",
       "      <td>528.0</td>\n",
       "      <td>523.0</td>\n",
       "      <td>1052.0</td>\n",
       "    </tr>\n",
       "    <tr>\n",
       "      <th>33</th>\n",
       "      <td>North Carolina</td>\n",
       "      <td>49.0</td>\n",
       "      <td>546.0</td>\n",
       "      <td>535.0</td>\n",
       "      <td>1081.0</td>\n",
       "    </tr>\n",
       "    <tr>\n",
       "      <th>34</th>\n",
       "      <td>North Dakota</td>\n",
       "      <td>2.0</td>\n",
       "      <td>635.0</td>\n",
       "      <td>621.0</td>\n",
       "      <td>1256.0</td>\n",
       "    </tr>\n",
       "    <tr>\n",
       "      <th>35</th>\n",
       "      <td>Ohio</td>\n",
       "      <td>12.0</td>\n",
       "      <td>578.0</td>\n",
       "      <td>570.0</td>\n",
       "      <td>1149.0</td>\n",
       "    </tr>\n",
       "    <tr>\n",
       "      <th>36</th>\n",
       "      <td>Oklahoma</td>\n",
       "      <td>7.0</td>\n",
       "      <td>530.0</td>\n",
       "      <td>517.0</td>\n",
       "      <td>1047.0</td>\n",
       "    </tr>\n",
       "    <tr>\n",
       "      <th>37</th>\n",
       "      <td>Oregon</td>\n",
       "      <td>43.0</td>\n",
       "      <td>560.0</td>\n",
       "      <td>548.0</td>\n",
       "      <td>1108.0</td>\n",
       "    </tr>\n",
       "    <tr>\n",
       "      <th>38</th>\n",
       "      <td>Pennsylvania</td>\n",
       "      <td>65.0</td>\n",
       "      <td>540.0</td>\n",
       "      <td>531.0</td>\n",
       "      <td>1071.0</td>\n",
       "    </tr>\n",
       "    <tr>\n",
       "      <th>39</th>\n",
       "      <td>Rhode Island</td>\n",
       "      <td>71.0</td>\n",
       "      <td>539.0</td>\n",
       "      <td>524.0</td>\n",
       "      <td>1062.0</td>\n",
       "    </tr>\n",
       "    <tr>\n",
       "      <th>40</th>\n",
       "      <td>South Carolina</td>\n",
       "      <td>50.0</td>\n",
       "      <td>543.0</td>\n",
       "      <td>521.0</td>\n",
       "      <td>1064.0</td>\n",
       "    </tr>\n",
       "    <tr>\n",
       "      <th>41</th>\n",
       "      <td>South Dakota</td>\n",
       "      <td>3.0</td>\n",
       "      <td>612.0</td>\n",
       "      <td>603.0</td>\n",
       "      <td>1216.0</td>\n",
       "    </tr>\n",
       "    <tr>\n",
       "      <th>42</th>\n",
       "      <td>Tennessee</td>\n",
       "      <td>5.0</td>\n",
       "      <td>623.0</td>\n",
       "      <td>604.0</td>\n",
       "      <td>1228.0</td>\n",
       "    </tr>\n",
       "    <tr>\n",
       "      <th>43</th>\n",
       "      <td>Texas</td>\n",
       "      <td>62.0</td>\n",
       "      <td>513.0</td>\n",
       "      <td>507.0</td>\n",
       "      <td>1020.0</td>\n",
       "    </tr>\n",
       "    <tr>\n",
       "      <th>44</th>\n",
       "      <td>Utah</td>\n",
       "      <td>3.0</td>\n",
       "      <td>624.0</td>\n",
       "      <td>614.0</td>\n",
       "      <td>1238.0</td>\n",
       "    </tr>\n",
       "    <tr>\n",
       "      <th>45</th>\n",
       "      <td>Vermont</td>\n",
       "      <td>60.0</td>\n",
       "      <td>562.0</td>\n",
       "      <td>551.0</td>\n",
       "      <td>1114.0</td>\n",
       "    </tr>\n",
       "    <tr>\n",
       "      <th>46</th>\n",
       "      <td>Virginia</td>\n",
       "      <td>65.0</td>\n",
       "      <td>561.0</td>\n",
       "      <td>541.0</td>\n",
       "      <td>1102.0</td>\n",
       "    </tr>\n",
       "    <tr>\n",
       "      <th>47</th>\n",
       "      <td>Washington</td>\n",
       "      <td>64.0</td>\n",
       "      <td>541.0</td>\n",
       "      <td>534.0</td>\n",
       "      <td>1075.0</td>\n",
       "    </tr>\n",
       "    <tr>\n",
       "      <th>48</th>\n",
       "      <td>West Virginia</td>\n",
       "      <td>14.0</td>\n",
       "      <td>558.0</td>\n",
       "      <td>528.0</td>\n",
       "      <td>1086.0</td>\n",
       "    </tr>\n",
       "    <tr>\n",
       "      <th>49</th>\n",
       "      <td>Wisconsin</td>\n",
       "      <td>3.0</td>\n",
       "      <td>642.0</td>\n",
       "      <td>649.0</td>\n",
       "      <td>1291.0</td>\n",
       "    </tr>\n",
       "    <tr>\n",
       "      <th>50</th>\n",
       "      <td>Wyoming</td>\n",
       "      <td>3.0</td>\n",
       "      <td>626.0</td>\n",
       "      <td>604.0</td>\n",
       "      <td>1230.0</td>\n",
       "    </tr>\n",
       "  </tbody>\n",
       "</table>\n",
       "</div>"
      ],
      "text/plain": [
       "                   state  sat_participation  sat_evidence_read_write  \\\n",
       "0                Alabama                5.0                    593.0   \n",
       "1                 Alaska               38.0                    547.0   \n",
       "2                Arizona               30.0                    563.0   \n",
       "3               Arkansas                3.0                    614.0   \n",
       "4             California               53.0                    531.0   \n",
       "5               Colorado               11.0                    606.0   \n",
       "6            Connecticut              100.0                    530.0   \n",
       "7               Delaware              100.0                    503.0   \n",
       "8   District of Columbia              100.0                    482.0   \n",
       "9                Florida               83.0                    520.0   \n",
       "10               Georgia               61.0                    535.0   \n",
       "11                Hawaii               55.0                    544.0   \n",
       "12                 Idaho               93.0                    513.0   \n",
       "13              Illinois                9.0                    559.0   \n",
       "14               Indiana               63.0                    542.0   \n",
       "15                  Iowa                2.0                    641.0   \n",
       "16                Kansas                4.0                    632.0   \n",
       "17              Kentucky                4.0                    631.0   \n",
       "18             Louisiana                4.0                    611.0   \n",
       "19                 Maine               95.0                    513.0   \n",
       "20              Maryland               69.0                    536.0   \n",
       "21         Massachusetts               76.0                    555.0   \n",
       "22              Michigan              100.0                    509.0   \n",
       "23             Minnesota                3.0                    644.0   \n",
       "24           Mississippi                2.0                    634.0   \n",
       "25              Missouri                3.0                    640.0   \n",
       "26               Montana               10.0                    605.0   \n",
       "27              Nebraska                3.0                    629.0   \n",
       "28                Nevada               26.0                    563.0   \n",
       "29         New Hampshire               96.0                    532.0   \n",
       "30            New Jersey               70.0                    530.0   \n",
       "31            New Mexico               11.0                    577.0   \n",
       "32              New York               67.0                    528.0   \n",
       "33        North Carolina               49.0                    546.0   \n",
       "34          North Dakota                2.0                    635.0   \n",
       "35                  Ohio               12.0                    578.0   \n",
       "36              Oklahoma                7.0                    530.0   \n",
       "37                Oregon               43.0                    560.0   \n",
       "38          Pennsylvania               65.0                    540.0   \n",
       "39          Rhode Island               71.0                    539.0   \n",
       "40        South Carolina               50.0                    543.0   \n",
       "41          South Dakota                3.0                    612.0   \n",
       "42             Tennessee                5.0                    623.0   \n",
       "43                 Texas               62.0                    513.0   \n",
       "44                  Utah                3.0                    624.0   \n",
       "45               Vermont               60.0                    562.0   \n",
       "46              Virginia               65.0                    561.0   \n",
       "47            Washington               64.0                    541.0   \n",
       "48         West Virginia               14.0                    558.0   \n",
       "49             Wisconsin                3.0                    642.0   \n",
       "50               Wyoming                3.0                    626.0   \n",
       "\n",
       "    sat_math   total  \n",
       "0      572.0  1165.0  \n",
       "1      533.0  1080.0  \n",
       "2      553.0  1116.0  \n",
       "3      594.0  1208.0  \n",
       "4      524.0  1055.0  \n",
       "5      595.0  1201.0  \n",
       "6      512.0  1041.0  \n",
       "7      492.0   996.0  \n",
       "8      468.0   950.0  \n",
       "9      497.0  1017.0  \n",
       "10     515.0  1050.0  \n",
       "11     541.0  1085.0  \n",
       "12     493.0  1005.0  \n",
       "13     556.0  1115.0  \n",
       "14     532.0  1074.0  \n",
       "15     635.0  1275.0  \n",
       "16     628.0  1260.0  \n",
       "17     616.0  1247.0  \n",
       "18     586.0  1198.0  \n",
       "19     499.0  1012.0  \n",
       "20      52.0  1060.0  \n",
       "21     551.0  1107.0  \n",
       "22     495.0  1005.0  \n",
       "23     651.0  1295.0  \n",
       "24     607.0  1242.0  \n",
       "25     631.0  1271.0  \n",
       "26     591.0  1196.0  \n",
       "27     625.0  1253.0  \n",
       "28     553.0  1116.0  \n",
       "29     520.0  1052.0  \n",
       "30     526.0  1056.0  \n",
       "31     561.0  1138.0  \n",
       "32     523.0  1052.0  \n",
       "33     535.0  1081.0  \n",
       "34     621.0  1256.0  \n",
       "35     570.0  1149.0  \n",
       "36     517.0  1047.0  \n",
       "37     548.0  1108.0  \n",
       "38     531.0  1071.0  \n",
       "39     524.0  1062.0  \n",
       "40     521.0  1064.0  \n",
       "41     603.0  1216.0  \n",
       "42     604.0  1228.0  \n",
       "43     507.0  1020.0  \n",
       "44     614.0  1238.0  \n",
       "45     551.0  1114.0  \n",
       "46     541.0  1102.0  \n",
       "47     534.0  1075.0  \n",
       "48     528.0  1086.0  \n",
       "49     649.0  1291.0  \n",
       "50     604.0  1230.0  "
      ]
     },
     "execution_count": 93,
     "metadata": {},
     "output_type": "execute_result"
    }
   ],
   "source": [
    "sat2017_df"
   ]
  },
  {
   "cell_type": "code",
   "execution_count": 94,
   "metadata": {},
   "outputs": [
    {
     "data": {
      "text/html": [
       "<div>\n",
       "<style scoped>\n",
       "    .dataframe tbody tr th:only-of-type {\n",
       "        vertical-align: middle;\n",
       "    }\n",
       "\n",
       "    .dataframe tbody tr th {\n",
       "        vertical-align: top;\n",
       "    }\n",
       "\n",
       "    .dataframe thead th {\n",
       "        text-align: right;\n",
       "    }\n",
       "</style>\n",
       "<table border=\"1\" class=\"dataframe\">\n",
       "  <thead>\n",
       "    <tr style=\"text-align: right;\">\n",
       "      <th></th>\n",
       "      <th>state</th>\n",
       "      <th>act_participation</th>\n",
       "      <th>act_english</th>\n",
       "      <th>act_math</th>\n",
       "      <th>act_reading</th>\n",
       "      <th>act_science</th>\n",
       "      <th>act_composite</th>\n",
       "    </tr>\n",
       "  </thead>\n",
       "  <tbody>\n",
       "    <tr>\n",
       "      <th>0</th>\n",
       "      <td>National</td>\n",
       "      <td>60.0</td>\n",
       "      <td>20.3</td>\n",
       "      <td>20.7</td>\n",
       "      <td>21.4</td>\n",
       "      <td>21.0</td>\n",
       "      <td>21.0</td>\n",
       "    </tr>\n",
       "    <tr>\n",
       "      <th>1</th>\n",
       "      <td>Alabama</td>\n",
       "      <td>100.0</td>\n",
       "      <td>18.9</td>\n",
       "      <td>18.4</td>\n",
       "      <td>19.7</td>\n",
       "      <td>19.4</td>\n",
       "      <td>19.2</td>\n",
       "    </tr>\n",
       "    <tr>\n",
       "      <th>2</th>\n",
       "      <td>Alaska</td>\n",
       "      <td>65.0</td>\n",
       "      <td>18.7</td>\n",
       "      <td>19.8</td>\n",
       "      <td>20.4</td>\n",
       "      <td>19.9</td>\n",
       "      <td>19.8</td>\n",
       "    </tr>\n",
       "    <tr>\n",
       "      <th>3</th>\n",
       "      <td>Arizona</td>\n",
       "      <td>62.0</td>\n",
       "      <td>18.6</td>\n",
       "      <td>19.8</td>\n",
       "      <td>20.1</td>\n",
       "      <td>19.8</td>\n",
       "      <td>19.7</td>\n",
       "    </tr>\n",
       "    <tr>\n",
       "      <th>4</th>\n",
       "      <td>Arkansas</td>\n",
       "      <td>100.0</td>\n",
       "      <td>18.9</td>\n",
       "      <td>19.0</td>\n",
       "      <td>19.7</td>\n",
       "      <td>19.5</td>\n",
       "      <td>19.4</td>\n",
       "    </tr>\n",
       "    <tr>\n",
       "      <th>5</th>\n",
       "      <td>California</td>\n",
       "      <td>31.0</td>\n",
       "      <td>22.5</td>\n",
       "      <td>22.7</td>\n",
       "      <td>23.1</td>\n",
       "      <td>22.2</td>\n",
       "      <td>22.8</td>\n",
       "    </tr>\n",
       "    <tr>\n",
       "      <th>6</th>\n",
       "      <td>Colorado</td>\n",
       "      <td>100.0</td>\n",
       "      <td>20.1</td>\n",
       "      <td>20.3</td>\n",
       "      <td>21.2</td>\n",
       "      <td>20.9</td>\n",
       "      <td>20.8</td>\n",
       "    </tr>\n",
       "    <tr>\n",
       "      <th>7</th>\n",
       "      <td>Connecticut</td>\n",
       "      <td>31.0</td>\n",
       "      <td>25.5</td>\n",
       "      <td>24.6</td>\n",
       "      <td>25.6</td>\n",
       "      <td>24.6</td>\n",
       "      <td>25.2</td>\n",
       "    </tr>\n",
       "    <tr>\n",
       "      <th>8</th>\n",
       "      <td>Delaware</td>\n",
       "      <td>18.0</td>\n",
       "      <td>24.1</td>\n",
       "      <td>23.4</td>\n",
       "      <td>24.8</td>\n",
       "      <td>23.6</td>\n",
       "      <td>24.1</td>\n",
       "    </tr>\n",
       "    <tr>\n",
       "      <th>9</th>\n",
       "      <td>District of Columbia</td>\n",
       "      <td>32.0</td>\n",
       "      <td>24.4</td>\n",
       "      <td>23.5</td>\n",
       "      <td>24.9</td>\n",
       "      <td>23.5</td>\n",
       "      <td>24.2</td>\n",
       "    </tr>\n",
       "    <tr>\n",
       "      <th>10</th>\n",
       "      <td>Florida</td>\n",
       "      <td>73.0</td>\n",
       "      <td>19.0</td>\n",
       "      <td>19.4</td>\n",
       "      <td>21.0</td>\n",
       "      <td>19.4</td>\n",
       "      <td>19.8</td>\n",
       "    </tr>\n",
       "    <tr>\n",
       "      <th>11</th>\n",
       "      <td>Georgia</td>\n",
       "      <td>55.0</td>\n",
       "      <td>21.0</td>\n",
       "      <td>20.9</td>\n",
       "      <td>22.0</td>\n",
       "      <td>21.3</td>\n",
       "      <td>21.4</td>\n",
       "    </tr>\n",
       "    <tr>\n",
       "      <th>12</th>\n",
       "      <td>Hawaii</td>\n",
       "      <td>90.0</td>\n",
       "      <td>17.8</td>\n",
       "      <td>19.2</td>\n",
       "      <td>19.2</td>\n",
       "      <td>19.3</td>\n",
       "      <td>19.0</td>\n",
       "    </tr>\n",
       "    <tr>\n",
       "      <th>13</th>\n",
       "      <td>Idaho</td>\n",
       "      <td>38.0</td>\n",
       "      <td>21.9</td>\n",
       "      <td>21.8</td>\n",
       "      <td>23.0</td>\n",
       "      <td>22.1</td>\n",
       "      <td>22.3</td>\n",
       "    </tr>\n",
       "    <tr>\n",
       "      <th>14</th>\n",
       "      <td>Illinois</td>\n",
       "      <td>93.0</td>\n",
       "      <td>21.0</td>\n",
       "      <td>21.2</td>\n",
       "      <td>21.6</td>\n",
       "      <td>21.3</td>\n",
       "      <td>21.4</td>\n",
       "    </tr>\n",
       "    <tr>\n",
       "      <th>15</th>\n",
       "      <td>Indiana</td>\n",
       "      <td>35.0</td>\n",
       "      <td>22.0</td>\n",
       "      <td>22.4</td>\n",
       "      <td>23.2</td>\n",
       "      <td>22.3</td>\n",
       "      <td>22.6</td>\n",
       "    </tr>\n",
       "    <tr>\n",
       "      <th>16</th>\n",
       "      <td>Iowa</td>\n",
       "      <td>67.0</td>\n",
       "      <td>21.2</td>\n",
       "      <td>21.3</td>\n",
       "      <td>22.6</td>\n",
       "      <td>22.1</td>\n",
       "      <td>21.9</td>\n",
       "    </tr>\n",
       "    <tr>\n",
       "      <th>17</th>\n",
       "      <td>Kansas</td>\n",
       "      <td>73.0</td>\n",
       "      <td>21.1</td>\n",
       "      <td>21.3</td>\n",
       "      <td>22.3</td>\n",
       "      <td>21.7</td>\n",
       "      <td>21.7</td>\n",
       "    </tr>\n",
       "    <tr>\n",
       "      <th>18</th>\n",
       "      <td>Kentucky</td>\n",
       "      <td>100.0</td>\n",
       "      <td>19.6</td>\n",
       "      <td>19.4</td>\n",
       "      <td>20.5</td>\n",
       "      <td>20.1</td>\n",
       "      <td>20.0</td>\n",
       "    </tr>\n",
       "    <tr>\n",
       "      <th>19</th>\n",
       "      <td>Louisiana</td>\n",
       "      <td>100.0</td>\n",
       "      <td>19.4</td>\n",
       "      <td>18.8</td>\n",
       "      <td>19.8</td>\n",
       "      <td>19.6</td>\n",
       "      <td>19.5</td>\n",
       "    </tr>\n",
       "    <tr>\n",
       "      <th>20</th>\n",
       "      <td>Maine</td>\n",
       "      <td>8.0</td>\n",
       "      <td>24.2</td>\n",
       "      <td>24.0</td>\n",
       "      <td>24.8</td>\n",
       "      <td>23.7</td>\n",
       "      <td>24.3</td>\n",
       "    </tr>\n",
       "    <tr>\n",
       "      <th>21</th>\n",
       "      <td>Maryland</td>\n",
       "      <td>28.0</td>\n",
       "      <td>23.3</td>\n",
       "      <td>23.1</td>\n",
       "      <td>24.2</td>\n",
       "      <td>2.3</td>\n",
       "      <td>23.6</td>\n",
       "    </tr>\n",
       "    <tr>\n",
       "      <th>22</th>\n",
       "      <td>Massachusetts</td>\n",
       "      <td>29.0</td>\n",
       "      <td>25.4</td>\n",
       "      <td>25.3</td>\n",
       "      <td>25.9</td>\n",
       "      <td>24.7</td>\n",
       "      <td>25.4</td>\n",
       "    </tr>\n",
       "    <tr>\n",
       "      <th>23</th>\n",
       "      <td>Michigan</td>\n",
       "      <td>29.0</td>\n",
       "      <td>24.1</td>\n",
       "      <td>23.7</td>\n",
       "      <td>24.5</td>\n",
       "      <td>23.8</td>\n",
       "      <td>24.1</td>\n",
       "    </tr>\n",
       "    <tr>\n",
       "      <th>24</th>\n",
       "      <td>Minnesota</td>\n",
       "      <td>100.0</td>\n",
       "      <td>20.4</td>\n",
       "      <td>21.5</td>\n",
       "      <td>21.8</td>\n",
       "      <td>21.6</td>\n",
       "      <td>21.5</td>\n",
       "    </tr>\n",
       "    <tr>\n",
       "      <th>25</th>\n",
       "      <td>Mississippi</td>\n",
       "      <td>100.0</td>\n",
       "      <td>18.2</td>\n",
       "      <td>18.1</td>\n",
       "      <td>18.8</td>\n",
       "      <td>18.8</td>\n",
       "      <td>18.6</td>\n",
       "    </tr>\n",
       "    <tr>\n",
       "      <th>26</th>\n",
       "      <td>Missouri</td>\n",
       "      <td>100.0</td>\n",
       "      <td>19.8</td>\n",
       "      <td>19.9</td>\n",
       "      <td>20.8</td>\n",
       "      <td>20.5</td>\n",
       "      <td>20.4</td>\n",
       "    </tr>\n",
       "    <tr>\n",
       "      <th>27</th>\n",
       "      <td>Montana</td>\n",
       "      <td>100.0</td>\n",
       "      <td>19.0</td>\n",
       "      <td>20.2</td>\n",
       "      <td>21.0</td>\n",
       "      <td>20.5</td>\n",
       "      <td>20.3</td>\n",
       "    </tr>\n",
       "    <tr>\n",
       "      <th>28</th>\n",
       "      <td>Nebraska</td>\n",
       "      <td>84.0</td>\n",
       "      <td>20.9</td>\n",
       "      <td>20.9</td>\n",
       "      <td>21.9</td>\n",
       "      <td>21.5</td>\n",
       "      <td>21.4</td>\n",
       "    </tr>\n",
       "    <tr>\n",
       "      <th>29</th>\n",
       "      <td>Nevada</td>\n",
       "      <td>100.0</td>\n",
       "      <td>16.3</td>\n",
       "      <td>18.0</td>\n",
       "      <td>18.1</td>\n",
       "      <td>18.2</td>\n",
       "      <td>17.8</td>\n",
       "    </tr>\n",
       "    <tr>\n",
       "      <th>30</th>\n",
       "      <td>New Hampshire</td>\n",
       "      <td>18.0</td>\n",
       "      <td>25.4</td>\n",
       "      <td>25.1</td>\n",
       "      <td>26.0</td>\n",
       "      <td>24.9</td>\n",
       "      <td>25.5</td>\n",
       "    </tr>\n",
       "    <tr>\n",
       "      <th>31</th>\n",
       "      <td>New Jersey</td>\n",
       "      <td>34.0</td>\n",
       "      <td>23.8</td>\n",
       "      <td>23.8</td>\n",
       "      <td>24.1</td>\n",
       "      <td>23.2</td>\n",
       "      <td>23.9</td>\n",
       "    </tr>\n",
       "    <tr>\n",
       "      <th>32</th>\n",
       "      <td>New Mexico</td>\n",
       "      <td>66.0</td>\n",
       "      <td>18.6</td>\n",
       "      <td>19.4</td>\n",
       "      <td>20.4</td>\n",
       "      <td>20.0</td>\n",
       "      <td>19.7</td>\n",
       "    </tr>\n",
       "    <tr>\n",
       "      <th>33</th>\n",
       "      <td>New York</td>\n",
       "      <td>31.0</td>\n",
       "      <td>23.8</td>\n",
       "      <td>24.0</td>\n",
       "      <td>24.6</td>\n",
       "      <td>23.9</td>\n",
       "      <td>24.2</td>\n",
       "    </tr>\n",
       "    <tr>\n",
       "      <th>34</th>\n",
       "      <td>North Carolina</td>\n",
       "      <td>100.0</td>\n",
       "      <td>17.8</td>\n",
       "      <td>19.3</td>\n",
       "      <td>19.6</td>\n",
       "      <td>19.3</td>\n",
       "      <td>19.1</td>\n",
       "    </tr>\n",
       "    <tr>\n",
       "      <th>35</th>\n",
       "      <td>North Dakota</td>\n",
       "      <td>98.0</td>\n",
       "      <td>19.0</td>\n",
       "      <td>20.4</td>\n",
       "      <td>20.5</td>\n",
       "      <td>20.6</td>\n",
       "      <td>20.3</td>\n",
       "    </tr>\n",
       "    <tr>\n",
       "      <th>36</th>\n",
       "      <td>Ohio</td>\n",
       "      <td>75.0</td>\n",
       "      <td>21.2</td>\n",
       "      <td>21.6</td>\n",
       "      <td>22.5</td>\n",
       "      <td>22.0</td>\n",
       "      <td>22.0</td>\n",
       "    </tr>\n",
       "    <tr>\n",
       "      <th>37</th>\n",
       "      <td>Oklahoma</td>\n",
       "      <td>100.0</td>\n",
       "      <td>18.5</td>\n",
       "      <td>18.8</td>\n",
       "      <td>20.1</td>\n",
       "      <td>19.6</td>\n",
       "      <td>19.4</td>\n",
       "    </tr>\n",
       "    <tr>\n",
       "      <th>38</th>\n",
       "      <td>Oregon</td>\n",
       "      <td>40.0</td>\n",
       "      <td>21.2</td>\n",
       "      <td>21.5</td>\n",
       "      <td>22.4</td>\n",
       "      <td>21.7</td>\n",
       "      <td>21.8</td>\n",
       "    </tr>\n",
       "    <tr>\n",
       "      <th>39</th>\n",
       "      <td>Pennsylvania</td>\n",
       "      <td>23.0</td>\n",
       "      <td>23.4</td>\n",
       "      <td>23.4</td>\n",
       "      <td>24.2</td>\n",
       "      <td>23.3</td>\n",
       "      <td>23.7</td>\n",
       "    </tr>\n",
       "    <tr>\n",
       "      <th>40</th>\n",
       "      <td>Rhode Island</td>\n",
       "      <td>21.0</td>\n",
       "      <td>24.0</td>\n",
       "      <td>23.3</td>\n",
       "      <td>24.7</td>\n",
       "      <td>23.4</td>\n",
       "      <td>24.0</td>\n",
       "    </tr>\n",
       "    <tr>\n",
       "      <th>41</th>\n",
       "      <td>South Carolina</td>\n",
       "      <td>100.0</td>\n",
       "      <td>17.5</td>\n",
       "      <td>18.6</td>\n",
       "      <td>19.1</td>\n",
       "      <td>18.9</td>\n",
       "      <td>18.7</td>\n",
       "    </tr>\n",
       "    <tr>\n",
       "      <th>42</th>\n",
       "      <td>South Dakota</td>\n",
       "      <td>80.0</td>\n",
       "      <td>20.7</td>\n",
       "      <td>21.5</td>\n",
       "      <td>22.3</td>\n",
       "      <td>22.0</td>\n",
       "      <td>21.8</td>\n",
       "    </tr>\n",
       "    <tr>\n",
       "      <th>43</th>\n",
       "      <td>Tennessee</td>\n",
       "      <td>100.0</td>\n",
       "      <td>19.5</td>\n",
       "      <td>19.2</td>\n",
       "      <td>20.1</td>\n",
       "      <td>19.9</td>\n",
       "      <td>19.8</td>\n",
       "    </tr>\n",
       "    <tr>\n",
       "      <th>44</th>\n",
       "      <td>Texas</td>\n",
       "      <td>45.0</td>\n",
       "      <td>19.5</td>\n",
       "      <td>20.7</td>\n",
       "      <td>21.1</td>\n",
       "      <td>20.9</td>\n",
       "      <td>20.7</td>\n",
       "    </tr>\n",
       "    <tr>\n",
       "      <th>45</th>\n",
       "      <td>Utah</td>\n",
       "      <td>100.0</td>\n",
       "      <td>19.5</td>\n",
       "      <td>19.9</td>\n",
       "      <td>20.8</td>\n",
       "      <td>20.6</td>\n",
       "      <td>20.3</td>\n",
       "    </tr>\n",
       "    <tr>\n",
       "      <th>46</th>\n",
       "      <td>Vermont</td>\n",
       "      <td>29.0</td>\n",
       "      <td>23.3</td>\n",
       "      <td>23.1</td>\n",
       "      <td>24.4</td>\n",
       "      <td>23.2</td>\n",
       "      <td>23.6</td>\n",
       "    </tr>\n",
       "    <tr>\n",
       "      <th>47</th>\n",
       "      <td>Virginia</td>\n",
       "      <td>29.0</td>\n",
       "      <td>23.5</td>\n",
       "      <td>23.3</td>\n",
       "      <td>24.6</td>\n",
       "      <td>23.5</td>\n",
       "      <td>23.8</td>\n",
       "    </tr>\n",
       "    <tr>\n",
       "      <th>48</th>\n",
       "      <td>Washington</td>\n",
       "      <td>29.0</td>\n",
       "      <td>20.9</td>\n",
       "      <td>21.9</td>\n",
       "      <td>22.1</td>\n",
       "      <td>22.0</td>\n",
       "      <td>21.9</td>\n",
       "    </tr>\n",
       "    <tr>\n",
       "      <th>49</th>\n",
       "      <td>West Virginia</td>\n",
       "      <td>69.0</td>\n",
       "      <td>20.0</td>\n",
       "      <td>19.4</td>\n",
       "      <td>21.2</td>\n",
       "      <td>20.5</td>\n",
       "      <td>20.4</td>\n",
       "    </tr>\n",
       "    <tr>\n",
       "      <th>50</th>\n",
       "      <td>Wisconsin</td>\n",
       "      <td>100.0</td>\n",
       "      <td>19.7</td>\n",
       "      <td>20.4</td>\n",
       "      <td>20.6</td>\n",
       "      <td>20.9</td>\n",
       "      <td>20.5</td>\n",
       "    </tr>\n",
       "    <tr>\n",
       "      <th>51</th>\n",
       "      <td>Wyoming</td>\n",
       "      <td>100.0</td>\n",
       "      <td>19.4</td>\n",
       "      <td>19.8</td>\n",
       "      <td>20.8</td>\n",
       "      <td>20.6</td>\n",
       "      <td>20.2</td>\n",
       "    </tr>\n",
       "  </tbody>\n",
       "</table>\n",
       "</div>"
      ],
      "text/plain": [
       "                   state  act_participation  act_english  act_math  \\\n",
       "0               National               60.0         20.3      20.7   \n",
       "1                Alabama              100.0         18.9      18.4   \n",
       "2                 Alaska               65.0         18.7      19.8   \n",
       "3                Arizona               62.0         18.6      19.8   \n",
       "4               Arkansas              100.0         18.9      19.0   \n",
       "5             California               31.0         22.5      22.7   \n",
       "6               Colorado              100.0         20.1      20.3   \n",
       "7            Connecticut               31.0         25.5      24.6   \n",
       "8               Delaware               18.0         24.1      23.4   \n",
       "9   District of Columbia               32.0         24.4      23.5   \n",
       "10               Florida               73.0         19.0      19.4   \n",
       "11               Georgia               55.0         21.0      20.9   \n",
       "12                Hawaii               90.0         17.8      19.2   \n",
       "13                 Idaho               38.0         21.9      21.8   \n",
       "14              Illinois               93.0         21.0      21.2   \n",
       "15               Indiana               35.0         22.0      22.4   \n",
       "16                  Iowa               67.0         21.2      21.3   \n",
       "17                Kansas               73.0         21.1      21.3   \n",
       "18              Kentucky              100.0         19.6      19.4   \n",
       "19             Louisiana              100.0         19.4      18.8   \n",
       "20                 Maine                8.0         24.2      24.0   \n",
       "21              Maryland               28.0         23.3      23.1   \n",
       "22         Massachusetts               29.0         25.4      25.3   \n",
       "23              Michigan               29.0         24.1      23.7   \n",
       "24             Minnesota              100.0         20.4      21.5   \n",
       "25           Mississippi              100.0         18.2      18.1   \n",
       "26              Missouri              100.0         19.8      19.9   \n",
       "27               Montana              100.0         19.0      20.2   \n",
       "28              Nebraska               84.0         20.9      20.9   \n",
       "29                Nevada              100.0         16.3      18.0   \n",
       "30         New Hampshire               18.0         25.4      25.1   \n",
       "31            New Jersey               34.0         23.8      23.8   \n",
       "32            New Mexico               66.0         18.6      19.4   \n",
       "33              New York               31.0         23.8      24.0   \n",
       "34        North Carolina              100.0         17.8      19.3   \n",
       "35          North Dakota               98.0         19.0      20.4   \n",
       "36                  Ohio               75.0         21.2      21.6   \n",
       "37              Oklahoma              100.0         18.5      18.8   \n",
       "38                Oregon               40.0         21.2      21.5   \n",
       "39          Pennsylvania               23.0         23.4      23.4   \n",
       "40          Rhode Island               21.0         24.0      23.3   \n",
       "41        South Carolina              100.0         17.5      18.6   \n",
       "42          South Dakota               80.0         20.7      21.5   \n",
       "43             Tennessee              100.0         19.5      19.2   \n",
       "44                 Texas               45.0         19.5      20.7   \n",
       "45                  Utah              100.0         19.5      19.9   \n",
       "46               Vermont               29.0         23.3      23.1   \n",
       "47              Virginia               29.0         23.5      23.3   \n",
       "48            Washington               29.0         20.9      21.9   \n",
       "49         West Virginia               69.0         20.0      19.4   \n",
       "50             Wisconsin              100.0         19.7      20.4   \n",
       "51               Wyoming              100.0         19.4      19.8   \n",
       "\n",
       "    act_reading  act_science  act_composite  \n",
       "0          21.4         21.0           21.0  \n",
       "1          19.7         19.4           19.2  \n",
       "2          20.4         19.9           19.8  \n",
       "3          20.1         19.8           19.7  \n",
       "4          19.7         19.5           19.4  \n",
       "5          23.1         22.2           22.8  \n",
       "6          21.2         20.9           20.8  \n",
       "7          25.6         24.6           25.2  \n",
       "8          24.8         23.6           24.1  \n",
       "9          24.9         23.5           24.2  \n",
       "10         21.0         19.4           19.8  \n",
       "11         22.0         21.3           21.4  \n",
       "12         19.2         19.3           19.0  \n",
       "13         23.0         22.1           22.3  \n",
       "14         21.6         21.3           21.4  \n",
       "15         23.2         22.3           22.6  \n",
       "16         22.6         22.1           21.9  \n",
       "17         22.3         21.7           21.7  \n",
       "18         20.5         20.1           20.0  \n",
       "19         19.8         19.6           19.5  \n",
       "20         24.8         23.7           24.3  \n",
       "21         24.2          2.3           23.6  \n",
       "22         25.9         24.7           25.4  \n",
       "23         24.5         23.8           24.1  \n",
       "24         21.8         21.6           21.5  \n",
       "25         18.8         18.8           18.6  \n",
       "26         20.8         20.5           20.4  \n",
       "27         21.0         20.5           20.3  \n",
       "28         21.9         21.5           21.4  \n",
       "29         18.1         18.2           17.8  \n",
       "30         26.0         24.9           25.5  \n",
       "31         24.1         23.2           23.9  \n",
       "32         20.4         20.0           19.7  \n",
       "33         24.6         23.9           24.2  \n",
       "34         19.6         19.3           19.1  \n",
       "35         20.5         20.6           20.3  \n",
       "36         22.5         22.0           22.0  \n",
       "37         20.1         19.6           19.4  \n",
       "38         22.4         21.7           21.8  \n",
       "39         24.2         23.3           23.7  \n",
       "40         24.7         23.4           24.0  \n",
       "41         19.1         18.9           18.7  \n",
       "42         22.3         22.0           21.8  \n",
       "43         20.1         19.9           19.8  \n",
       "44         21.1         20.9           20.7  \n",
       "45         20.8         20.6           20.3  \n",
       "46         24.4         23.2           23.6  \n",
       "47         24.6         23.5           23.8  \n",
       "48         22.1         22.0           21.9  \n",
       "49         21.2         20.5           20.4  \n",
       "50         20.6         20.9           20.5  \n",
       "51         20.8         20.6           20.2  "
      ]
     },
     "execution_count": 94,
     "metadata": {},
     "output_type": "execute_result"
    }
   ],
   "source": [
    "\n",
    "act2017_df"
   ]
  },
  {
   "cell_type": "markdown",
   "metadata": {},
   "source": [
    "#### 8. Create a data dictionary\n",
    "\n",
    "Now that we've fixed our data, and given it appropriate names, let's create a [data dictionary](http://library.ucmerced.edu/node/10249). \n",
    "\n",
    "A data dictionary provides a quick overview of features/variables/columns, alongside data types and descriptions. The more descriptive you can be, the more useful this document is.\n",
    "\n",
    "Example of a Fictional Data Dictionary Entry: \n",
    "\n",
    "|Feature|Type|Dataset|Description|\n",
    "|---|---|---|---|\n",
    "|**county_pop**|*integer*|2010 census|The population of the county (units in thousands, where 2.5 represents 2500 people).| \n",
    "|**per_poverty**|*float*|2010 census|The percent of the county over the age of 18 living below the 200% of official US poverty rate (units percent to two decimal places 98.10 means 98.1%)|\n",
    "\n",
    "[Here's a quick link to a short guide for formatting markdown in Jupyter notebooks](https://jupyter-notebook.readthedocs.io/en/stable/examples/Notebook/Working%20With%20Markdown%20Cells.html).\n",
    "\n",
    "Provided is the skeleton for formatting a markdown table, with columns headers that will help you create a data dictionary to quickly summarize your data, as well as some examples. **This would be a great thing to copy and paste into your custom README for this project.**"
   ]
  },
  {
   "cell_type": "markdown",
   "metadata": {},
   "source": [
    "|Feature|Type|Dataset|Description|\n",
    "|---|---|---|---|\n",
    "|column name|int/float/object|ACT/SAT|This is an example| \n"
   ]
  },
  {
   "cell_type": "markdown",
   "metadata": {},
   "source": [
    "\n",
    "**SAT 2017**\n",
    "\n",
    "|Feature|Type|Dataset|Description|\n",
    "|---|---|---|---|\n",
    "|state|object|SAT 2017|States participating in SAT| \n",
    "|sat_participation|float|SAT 2017|participation Percentage of SAT| \n",
    "|sat_evidence_read_write|int|SAT 2017|Score for SAT Evidence Read Write| \n",
    "|sat_math|int|SAT 2017|Score for SAT Math|\n",
    "|total|int|SAT 2017|Total Score for Evidence Read Write and Math| \n",
    "\n",
    "**ACT 2017**\n",
    "\n",
    "|Feature|Type|Dataset|Description|\n",
    "|---|---|---|---|\n",
    "|state|object|ACT 2017|States participating in SAT| \n",
    "|act_participation|float|ACT 2017|participation Percentage of SAT| \n",
    "|act_english|int|ACT 2017|Score for ACT English| \n",
    "|act_math|float|ACT 2017|Score for ACT Math|\n",
    "|act_reading|float|ACT 2017|Score for ACT Reading|\n",
    "|act_science|float|ACT 2017|Score for ACT Science|\n",
    "|composite|float|ACT 2017|Composite Score for ACT| "
   ]
  },
  {
   "cell_type": "markdown",
   "metadata": {},
   "source": [
    "#### 9. Drop unnecessary rows\n",
    "\n",
    "One of our dataframes contains an extra row. Identify and remove this from the dataframe."
   ]
  },
  {
   "cell_type": "code",
   "execution_count": 11,
   "metadata": {},
   "outputs": [
    {
     "data": {
      "text/html": [
       "<div>\n",
       "<style scoped>\n",
       "    .dataframe tbody tr th:only-of-type {\n",
       "        vertical-align: middle;\n",
       "    }\n",
       "\n",
       "    .dataframe tbody tr th {\n",
       "        vertical-align: top;\n",
       "    }\n",
       "\n",
       "    .dataframe thead th {\n",
       "        text-align: right;\n",
       "    }\n",
       "</style>\n",
       "<table border=\"1\" class=\"dataframe\">\n",
       "  <thead>\n",
       "    <tr style=\"text-align: right;\">\n",
       "      <th></th>\n",
       "      <th>state</th>\n",
       "      <th>act_participation</th>\n",
       "      <th>act_english</th>\n",
       "      <th>act_math</th>\n",
       "      <th>act_reading</th>\n",
       "      <th>act_science</th>\n",
       "      <th>act_composite</th>\n",
       "    </tr>\n",
       "  </thead>\n",
       "  <tbody>\n",
       "    <tr>\n",
       "      <th>1</th>\n",
       "      <td>Alabama</td>\n",
       "      <td>100.0</td>\n",
       "      <td>18.9</td>\n",
       "      <td>18.4</td>\n",
       "      <td>19.7</td>\n",
       "      <td>19.4</td>\n",
       "      <td>19.2</td>\n",
       "    </tr>\n",
       "    <tr>\n",
       "      <th>2</th>\n",
       "      <td>Alaska</td>\n",
       "      <td>65.0</td>\n",
       "      <td>18.7</td>\n",
       "      <td>19.8</td>\n",
       "      <td>20.4</td>\n",
       "      <td>19.9</td>\n",
       "      <td>19.8</td>\n",
       "    </tr>\n",
       "    <tr>\n",
       "      <th>3</th>\n",
       "      <td>Arizona</td>\n",
       "      <td>62.0</td>\n",
       "      <td>18.6</td>\n",
       "      <td>19.8</td>\n",
       "      <td>20.1</td>\n",
       "      <td>19.8</td>\n",
       "      <td>19.7</td>\n",
       "    </tr>\n",
       "    <tr>\n",
       "      <th>4</th>\n",
       "      <td>Arkansas</td>\n",
       "      <td>100.0</td>\n",
       "      <td>18.9</td>\n",
       "      <td>19.0</td>\n",
       "      <td>19.7</td>\n",
       "      <td>19.5</td>\n",
       "      <td>19.4</td>\n",
       "    </tr>\n",
       "    <tr>\n",
       "      <th>5</th>\n",
       "      <td>California</td>\n",
       "      <td>31.0</td>\n",
       "      <td>22.5</td>\n",
       "      <td>22.7</td>\n",
       "      <td>23.1</td>\n",
       "      <td>22.2</td>\n",
       "      <td>22.8</td>\n",
       "    </tr>\n",
       "    <tr>\n",
       "      <th>6</th>\n",
       "      <td>Colorado</td>\n",
       "      <td>100.0</td>\n",
       "      <td>20.1</td>\n",
       "      <td>20.3</td>\n",
       "      <td>21.2</td>\n",
       "      <td>20.9</td>\n",
       "      <td>20.8</td>\n",
       "    </tr>\n",
       "    <tr>\n",
       "      <th>7</th>\n",
       "      <td>Connecticut</td>\n",
       "      <td>31.0</td>\n",
       "      <td>25.5</td>\n",
       "      <td>24.6</td>\n",
       "      <td>25.6</td>\n",
       "      <td>24.6</td>\n",
       "      <td>25.2</td>\n",
       "    </tr>\n",
       "    <tr>\n",
       "      <th>8</th>\n",
       "      <td>Delaware</td>\n",
       "      <td>18.0</td>\n",
       "      <td>24.1</td>\n",
       "      <td>23.4</td>\n",
       "      <td>24.8</td>\n",
       "      <td>23.6</td>\n",
       "      <td>24.1</td>\n",
       "    </tr>\n",
       "    <tr>\n",
       "      <th>9</th>\n",
       "      <td>District of Columbia</td>\n",
       "      <td>32.0</td>\n",
       "      <td>24.4</td>\n",
       "      <td>23.5</td>\n",
       "      <td>24.9</td>\n",
       "      <td>23.5</td>\n",
       "      <td>24.2</td>\n",
       "    </tr>\n",
       "    <tr>\n",
       "      <th>10</th>\n",
       "      <td>Florida</td>\n",
       "      <td>73.0</td>\n",
       "      <td>19.0</td>\n",
       "      <td>19.4</td>\n",
       "      <td>21.0</td>\n",
       "      <td>19.4</td>\n",
       "      <td>19.8</td>\n",
       "    </tr>\n",
       "    <tr>\n",
       "      <th>11</th>\n",
       "      <td>Georgia</td>\n",
       "      <td>55.0</td>\n",
       "      <td>21.0</td>\n",
       "      <td>20.9</td>\n",
       "      <td>22.0</td>\n",
       "      <td>21.3</td>\n",
       "      <td>21.4</td>\n",
       "    </tr>\n",
       "    <tr>\n",
       "      <th>12</th>\n",
       "      <td>Hawaii</td>\n",
       "      <td>90.0</td>\n",
       "      <td>17.8</td>\n",
       "      <td>19.2</td>\n",
       "      <td>19.2</td>\n",
       "      <td>19.3</td>\n",
       "      <td>19.0</td>\n",
       "    </tr>\n",
       "    <tr>\n",
       "      <th>13</th>\n",
       "      <td>Idaho</td>\n",
       "      <td>38.0</td>\n",
       "      <td>21.9</td>\n",
       "      <td>21.8</td>\n",
       "      <td>23.0</td>\n",
       "      <td>22.1</td>\n",
       "      <td>22.3</td>\n",
       "    </tr>\n",
       "    <tr>\n",
       "      <th>14</th>\n",
       "      <td>Illinois</td>\n",
       "      <td>93.0</td>\n",
       "      <td>21.0</td>\n",
       "      <td>21.2</td>\n",
       "      <td>21.6</td>\n",
       "      <td>21.3</td>\n",
       "      <td>21.4</td>\n",
       "    </tr>\n",
       "    <tr>\n",
       "      <th>15</th>\n",
       "      <td>Indiana</td>\n",
       "      <td>35.0</td>\n",
       "      <td>22.0</td>\n",
       "      <td>22.4</td>\n",
       "      <td>23.2</td>\n",
       "      <td>22.3</td>\n",
       "      <td>22.6</td>\n",
       "    </tr>\n",
       "    <tr>\n",
       "      <th>16</th>\n",
       "      <td>Iowa</td>\n",
       "      <td>67.0</td>\n",
       "      <td>21.2</td>\n",
       "      <td>21.3</td>\n",
       "      <td>22.6</td>\n",
       "      <td>22.1</td>\n",
       "      <td>21.9</td>\n",
       "    </tr>\n",
       "    <tr>\n",
       "      <th>17</th>\n",
       "      <td>Kansas</td>\n",
       "      <td>73.0</td>\n",
       "      <td>21.1</td>\n",
       "      <td>21.3</td>\n",
       "      <td>22.3</td>\n",
       "      <td>21.7</td>\n",
       "      <td>21.7</td>\n",
       "    </tr>\n",
       "    <tr>\n",
       "      <th>18</th>\n",
       "      <td>Kentucky</td>\n",
       "      <td>100.0</td>\n",
       "      <td>19.6</td>\n",
       "      <td>19.4</td>\n",
       "      <td>20.5</td>\n",
       "      <td>20.1</td>\n",
       "      <td>20.0</td>\n",
       "    </tr>\n",
       "    <tr>\n",
       "      <th>19</th>\n",
       "      <td>Louisiana</td>\n",
       "      <td>100.0</td>\n",
       "      <td>19.4</td>\n",
       "      <td>18.8</td>\n",
       "      <td>19.8</td>\n",
       "      <td>19.6</td>\n",
       "      <td>19.5</td>\n",
       "    </tr>\n",
       "    <tr>\n",
       "      <th>20</th>\n",
       "      <td>Maine</td>\n",
       "      <td>8.0</td>\n",
       "      <td>24.2</td>\n",
       "      <td>24.0</td>\n",
       "      <td>24.8</td>\n",
       "      <td>23.7</td>\n",
       "      <td>24.3</td>\n",
       "    </tr>\n",
       "    <tr>\n",
       "      <th>21</th>\n",
       "      <td>Maryland</td>\n",
       "      <td>28.0</td>\n",
       "      <td>23.3</td>\n",
       "      <td>23.1</td>\n",
       "      <td>24.2</td>\n",
       "      <td>2.3</td>\n",
       "      <td>23.6</td>\n",
       "    </tr>\n",
       "    <tr>\n",
       "      <th>22</th>\n",
       "      <td>Massachusetts</td>\n",
       "      <td>29.0</td>\n",
       "      <td>25.4</td>\n",
       "      <td>25.3</td>\n",
       "      <td>25.9</td>\n",
       "      <td>24.7</td>\n",
       "      <td>25.4</td>\n",
       "    </tr>\n",
       "    <tr>\n",
       "      <th>23</th>\n",
       "      <td>Michigan</td>\n",
       "      <td>29.0</td>\n",
       "      <td>24.1</td>\n",
       "      <td>23.7</td>\n",
       "      <td>24.5</td>\n",
       "      <td>23.8</td>\n",
       "      <td>24.1</td>\n",
       "    </tr>\n",
       "    <tr>\n",
       "      <th>24</th>\n",
       "      <td>Minnesota</td>\n",
       "      <td>100.0</td>\n",
       "      <td>20.4</td>\n",
       "      <td>21.5</td>\n",
       "      <td>21.8</td>\n",
       "      <td>21.6</td>\n",
       "      <td>21.5</td>\n",
       "    </tr>\n",
       "    <tr>\n",
       "      <th>25</th>\n",
       "      <td>Mississippi</td>\n",
       "      <td>100.0</td>\n",
       "      <td>18.2</td>\n",
       "      <td>18.1</td>\n",
       "      <td>18.8</td>\n",
       "      <td>18.8</td>\n",
       "      <td>18.6</td>\n",
       "    </tr>\n",
       "    <tr>\n",
       "      <th>26</th>\n",
       "      <td>Missouri</td>\n",
       "      <td>100.0</td>\n",
       "      <td>19.8</td>\n",
       "      <td>19.9</td>\n",
       "      <td>20.8</td>\n",
       "      <td>20.5</td>\n",
       "      <td>20.4</td>\n",
       "    </tr>\n",
       "    <tr>\n",
       "      <th>27</th>\n",
       "      <td>Montana</td>\n",
       "      <td>100.0</td>\n",
       "      <td>19.0</td>\n",
       "      <td>20.2</td>\n",
       "      <td>21.0</td>\n",
       "      <td>20.5</td>\n",
       "      <td>20.3</td>\n",
       "    </tr>\n",
       "    <tr>\n",
       "      <th>28</th>\n",
       "      <td>Nebraska</td>\n",
       "      <td>84.0</td>\n",
       "      <td>20.9</td>\n",
       "      <td>20.9</td>\n",
       "      <td>21.9</td>\n",
       "      <td>21.5</td>\n",
       "      <td>21.4</td>\n",
       "    </tr>\n",
       "    <tr>\n",
       "      <th>29</th>\n",
       "      <td>Nevada</td>\n",
       "      <td>100.0</td>\n",
       "      <td>16.3</td>\n",
       "      <td>18.0</td>\n",
       "      <td>18.1</td>\n",
       "      <td>18.2</td>\n",
       "      <td>17.8</td>\n",
       "    </tr>\n",
       "    <tr>\n",
       "      <th>30</th>\n",
       "      <td>New Hampshire</td>\n",
       "      <td>18.0</td>\n",
       "      <td>25.4</td>\n",
       "      <td>25.1</td>\n",
       "      <td>26.0</td>\n",
       "      <td>24.9</td>\n",
       "      <td>25.5</td>\n",
       "    </tr>\n",
       "    <tr>\n",
       "      <th>31</th>\n",
       "      <td>New Jersey</td>\n",
       "      <td>34.0</td>\n",
       "      <td>23.8</td>\n",
       "      <td>23.8</td>\n",
       "      <td>24.1</td>\n",
       "      <td>23.2</td>\n",
       "      <td>23.9</td>\n",
       "    </tr>\n",
       "    <tr>\n",
       "      <th>32</th>\n",
       "      <td>New Mexico</td>\n",
       "      <td>66.0</td>\n",
       "      <td>18.6</td>\n",
       "      <td>19.4</td>\n",
       "      <td>20.4</td>\n",
       "      <td>20.0</td>\n",
       "      <td>19.7</td>\n",
       "    </tr>\n",
       "    <tr>\n",
       "      <th>33</th>\n",
       "      <td>New York</td>\n",
       "      <td>31.0</td>\n",
       "      <td>23.8</td>\n",
       "      <td>24.0</td>\n",
       "      <td>24.6</td>\n",
       "      <td>23.9</td>\n",
       "      <td>24.2</td>\n",
       "    </tr>\n",
       "    <tr>\n",
       "      <th>34</th>\n",
       "      <td>North Carolina</td>\n",
       "      <td>100.0</td>\n",
       "      <td>17.8</td>\n",
       "      <td>19.3</td>\n",
       "      <td>19.6</td>\n",
       "      <td>19.3</td>\n",
       "      <td>19.1</td>\n",
       "    </tr>\n",
       "    <tr>\n",
       "      <th>35</th>\n",
       "      <td>North Dakota</td>\n",
       "      <td>98.0</td>\n",
       "      <td>19.0</td>\n",
       "      <td>20.4</td>\n",
       "      <td>20.5</td>\n",
       "      <td>20.6</td>\n",
       "      <td>20.3</td>\n",
       "    </tr>\n",
       "    <tr>\n",
       "      <th>36</th>\n",
       "      <td>Ohio</td>\n",
       "      <td>75.0</td>\n",
       "      <td>21.2</td>\n",
       "      <td>21.6</td>\n",
       "      <td>22.5</td>\n",
       "      <td>22.0</td>\n",
       "      <td>22.0</td>\n",
       "    </tr>\n",
       "    <tr>\n",
       "      <th>37</th>\n",
       "      <td>Oklahoma</td>\n",
       "      <td>100.0</td>\n",
       "      <td>18.5</td>\n",
       "      <td>18.8</td>\n",
       "      <td>20.1</td>\n",
       "      <td>19.6</td>\n",
       "      <td>19.4</td>\n",
       "    </tr>\n",
       "    <tr>\n",
       "      <th>38</th>\n",
       "      <td>Oregon</td>\n",
       "      <td>40.0</td>\n",
       "      <td>21.2</td>\n",
       "      <td>21.5</td>\n",
       "      <td>22.4</td>\n",
       "      <td>21.7</td>\n",
       "      <td>21.8</td>\n",
       "    </tr>\n",
       "    <tr>\n",
       "      <th>39</th>\n",
       "      <td>Pennsylvania</td>\n",
       "      <td>23.0</td>\n",
       "      <td>23.4</td>\n",
       "      <td>23.4</td>\n",
       "      <td>24.2</td>\n",
       "      <td>23.3</td>\n",
       "      <td>23.7</td>\n",
       "    </tr>\n",
       "    <tr>\n",
       "      <th>40</th>\n",
       "      <td>Rhode Island</td>\n",
       "      <td>21.0</td>\n",
       "      <td>24.0</td>\n",
       "      <td>23.3</td>\n",
       "      <td>24.7</td>\n",
       "      <td>23.4</td>\n",
       "      <td>24.0</td>\n",
       "    </tr>\n",
       "    <tr>\n",
       "      <th>41</th>\n",
       "      <td>South Carolina</td>\n",
       "      <td>100.0</td>\n",
       "      <td>17.5</td>\n",
       "      <td>18.6</td>\n",
       "      <td>19.1</td>\n",
       "      <td>18.9</td>\n",
       "      <td>18.7</td>\n",
       "    </tr>\n",
       "    <tr>\n",
       "      <th>42</th>\n",
       "      <td>South Dakota</td>\n",
       "      <td>80.0</td>\n",
       "      <td>20.7</td>\n",
       "      <td>21.5</td>\n",
       "      <td>22.3</td>\n",
       "      <td>22.0</td>\n",
       "      <td>21.8</td>\n",
       "    </tr>\n",
       "    <tr>\n",
       "      <th>43</th>\n",
       "      <td>Tennessee</td>\n",
       "      <td>100.0</td>\n",
       "      <td>19.5</td>\n",
       "      <td>19.2</td>\n",
       "      <td>20.1</td>\n",
       "      <td>19.9</td>\n",
       "      <td>19.8</td>\n",
       "    </tr>\n",
       "    <tr>\n",
       "      <th>44</th>\n",
       "      <td>Texas</td>\n",
       "      <td>45.0</td>\n",
       "      <td>19.5</td>\n",
       "      <td>20.7</td>\n",
       "      <td>21.1</td>\n",
       "      <td>20.9</td>\n",
       "      <td>20.7</td>\n",
       "    </tr>\n",
       "    <tr>\n",
       "      <th>45</th>\n",
       "      <td>Utah</td>\n",
       "      <td>100.0</td>\n",
       "      <td>19.5</td>\n",
       "      <td>19.9</td>\n",
       "      <td>20.8</td>\n",
       "      <td>20.6</td>\n",
       "      <td>20.3</td>\n",
       "    </tr>\n",
       "    <tr>\n",
       "      <th>46</th>\n",
       "      <td>Vermont</td>\n",
       "      <td>29.0</td>\n",
       "      <td>23.3</td>\n",
       "      <td>23.1</td>\n",
       "      <td>24.4</td>\n",
       "      <td>23.2</td>\n",
       "      <td>23.6</td>\n",
       "    </tr>\n",
       "    <tr>\n",
       "      <th>47</th>\n",
       "      <td>Virginia</td>\n",
       "      <td>29.0</td>\n",
       "      <td>23.5</td>\n",
       "      <td>23.3</td>\n",
       "      <td>24.6</td>\n",
       "      <td>23.5</td>\n",
       "      <td>23.8</td>\n",
       "    </tr>\n",
       "    <tr>\n",
       "      <th>48</th>\n",
       "      <td>Washington</td>\n",
       "      <td>29.0</td>\n",
       "      <td>20.9</td>\n",
       "      <td>21.9</td>\n",
       "      <td>22.1</td>\n",
       "      <td>22.0</td>\n",
       "      <td>21.9</td>\n",
       "    </tr>\n",
       "    <tr>\n",
       "      <th>49</th>\n",
       "      <td>West Virginia</td>\n",
       "      <td>69.0</td>\n",
       "      <td>20.0</td>\n",
       "      <td>19.4</td>\n",
       "      <td>21.2</td>\n",
       "      <td>20.5</td>\n",
       "      <td>20.4</td>\n",
       "    </tr>\n",
       "    <tr>\n",
       "      <th>50</th>\n",
       "      <td>Wisconsin</td>\n",
       "      <td>100.0</td>\n",
       "      <td>19.7</td>\n",
       "      <td>20.4</td>\n",
       "      <td>20.6</td>\n",
       "      <td>20.9</td>\n",
       "      <td>20.5</td>\n",
       "    </tr>\n",
       "    <tr>\n",
       "      <th>51</th>\n",
       "      <td>Wyoming</td>\n",
       "      <td>100.0</td>\n",
       "      <td>19.4</td>\n",
       "      <td>19.8</td>\n",
       "      <td>20.8</td>\n",
       "      <td>20.6</td>\n",
       "      <td>20.2</td>\n",
       "    </tr>\n",
       "  </tbody>\n",
       "</table>\n",
       "</div>"
      ],
      "text/plain": [
       "                   state  act_participation  act_english  act_math  \\\n",
       "1                Alabama              100.0         18.9      18.4   \n",
       "2                 Alaska               65.0         18.7      19.8   \n",
       "3                Arizona               62.0         18.6      19.8   \n",
       "4               Arkansas              100.0         18.9      19.0   \n",
       "5             California               31.0         22.5      22.7   \n",
       "6               Colorado              100.0         20.1      20.3   \n",
       "7            Connecticut               31.0         25.5      24.6   \n",
       "8               Delaware               18.0         24.1      23.4   \n",
       "9   District of Columbia               32.0         24.4      23.5   \n",
       "10               Florida               73.0         19.0      19.4   \n",
       "11               Georgia               55.0         21.0      20.9   \n",
       "12                Hawaii               90.0         17.8      19.2   \n",
       "13                 Idaho               38.0         21.9      21.8   \n",
       "14              Illinois               93.0         21.0      21.2   \n",
       "15               Indiana               35.0         22.0      22.4   \n",
       "16                  Iowa               67.0         21.2      21.3   \n",
       "17                Kansas               73.0         21.1      21.3   \n",
       "18              Kentucky              100.0         19.6      19.4   \n",
       "19             Louisiana              100.0         19.4      18.8   \n",
       "20                 Maine                8.0         24.2      24.0   \n",
       "21              Maryland               28.0         23.3      23.1   \n",
       "22         Massachusetts               29.0         25.4      25.3   \n",
       "23              Michigan               29.0         24.1      23.7   \n",
       "24             Minnesota              100.0         20.4      21.5   \n",
       "25           Mississippi              100.0         18.2      18.1   \n",
       "26              Missouri              100.0         19.8      19.9   \n",
       "27               Montana              100.0         19.0      20.2   \n",
       "28              Nebraska               84.0         20.9      20.9   \n",
       "29                Nevada              100.0         16.3      18.0   \n",
       "30         New Hampshire               18.0         25.4      25.1   \n",
       "31            New Jersey               34.0         23.8      23.8   \n",
       "32            New Mexico               66.0         18.6      19.4   \n",
       "33              New York               31.0         23.8      24.0   \n",
       "34        North Carolina              100.0         17.8      19.3   \n",
       "35          North Dakota               98.0         19.0      20.4   \n",
       "36                  Ohio               75.0         21.2      21.6   \n",
       "37              Oklahoma              100.0         18.5      18.8   \n",
       "38                Oregon               40.0         21.2      21.5   \n",
       "39          Pennsylvania               23.0         23.4      23.4   \n",
       "40          Rhode Island               21.0         24.0      23.3   \n",
       "41        South Carolina              100.0         17.5      18.6   \n",
       "42          South Dakota               80.0         20.7      21.5   \n",
       "43             Tennessee              100.0         19.5      19.2   \n",
       "44                 Texas               45.0         19.5      20.7   \n",
       "45                  Utah              100.0         19.5      19.9   \n",
       "46               Vermont               29.0         23.3      23.1   \n",
       "47              Virginia               29.0         23.5      23.3   \n",
       "48            Washington               29.0         20.9      21.9   \n",
       "49         West Virginia               69.0         20.0      19.4   \n",
       "50             Wisconsin              100.0         19.7      20.4   \n",
       "51               Wyoming              100.0         19.4      19.8   \n",
       "\n",
       "    act_reading  act_science  act_composite  \n",
       "1          19.7         19.4           19.2  \n",
       "2          20.4         19.9           19.8  \n",
       "3          20.1         19.8           19.7  \n",
       "4          19.7         19.5           19.4  \n",
       "5          23.1         22.2           22.8  \n",
       "6          21.2         20.9           20.8  \n",
       "7          25.6         24.6           25.2  \n",
       "8          24.8         23.6           24.1  \n",
       "9          24.9         23.5           24.2  \n",
       "10         21.0         19.4           19.8  \n",
       "11         22.0         21.3           21.4  \n",
       "12         19.2         19.3           19.0  \n",
       "13         23.0         22.1           22.3  \n",
       "14         21.6         21.3           21.4  \n",
       "15         23.2         22.3           22.6  \n",
       "16         22.6         22.1           21.9  \n",
       "17         22.3         21.7           21.7  \n",
       "18         20.5         20.1           20.0  \n",
       "19         19.8         19.6           19.5  \n",
       "20         24.8         23.7           24.3  \n",
       "21         24.2          2.3           23.6  \n",
       "22         25.9         24.7           25.4  \n",
       "23         24.5         23.8           24.1  \n",
       "24         21.8         21.6           21.5  \n",
       "25         18.8         18.8           18.6  \n",
       "26         20.8         20.5           20.4  \n",
       "27         21.0         20.5           20.3  \n",
       "28         21.9         21.5           21.4  \n",
       "29         18.1         18.2           17.8  \n",
       "30         26.0         24.9           25.5  \n",
       "31         24.1         23.2           23.9  \n",
       "32         20.4         20.0           19.7  \n",
       "33         24.6         23.9           24.2  \n",
       "34         19.6         19.3           19.1  \n",
       "35         20.5         20.6           20.3  \n",
       "36         22.5         22.0           22.0  \n",
       "37         20.1         19.6           19.4  \n",
       "38         22.4         21.7           21.8  \n",
       "39         24.2         23.3           23.7  \n",
       "40         24.7         23.4           24.0  \n",
       "41         19.1         18.9           18.7  \n",
       "42         22.3         22.0           21.8  \n",
       "43         20.1         19.9           19.8  \n",
       "44         21.1         20.9           20.7  \n",
       "45         20.8         20.6           20.3  \n",
       "46         24.4         23.2           23.6  \n",
       "47         24.6         23.5           23.8  \n",
       "48         22.1         22.0           21.9  \n",
       "49         21.2         20.5           20.4  \n",
       "50         20.6         20.9           20.5  \n",
       "51         20.8         20.6           20.2  "
      ]
     },
     "execution_count": 11,
     "metadata": {},
     "output_type": "execute_result"
    }
   ],
   "source": [
    "#code\n",
    "act2017_df=act2017_df.drop([0],axis=0)\n",
    "act2017_df"
   ]
  },
  {
   "cell_type": "markdown",
   "metadata": {},
   "source": [
    "#### 10. Merge Dataframes\n",
    "\n",
    "Join the 2017 ACT and SAT dataframes using the state in each dataframe as the key. Assign this to a new variable."
   ]
  },
  {
   "cell_type": "code",
   "execution_count": 12,
   "metadata": {},
   "outputs": [],
   "source": [
    "#Code:\n",
    "combined = pd.merge(sat2017_df, act2017_df, how='left',on='state')\n",
    "combined['year']='2017'"
   ]
  },
  {
   "cell_type": "markdown",
   "metadata": {},
   "source": [
    "#### 11. Save your cleaned, merged dataframe\n",
    "\n",
    "Use a relative path to save out your data as `combined_2017.csv`."
   ]
  },
  {
   "cell_type": "code",
   "execution_count": 13,
   "metadata": {},
   "outputs": [],
   "source": [
    "#code\n",
    "combined.to_csv('../data/combined_2017.csv')"
   ]
  },
  {
   "cell_type": "markdown",
   "metadata": {},
   "source": [
    "## 2018 Data Import and Cleaning"
   ]
  },
  {
   "cell_type": "markdown",
   "metadata": {},
   "source": [
    "Links to the 2018 ACT and SAT data are provided in the README. These data live in PDFs, and so you'll get to enjoy practicing some *manual* data collection. Save these data as a CSV in your `data` directory, and import, explore, and clean these data in the same way you did above. **Make sure you comment on your steps so it is clear *why* you are doing each process**."
   ]
  },
  {
   "cell_type": "code",
   "execution_count": 14,
   "metadata": {
    "scrolled": true
   },
   "outputs": [
    {
     "data": {
      "text/html": [
       "<div>\n",
       "<style scoped>\n",
       "    .dataframe tbody tr th:only-of-type {\n",
       "        vertical-align: middle;\n",
       "    }\n",
       "\n",
       "    .dataframe tbody tr th {\n",
       "        vertical-align: top;\n",
       "    }\n",
       "\n",
       "    .dataframe thead th {\n",
       "        text-align: right;\n",
       "    }\n",
       "</style>\n",
       "<table border=\"1\" class=\"dataframe\">\n",
       "  <thead>\n",
       "    <tr style=\"text-align: right;\">\n",
       "      <th></th>\n",
       "      <th>state</th>\n",
       "      <th>sat_participation</th>\n",
       "      <th>sat_evidence_read_write</th>\n",
       "      <th>sat_math</th>\n",
       "      <th>total</th>\n",
       "    </tr>\n",
       "  </thead>\n",
       "  <tbody>\n",
       "    <tr>\n",
       "      <th>0</th>\n",
       "      <td>Alabama</td>\n",
       "      <td>6.0</td>\n",
       "      <td>595</td>\n",
       "      <td>571</td>\n",
       "      <td>1166</td>\n",
       "    </tr>\n",
       "    <tr>\n",
       "      <th>1</th>\n",
       "      <td>Alaska</td>\n",
       "      <td>43.0</td>\n",
       "      <td>562</td>\n",
       "      <td>544</td>\n",
       "      <td>1106</td>\n",
       "    </tr>\n",
       "    <tr>\n",
       "      <th>2</th>\n",
       "      <td>Arizona</td>\n",
       "      <td>29.0</td>\n",
       "      <td>577</td>\n",
       "      <td>572</td>\n",
       "      <td>1149</td>\n",
       "    </tr>\n",
       "    <tr>\n",
       "      <th>3</th>\n",
       "      <td>Arkansas</td>\n",
       "      <td>5.0</td>\n",
       "      <td>592</td>\n",
       "      <td>576</td>\n",
       "      <td>1169</td>\n",
       "    </tr>\n",
       "    <tr>\n",
       "      <th>4</th>\n",
       "      <td>California</td>\n",
       "      <td>60.0</td>\n",
       "      <td>540</td>\n",
       "      <td>536</td>\n",
       "      <td>1076</td>\n",
       "    </tr>\n",
       "  </tbody>\n",
       "</table>\n",
       "</div>"
      ],
      "text/plain": [
       "        state  sat_participation  sat_evidence_read_write  sat_math  total\n",
       "0     Alabama                6.0                      595       571   1166\n",
       "1      Alaska               43.0                      562       544   1106\n",
       "2     Arizona               29.0                      577       572   1149\n",
       "3    Arkansas                5.0                      592       576   1169\n",
       "4  California               60.0                      540       536   1076"
      ]
     },
     "execution_count": 14,
     "metadata": {},
     "output_type": "execute_result"
    }
   ],
   "source": [
    "import numpy as np\n",
    "import pandas as pd\n",
    "\n",
    "raw_sat2018 = ''\n",
    "raw_act2018 = ''\n",
    "\n",
    "sat2018_file = '../data/sat_2018.csv'\n",
    "act2018_file = '../data/act_2018_updated.csv'\n",
    "\n",
    "sat2018_df=pd.read_csv(sat2018_file)\n",
    "act2018_df=pd.read_csv(act2018_file)\n",
    "\n",
    "convertParticipation(sat2018_df,'Participation')\n",
    "convertColFloat(act2018_df,'Percentage of Students Tested')\n",
    "\n",
    "#sat2018_df.dtypes\n",
    "#act2018_df.dtypes\n",
    "\n",
    "sat2018_df.rename(columns={'State':'state',\n",
    "                   'Participation':'sat_participation',\n",
    "                    'Evidence-Based Reading and Writing':'sat_evidence_read_write',\n",
    "                    'Math':'sat_math',\n",
    "                    'Total':'total'},inplace=True)\n",
    "act2018_df.rename(columns={'State':'state',\n",
    "                   'Percentage of Students Tested':'act_participation',\n",
    "                    'Average English Score':'act_english',\n",
    "                    'Average Math Score':'act_math',\n",
    "                    'Average Reading Score':'act_reading',\n",
    "                    'Average Science Score':'act_science',\n",
    "                    'Average Composite Score':'act_composite'},inplace=True)\n",
    "sat2018_df.head()\n"
   ]
  },
  {
   "cell_type": "code",
   "execution_count": 127,
   "metadata": {},
   "outputs": [
    {
     "data": {
      "text/html": [
       "<div>\n",
       "<style scoped>\n",
       "    .dataframe tbody tr th:only-of-type {\n",
       "        vertical-align: middle;\n",
       "    }\n",
       "\n",
       "    .dataframe tbody tr th {\n",
       "        vertical-align: top;\n",
       "    }\n",
       "\n",
       "    .dataframe thead th {\n",
       "        text-align: right;\n",
       "    }\n",
       "</style>\n",
       "<table border=\"1\" class=\"dataframe\">\n",
       "  <thead>\n",
       "    <tr style=\"text-align: right;\">\n",
       "      <th></th>\n",
       "      <th>state</th>\n",
       "      <th>act_participation</th>\n",
       "      <th>act_composite</th>\n",
       "      <th>act_english</th>\n",
       "      <th>act_math</th>\n",
       "      <th>act_reading</th>\n",
       "      <th>act_science</th>\n",
       "    </tr>\n",
       "  </thead>\n",
       "  <tbody>\n",
       "    <tr>\n",
       "      <th>0</th>\n",
       "      <td>Alabama</td>\n",
       "      <td>100.0</td>\n",
       "      <td>19.1</td>\n",
       "      <td>18.9</td>\n",
       "      <td>18.3</td>\n",
       "      <td>19.6</td>\n",
       "      <td>19.0</td>\n",
       "    </tr>\n",
       "    <tr>\n",
       "      <th>1</th>\n",
       "      <td>Alaska</td>\n",
       "      <td>33.0</td>\n",
       "      <td>20.8</td>\n",
       "      <td>19.8</td>\n",
       "      <td>20.6</td>\n",
       "      <td>21.6</td>\n",
       "      <td>20.7</td>\n",
       "    </tr>\n",
       "    <tr>\n",
       "      <th>2</th>\n",
       "      <td>Arizona</td>\n",
       "      <td>66.0</td>\n",
       "      <td>19.2</td>\n",
       "      <td>18.2</td>\n",
       "      <td>19.4</td>\n",
       "      <td>19.5</td>\n",
       "      <td>19.2</td>\n",
       "    </tr>\n",
       "    <tr>\n",
       "      <th>3</th>\n",
       "      <td>Arkansas</td>\n",
       "      <td>100.0</td>\n",
       "      <td>19.4</td>\n",
       "      <td>19.1</td>\n",
       "      <td>18.9</td>\n",
       "      <td>19.7</td>\n",
       "      <td>19.4</td>\n",
       "    </tr>\n",
       "    <tr>\n",
       "      <th>4</th>\n",
       "      <td>California</td>\n",
       "      <td>27.0</td>\n",
       "      <td>22.7</td>\n",
       "      <td>22.5</td>\n",
       "      <td>22.5</td>\n",
       "      <td>23.0</td>\n",
       "      <td>22.1</td>\n",
       "    </tr>\n",
       "  </tbody>\n",
       "</table>\n",
       "</div>"
      ],
      "text/plain": [
       "        state  act_participation  act_composite  act_english  act_math  \\\n",
       "0     Alabama              100.0           19.1         18.9      18.3   \n",
       "1      Alaska               33.0           20.8         19.8      20.6   \n",
       "2     Arizona               66.0           19.2         18.2      19.4   \n",
       "3    Arkansas              100.0           19.4         19.1      18.9   \n",
       "4  California               27.0           22.7         22.5      22.5   \n",
       "\n",
       "   act_reading  act_science  \n",
       "0         19.6         19.0  \n",
       "1         21.6         20.7  \n",
       "2         19.5         19.2  \n",
       "3         19.7         19.4  \n",
       "4         23.0         22.1  "
      ]
     },
     "execution_count": 127,
     "metadata": {},
     "output_type": "execute_result"
    }
   ],
   "source": [
    "act2018_df.head()"
   ]
  },
  {
   "cell_type": "markdown",
   "metadata": {},
   "source": [
    "#### Combine your 2017 and 2018 data into a single dataframe\n",
    "Joining on state names should work, assuming you formatted all your state names identically. Make sure none of your columns (other than state) have identical names. Do yourself a favor and decide if you're encoding participation rates as floats or integers and standardize this across your datasets.\n",
    "\n",
    "Save the contents of this merged dataframe as `final.csv`.\n",
    "\n",
    "**Use this combined dataframe for the remainder of the project**."
   ]
  },
  {
   "cell_type": "code",
   "execution_count": 15,
   "metadata": {},
   "outputs": [
    {
     "name": "stderr",
     "output_type": "stream",
     "text": [
      "/opt/anaconda3/envs/DSI/lib/python3.7/site-packages/ipykernel_launcher.py:6: FutureWarning: Sorting because non-concatenation axis is not aligned. A future version\n",
      "of pandas will change to not sort by default.\n",
      "\n",
      "To accept the future behavior, pass 'sort=False'.\n",
      "\n",
      "To retain the current behavior and silence the warning, pass 'sort=True'.\n",
      "\n",
      "  \n"
     ]
    }
   ],
   "source": [
    "combined18 = pd.merge(sat2018_df, act2018_df, how='left',on='state')\n",
    "combined18['year']='2018'\n",
    "#print(combined18.head())\n",
    "frames=[combined,combined18]\n",
    "#final = pd.concat(frames, keys=['state'])\n",
    "final=pd.concat([combined, combined18],keys='state')\n",
    "final.to_csv('../data/final.csv')"
   ]
  },
  {
   "cell_type": "markdown",
   "metadata": {},
   "source": [
    "## Exploratory Data Analysis\n",
    "\n",
    "\n",
    "### Summary Statistics\n",
    "Transpose the output of pandas `describe` method to create a quick overview of each numeric feature."
   ]
  },
  {
   "cell_type": "code",
   "execution_count": 16,
   "metadata": {},
   "outputs": [
    {
     "data": {
      "text/html": [
       "<div>\n",
       "<style scoped>\n",
       "    .dataframe tbody tr th:only-of-type {\n",
       "        vertical-align: middle;\n",
       "    }\n",
       "\n",
       "    .dataframe tbody tr th {\n",
       "        vertical-align: top;\n",
       "    }\n",
       "\n",
       "    .dataframe thead th {\n",
       "        text-align: right;\n",
       "    }\n",
       "</style>\n",
       "<table border=\"1\" class=\"dataframe\">\n",
       "  <thead>\n",
       "    <tr style=\"text-align: right;\">\n",
       "      <th></th>\n",
       "      <th>act_composite</th>\n",
       "      <th>act_english</th>\n",
       "      <th>act_math</th>\n",
       "      <th>act_participation</th>\n",
       "      <th>act_reading</th>\n",
       "      <th>act_science</th>\n",
       "      <th>sat_evidence_read_write</th>\n",
       "      <th>sat_math</th>\n",
       "      <th>sat_participation</th>\n",
       "      <th>total</th>\n",
       "    </tr>\n",
       "  </thead>\n",
       "  <tbody>\n",
       "    <tr>\n",
       "      <th>count</th>\n",
       "      <td>102.000000</td>\n",
       "      <td>102.000000</td>\n",
       "      <td>102.000000</td>\n",
       "      <td>102.000000</td>\n",
       "      <td>102.000000</td>\n",
       "      <td>102.000000</td>\n",
       "      <td>102.000000</td>\n",
       "      <td>102.000000</td>\n",
       "      <td>102.000000</td>\n",
       "      <td>102.000000</td>\n",
       "    </tr>\n",
       "    <tr>\n",
       "      <th>mean</th>\n",
       "      <td>21.502941</td>\n",
       "      <td>20.959804</td>\n",
       "      <td>21.153922</td>\n",
       "      <td>63.450980</td>\n",
       "      <td>22.014706</td>\n",
       "      <td>21.193137</td>\n",
       "      <td>566.401961</td>\n",
       "      <td>551.931373</td>\n",
       "      <td>42.774510</td>\n",
       "      <td>1123.058824</td>\n",
       "    </tr>\n",
       "    <tr>\n",
       "      <th>std</th>\n",
       "      <td>2.053756</td>\n",
       "      <td>2.388722</td>\n",
       "      <td>1.999291</td>\n",
       "      <td>33.010538</td>\n",
       "      <td>2.107337</td>\n",
       "      <td>2.601647</td>\n",
       "      <td>46.442823</td>\n",
       "      <td>68.684854</td>\n",
       "      <td>36.252663</td>\n",
       "      <td>92.915678</td>\n",
       "    </tr>\n",
       "    <tr>\n",
       "      <th>min</th>\n",
       "      <td>17.700000</td>\n",
       "      <td>16.300000</td>\n",
       "      <td>17.800000</td>\n",
       "      <td>7.000000</td>\n",
       "      <td>18.000000</td>\n",
       "      <td>2.300000</td>\n",
       "      <td>480.000000</td>\n",
       "      <td>52.000000</td>\n",
       "      <td>2.000000</td>\n",
       "      <td>950.000000</td>\n",
       "    </tr>\n",
       "    <tr>\n",
       "      <th>25%</th>\n",
       "      <td>19.825000</td>\n",
       "      <td>19.025000</td>\n",
       "      <td>19.400000</td>\n",
       "      <td>31.000000</td>\n",
       "      <td>20.425000</td>\n",
       "      <td>19.900000</td>\n",
       "      <td>534.250000</td>\n",
       "      <td>522.250000</td>\n",
       "      <td>4.000000</td>\n",
       "      <td>1055.250000</td>\n",
       "    </tr>\n",
       "    <tr>\n",
       "      <th>50%</th>\n",
       "      <td>21.350000</td>\n",
       "      <td>20.500000</td>\n",
       "      <td>20.900000</td>\n",
       "      <td>66.500000</td>\n",
       "      <td>21.650000</td>\n",
       "      <td>21.200000</td>\n",
       "      <td>554.500000</td>\n",
       "      <td>545.500000</td>\n",
       "      <td>45.500000</td>\n",
       "      <td>1099.000000</td>\n",
       "    </tr>\n",
       "    <tr>\n",
       "      <th>75%</th>\n",
       "      <td>23.600000</td>\n",
       "      <td>23.375000</td>\n",
       "      <td>23.100000</td>\n",
       "      <td>100.000000</td>\n",
       "      <td>24.175000</td>\n",
       "      <td>23.075000</td>\n",
       "      <td>613.500000</td>\n",
       "      <td>595.000000</td>\n",
       "      <td>70.000000</td>\n",
       "      <td>1209.500000</td>\n",
       "    </tr>\n",
       "    <tr>\n",
       "      <th>max</th>\n",
       "      <td>25.600000</td>\n",
       "      <td>26.000000</td>\n",
       "      <td>25.300000</td>\n",
       "      <td>100.000000</td>\n",
       "      <td>26.100000</td>\n",
       "      <td>24.900000</td>\n",
       "      <td>644.000000</td>\n",
       "      <td>655.000000</td>\n",
       "      <td>100.000000</td>\n",
       "      <td>1298.000000</td>\n",
       "    </tr>\n",
       "  </tbody>\n",
       "</table>\n",
       "</div>"
      ],
      "text/plain": [
       "       act_composite  act_english    act_math  act_participation  act_reading  \\\n",
       "count     102.000000   102.000000  102.000000         102.000000   102.000000   \n",
       "mean       21.502941    20.959804   21.153922          63.450980    22.014706   \n",
       "std         2.053756     2.388722    1.999291          33.010538     2.107337   \n",
       "min        17.700000    16.300000   17.800000           7.000000    18.000000   \n",
       "25%        19.825000    19.025000   19.400000          31.000000    20.425000   \n",
       "50%        21.350000    20.500000   20.900000          66.500000    21.650000   \n",
       "75%        23.600000    23.375000   23.100000         100.000000    24.175000   \n",
       "max        25.600000    26.000000   25.300000         100.000000    26.100000   \n",
       "\n",
       "       act_science  sat_evidence_read_write    sat_math  sat_participation  \\\n",
       "count   102.000000               102.000000  102.000000         102.000000   \n",
       "mean     21.193137               566.401961  551.931373          42.774510   \n",
       "std       2.601647                46.442823   68.684854          36.252663   \n",
       "min       2.300000               480.000000   52.000000           2.000000   \n",
       "25%      19.900000               534.250000  522.250000           4.000000   \n",
       "50%      21.200000               554.500000  545.500000          45.500000   \n",
       "75%      23.075000               613.500000  595.000000          70.000000   \n",
       "max      24.900000               644.000000  655.000000         100.000000   \n",
       "\n",
       "             total  \n",
       "count   102.000000  \n",
       "mean   1123.058824  \n",
       "std      92.915678  \n",
       "min     950.000000  \n",
       "25%    1055.250000  \n",
       "50%    1099.000000  \n",
       "75%    1209.500000  \n",
       "max    1298.000000  "
      ]
     },
     "execution_count": 16,
     "metadata": {},
     "output_type": "execute_result"
    }
   ],
   "source": [
    "#Code:\n",
    "final.describe()"
   ]
  },
  {
   "cell_type": "markdown",
   "metadata": {},
   "source": [
    "#### Manually calculate standard deviation\n",
    "\n",
    "$$\\sigma = \\sqrt{\\frac{1}{n}\\sum_{i=1}^n(x_i - \\mu)^2}$$\n",
    "\n",
    "- Write a function to calculate standard deviation using the formula above"
   ]
  },
  {
   "cell_type": "code",
   "execution_count": 17,
   "metadata": {},
   "outputs": [],
   "source": [
    "#code\n",
    "from decimal import Decimal\n",
    "'''[2,4,6,8]\n",
    "\n",
    "The mean is 5.\n",
    "The differences from each observation to the mean are [-3, -1, 1, 3].\n",
    "The squared results are [9, 1, 1, 9].\n",
    "The summed results equal 20.\n",
    "Dividing 20 by (n-1) yields 20/3. (This is the variance, which is approximately 6.7.)\n",
    "Taking the square root of 20/3 yields the standard deviation, which is approximately 2.6.'''\n",
    "\n",
    "def std_dev(col):\n",
    "    mean=0\n",
    "    total=0\n",
    "    diff=[]\n",
    "    mean=np.mean(col)\n",
    "    for v in col:\n",
    "        diff.append(v-mean)\n",
    "        sq=np.square(diff)\n",
    "    total=sum(sq)\n",
    "    dev=np.sqrt(total/len(col)-1)\n",
    "    \n",
    "    return dev"
   ]
  },
  {
   "cell_type": "markdown",
   "metadata": {},
   "source": [
    "- Use a **dictionary comprehension** to apply your standard deviation function to each numeric column in the dataframe.  **No loops**  \n",
    "- Assign the output to variable `sd` as a dictionary where: \n",
    "    - Each column name is now a key \n",
    "    - That standard deviation of the column is the value \n",
    "  \n",
    "*Example Output :* `{'ACT_Math': 120, 'ACT_Reading': 120, ...}`"
   ]
  },
  {
   "cell_type": "code",
   "execution_count": 18,
   "metadata": {},
   "outputs": [
    {
     "name": "stdout",
     "output_type": "stream",
     "text": [
      "{'act_composite': 1.7822906544477946, 'act_english': 2.1563976771331874, 'act_math': 1.7198763959592942, 'act_participation': 32.83309767537019, 'act_reading': 1.843185491650817, 'act_science': 2.3879296063097213, 'sat_evidence_read_write': 46.20378131625193, 'sat_math': 68.34001781804722, 'sat_participation': 36.060653388408305, 'total': 92.45367929023806}\n",
      "act_composite               2.043663\n",
      "act_english                 2.376984\n",
      "act_math                    1.989466\n",
      "act_participation          32.848323\n",
      "act_reading                 2.096982\n",
      "act_science                 2.588862\n",
      "sat_evidence_read_write    46.214602\n",
      "sat_math                   68.347334\n",
      "sat_participation          36.074516\n",
      "total                      92.459087\n",
      "dtype: float64\n"
     ]
    }
   ],
   "source": [
    "#Code:\n",
    "sd={k:std_dev(final[k]) for k in final.keys() if k!='state' and k!='year'}\n",
    "print(sd)\n",
    "print(np.std(final))"
   ]
  },
  {
   "cell_type": "markdown",
   "metadata": {},
   "source": [
    "Do your manually calculated standard deviations match up with the output from pandas `describe`? What about numpy's `std` method?"
   ]
  },
  {
   "cell_type": "markdown",
   "metadata": {},
   "source": [
    "All the standard deviations differ slightly however my personal function is closer to numpy's std method."
   ]
  },
  {
   "cell_type": "markdown",
   "metadata": {},
   "source": [
    "#### Investigate trends in the data\n",
    "Using sorting and/or masking (along with the `.head` method to not print our entire dataframe), consider the following questions:\n",
    "\n",
    "- Which states have the highest and lowest participation rates for the:\n",
    "    - 2017 SAT?\n",
    "    - 2018 SAT?\n",
    "    - 2017 ACT?\n",
    "    - 2018 ACT?\n",
    "- Which states have the highest and lowest mean total/composite scores for the:\n",
    "    - 2017 SAT?\n",
    "    - 2018 SAT?\n",
    "    - 2017 ACT?\n",
    "    - 2018 ACT?\n",
    "- Do any states with 100% participation on a given test have a rate change year-to-year?\n",
    "- Do any states show have >50% participation on *both* tests either year?\n",
    "\n",
    "Based on what you've just observed, have you identified any states that you're especially interested in? **Make a note of these and state *why* you think they're interesting**.\n",
    "\n",
    "**You should comment on your findings at each step in a markdown cell below your code block**. Make sure you include at least one example of sorting your dataframe by a column, and one example of using boolean filtering (i.e., masking) to select a subset of the dataframe."
   ]
  },
  {
   "cell_type": "code",
   "execution_count": 19,
   "metadata": {},
   "outputs": [
    {
     "name": "stdout",
     "output_type": "stream",
     "text": [
      "Highest Participation\n",
      "SAT 2017:  s  8    District of Columbia\n",
      "Name: state, dtype: object\n",
      "SAT 2018:  t  5    Colorado\n",
      "Name: state, dtype: object\n",
      "ACT 2017:  s  0    Alabama\n",
      "Name: state, dtype: object\n",
      "ACT 2018:  t  0    Alabama\n",
      "Name: state, dtype: object\n",
      "Lowest Participation\n",
      "SAT 2017:  s  34    North Dakota\n",
      "Name: state, dtype: object\n",
      "SAT 2018:  t  34    North Dakota\n",
      "Name: state, dtype: object\n",
      "ACT 2017:  s  19    Maine\n",
      "Name: state, dtype: object\n",
      "ACT 2018:  t  19    Maine\n",
      "Name: state, dtype: object\n",
      "Total\n",
      "2017:  s  23    Minnesota\n",
      "Name: state, dtype: object\n",
      "2018:  t  23    Minnesota\n",
      "Name: state, dtype: object\n",
      "Composite\n",
      "2017:  s  29    New Hampshire\n",
      "Name: state, dtype: object\n",
      "2018:  t  6    Connecticut\n",
      "Name: state, dtype: object\n"
     ]
    }
   ],
   "source": [
    "##### Highest Participation ###########\n",
    "print('Highest Participation')\n",
    "print('SAT 2017: ',final[(final['year']=='2017')].sort_values(by='sat_participation',ascending=False).head(1)['state'])\n",
    "print('SAT 2018: ',final[(final['year']=='2018')].sort_values(by='sat_participation',ascending=False).head(1)['state'])\n",
    "print('ACT 2017: ',final[(final['year']=='2017')].sort_values(by='act_participation',ascending=False).head(1)['state'])\n",
    "print('ACT 2018: ',final[(final['year']=='2018')].sort_values(by='act_participation',ascending=False).head(1)['state'])\n",
    "##### Lowest Participation ###########\n",
    "print('Lowest Participation')\n",
    "print('SAT 2017: ',final[(final['year']=='2017')].sort_values(by='sat_participation',ascending=True).head(1)['state'])\n",
    "print('SAT 2018: ',final[(final['year']=='2018')].sort_values(by='sat_participation',ascending=True).head(1)['state'])\n",
    "print('ACT 2017: ',final[(final['year']=='2017')].sort_values(by='act_participation',ascending=True).head(1)['state'])\n",
    "print('ACT 2018: ',final[(final['year']=='2018')].sort_values(by='act_participation',ascending=True).head(1)['state'])\n",
    "\n",
    "##### Highest Total ###########\n",
    "print('Total')\n",
    "print('2017: ',final[(final['year']=='2017')].sort_values(by='total',ascending=False).head(1)['state'])\n",
    "print('2018: ',final[(final['year']=='2018')].sort_values(by='total',ascending=False).head(1)['state'])\n",
    "\n",
    "##### Highest Composite ###########\n",
    "print('Composite')\n",
    "print('2017: ',final[(final['year']=='2017')].sort_values(by='act_composite',ascending=False).head(1)['state'])\n",
    "print('2018: ',final[(final['year']=='2018')].sort_values(by='act_composite',ascending=False).head(1)['state'])\n",
    "\n",
    "\n"
   ]
  },
  {
   "cell_type": "code",
   "execution_count": 20,
   "metadata": {},
   "outputs": [
    {
     "name": "stdout",
     "output_type": "stream",
     "text": [
      "Colorado\n",
      "Idaho\n"
     ]
    },
    {
     "data": {
      "text/plain": [
       "['Colorado', 'Idaho']"
      ]
     },
     "execution_count": 20,
     "metadata": {},
     "output_type": "execute_result"
    }
   ],
   "source": [
    "#print(stocks[(stocks['date'] == '1998-01-02') & (stocks['ticker'] == 'AAPL')]['close'])\n",
    "sat_full_participation=final[(final['year']=='2018') & (final['sat_participation']==100)]['state']\n",
    "sat_not_full=final[(final['year']=='2017') & (final['sat_participation']!=100)]['state']\n",
    "\n",
    "sat_rate_change=[]\n",
    "for s in sat_full_participation:\n",
    "    for nf in sat_not_full:  \n",
    "        if s == nf: \n",
    "            print(s)\n",
    "            sat_rate_change.append(s)\n",
    "        \n",
    "sat_rate_change"
   ]
  },
  {
   "cell_type": "code",
   "execution_count": 21,
   "metadata": {
    "scrolled": true
   },
   "outputs": [
    {
     "name": "stdout",
     "output_type": "stream",
     "text": [
      "s  9     Florida\n",
      "   10    Georgia\n",
      "   11     Hawaii\n",
      "Name: state, dtype: object\n",
      "t  9            Florida\n",
      "   10           Georgia\n",
      "   11            Hawaii\n",
      "   33    North Carolina\n",
      "   40    South Carolina\n",
      "Name: state, dtype: object\n"
     ]
    }
   ],
   "source": [
    "print(final[(final['sat_participation']>50) & (final['act_participation']>50) & (final['year']=='2017')]['state'])\n",
    "print(final[(final['sat_participation']>50) & (final['act_participation']>50) & (final['year']=='2018')]['state'])"
   ]
  },
  {
   "cell_type": "markdown",
   "metadata": {},
   "source": [
    "Colorado is the state that increased to full participation.\n",
    "Minnesota has the highest SAT score for 2 years.\n",
    "Florida, Georgia and Hawaii has high participation rate for both assessments for both years."
   ]
  },
  {
   "cell_type": "markdown",
   "metadata": {},
   "source": [
    "## Visualize the data\n",
    "\n",
    "There's not a magic bullet recommendation for the right number of plots to understand a given dataset, but visualizing your data is *always* a good idea. Not only does it allow you to quickly convey your findings (even if you have a non-technical audience), it will often reveal trends in your data that escaped you when you were looking only at numbers.\n",
    "\n",
    "Some recommendations on plotting:\n",
    "- Plots have titles\n",
    "- Plots have axis labels\n",
    "- Plots have appropriate tick labels\n",
    "- All text is legible in a plot\n",
    "- Plots demonstrate meaningful and valid relationships\n",
    "- Plots are interpreted to aid understanding\n",
    "\n",
    "There is such a thing as too many plots, and there are a *lot* of bad plots. You might make some! (But hopefully not with the guided prompts below)."
   ]
  },
  {
   "cell_type": "markdown",
   "metadata": {},
   "source": [
    "#### Use Seaborn's heatmap with pandas `.corr()` to visualize correlations between all numeric features\n",
    "\n",
    "Heatmaps are generally not appropriate for presentations, and should often be excluded from reports as they can be visually overwhelming. **However**, they can be extremely useful in identify relationships of potential interest (as well as identifying potential collinearity before modeling).\n",
    "\n",
    "*example*:\n",
    "```python\n",
    "sns.heatmap(df.corr())\n",
    "```\n",
    "\n",
    "Please take time to format your output, adding a title. Look through some of the additional arguments and options. (Axis labels aren't really necessary, as long as the title is informative)."
   ]
  },
  {
   "cell_type": "code",
   "execution_count": 22,
   "metadata": {},
   "outputs": [
    {
     "name": "stdout",
     "output_type": "stream",
     "text": [
      "(10, 10)\n"
     ]
    },
    {
     "data": {
      "text/plain": [
       "<matplotlib.axes._subplots.AxesSubplot at 0x11a17f6d0>"
      ]
     },
     "execution_count": 22,
     "metadata": {},
     "output_type": "execute_result"
    }
   ],
   "source": [
    "import matplotlib.pyplot as plt\n",
    "import seaborn as sns\n",
    "\n",
    "plt.figure(figsize=(16,9))\n",
    "\n",
    "# Generate 10 variables of 200 random observations.\n",
    "\n",
    "corr = final.corr()\n",
    "print(corr.shape)\n",
    "# Set up mask to be \"True\" in the upper triangle.\n",
    "mask = np.zeros_like(corr)\n",
    "mask[np.triu_indices_from(mask)] = True\n",
    "\n",
    "# Plot our correlation heatmap, while masking the upper triangle to be white.\n",
    "#with sns.axes_style(\"white\"):\n",
    "#    sns.heatmap(corr, mask=mask, vmax=.3, square=True, annot=True)\n",
    "sns.heatmap(corr,mask=mask)"
   ]
  },
  {
   "cell_type": "markdown",
   "metadata": {},
   "source": [
    "#### Define a custom function to subplot histograms\n",
    "\n",
    "We have data for two tests for two years. We only have composite (and not subtest scores) for the 2018 ACT. We should write a function that will take the names of 2+ columns and subplot histograms. While you can use pandas plotting or Seaborn here, matplotlib gives you greater control over all aspects of your plots.\n",
    "\n",
    "[Helpful Link for Plotting Multiple Figures](https://matplotlib.org/users/pyplot_tutorial.html#working-with-multiple-figures-and-axes)\n",
    "\n",
    "Here's some starter code:"
   ]
  },
  {
   "cell_type": "code",
   "execution_count": 23,
   "metadata": {},
   "outputs": [],
   "source": [
    "def subplot_histograms(dataframe, list_of_columns, list_of_titles, list_of_xlabels):\n",
    "    nrows = int(np.ceil(len(list_of_columns)/2)) # Makes sure you have enough rows\n",
    "    fig, ax = plt.subplots(nrows=nrows, ncols=2) # You'll want to specify your figsize\n",
    "    ax = ax.ravel() # Ravel turns a matrix into a vector, which is easier to iterate\n",
    "    for i, column in enumerate(list_of_columns): # Gives us an index value to get into all our lists\n",
    "        ax[i].hist(dataframe[column]) # feel free to add more settings\n",
    "        # Set titles, labels, etc here for each subplot\n",
    "        ax[i].set_title(list_of_titles[i])\n",
    "        ax[i].set_xlabel(list_of_xlabels[i])\n",
    "        "
   ]
  },
  {
   "cell_type": "code",
   "execution_count": null,
   "metadata": {},
   "outputs": [],
   "source": []
  },
  {
   "cell_type": "markdown",
   "metadata": {},
   "source": [
    "#### Plot and interpret histograms \n",
    "For each of the following:\n",
    "- Participation rates for SAT & ACT\n",
    "- Math scores for SAT & ACT\n",
    "- Reading/verbal scores for SAT & ACT"
   ]
  },
  {
   "cell_type": "code",
   "execution_count": 24,
   "metadata": {},
   "outputs": [
    {
     "name": "stdout",
     "output_type": "stream",
     "text": [
      "\n"
     ]
    }
   ],
   "source": [
    "a=final['state']\n",
    "print()"
   ]
  },
  {
   "cell_type": "code",
   "execution_count": 25,
   "metadata": {},
   "outputs": [
    {
     "data": {
      "image/png": "[encoded data removed]",
      "text/plain": [
       "<Figure size 432x288 with 2 Axes>"
      ]
     },
     "metadata": {
      "needs_background": "light"
     },
     "output_type": "display_data"
    },
    {
     "data": {
      "image/png": "[encoded data removed]",
      "text/plain": [
       "<Figure size 432x288 with 2 Axes>"
      ]
     },
     "metadata": {
      "needs_background": "light"
     },
     "output_type": "display_data"
    },
    {
     "data": {
      "image/png": "[encoded data removed]",
      "text/plain": [
       "<Figure size 432x288 with 2 Axes>"
      ]
     },
     "metadata": {
      "needs_background": "light"
     },
     "output_type": "display_data"
    }
   ],
   "source": [
    "subplot_histograms(final,['sat_participation','act_participation'],['SAT Participation','ACT Participation'],['Percentage','Percentage'])\n",
    "subplot_histograms(final,['sat_math','act_math'],['SAT Math','ACT Math'],['Score','Score'])\n",
    "subplot_histograms(final,['sat_evidence_read_write','act_reading'],['SAT Reading','ACT Reading'],['Score','Score'])"
   ]
  },
  {
   "cell_type": "markdown",
   "metadata": {},
   "source": [
    "#### Plot and interpret scatter plots\n",
    "\n",
    "For each of the following:\n",
    "- SAT vs. ACT math scores for 2017\n",
    "- SAT vs. ACT verbal/reading scores for 2017\n",
    "- SAT vs. ACT total/composite scores for 2017\n",
    "- Total scores for SAT 2017 vs. 2018\n",
    "- Composite scores for ACT 2017 vs. 2018\n",
    "\n",
    "Plot the two variables against each other using matplotlib or Seaborn\n",
    "\n",
    "Your plots should show:\n",
    "- Two clearly labeled axes\n",
    "- A proper title\n",
    "- Using colors and symbols that are clear and unmistakable\n",
    "\n",
    "**Feel free to write a custom function, and subplot if you'd like.** Functions save both time and space.\n"
   ]
  },
  {
   "cell_type": "code",
   "execution_count": 26,
   "metadata": {},
   "outputs": [
    {
     "data": {
      "text/plain": [
       "<Figure size 1152x648 with 0 Axes>"
      ]
     },
     "metadata": {},
     "output_type": "display_data"
    }
   ],
   "source": [
    "# Code\n",
    "plt.figure(figsize=(16, 9))\n",
    "\n",
    "# Create scatter plot of high prices versus volume.\n",
    "def plot_scatter(p,dfx,dfy,t,xlabel,ylabel):\n",
    "    p.scatter(dfx,dfy);\n",
    "    p.title(t)\n",
    "    p.xlabel(xlabel, fontsize = 20)\n",
    "    p.ylabel(ylabel, fontsize = 20)\n",
    "\n",
    "    "
   ]
  },
  {
   "cell_type": "code",
   "execution_count": 252,
   "metadata": {},
   "outputs": [
    {
     "data": {
      "text/html": [
       "<div>\n",
       "<style scoped>\n",
       "    .dataframe tbody tr th:only-of-type {\n",
       "        vertical-align: middle;\n",
       "    }\n",
       "\n",
       "    .dataframe tbody tr th {\n",
       "        vertical-align: top;\n",
       "    }\n",
       "\n",
       "    .dataframe thead th {\n",
       "        text-align: right;\n",
       "    }\n",
       "</style>\n",
       "<table border=\"1\" class=\"dataframe\">\n",
       "  <thead>\n",
       "    <tr style=\"text-align: right;\">\n",
       "      <th></th>\n",
       "      <th></th>\n",
       "      <th>act_composite</th>\n",
       "      <th>act_english</th>\n",
       "      <th>act_math</th>\n",
       "      <th>act_participation</th>\n",
       "      <th>act_reading</th>\n",
       "      <th>act_science</th>\n",
       "      <th>sat_evidence_read_write</th>\n",
       "      <th>sat_math</th>\n",
       "      <th>sat_participation</th>\n",
       "      <th>state</th>\n",
       "      <th>total</th>\n",
       "      <th>year</th>\n",
       "    </tr>\n",
       "  </thead>\n",
       "  <tbody>\n",
       "    <tr>\n",
       "      <th rowspan=\"5\" valign=\"top\">s</th>\n",
       "      <th>0</th>\n",
       "      <td>19.2</td>\n",
       "      <td>18.9</td>\n",
       "      <td>18.4</td>\n",
       "      <td>100.0</td>\n",
       "      <td>19.7</td>\n",
       "      <td>19.4</td>\n",
       "      <td>593</td>\n",
       "      <td>572</td>\n",
       "      <td>5.0</td>\n",
       "      <td>Alabama</td>\n",
       "      <td>1165</td>\n",
       "      <td>2017</td>\n",
       "    </tr>\n",
       "    <tr>\n",
       "      <th>1</th>\n",
       "      <td>19.8</td>\n",
       "      <td>18.7</td>\n",
       "      <td>19.8</td>\n",
       "      <td>65.0</td>\n",
       "      <td>20.4</td>\n",
       "      <td>19.9</td>\n",
       "      <td>547</td>\n",
       "      <td>533</td>\n",
       "      <td>38.0</td>\n",
       "      <td>Alaska</td>\n",
       "      <td>1080</td>\n",
       "      <td>2017</td>\n",
       "    </tr>\n",
       "    <tr>\n",
       "      <th>2</th>\n",
       "      <td>19.7</td>\n",
       "      <td>18.6</td>\n",
       "      <td>19.8</td>\n",
       "      <td>62.0</td>\n",
       "      <td>20.1</td>\n",
       "      <td>19.8</td>\n",
       "      <td>563</td>\n",
       "      <td>553</td>\n",
       "      <td>30.0</td>\n",
       "      <td>Arizona</td>\n",
       "      <td>1116</td>\n",
       "      <td>2017</td>\n",
       "    </tr>\n",
       "    <tr>\n",
       "      <th>3</th>\n",
       "      <td>19.4</td>\n",
       "      <td>18.9</td>\n",
       "      <td>19.0</td>\n",
       "      <td>100.0</td>\n",
       "      <td>19.7</td>\n",
       "      <td>19.5</td>\n",
       "      <td>614</td>\n",
       "      <td>594</td>\n",
       "      <td>3.0</td>\n",
       "      <td>Arkansas</td>\n",
       "      <td>1208</td>\n",
       "      <td>2017</td>\n",
       "    </tr>\n",
       "    <tr>\n",
       "      <th>4</th>\n",
       "      <td>22.8</td>\n",
       "      <td>22.5</td>\n",
       "      <td>22.7</td>\n",
       "      <td>31.0</td>\n",
       "      <td>23.1</td>\n",
       "      <td>22.2</td>\n",
       "      <td>531</td>\n",
       "      <td>524</td>\n",
       "      <td>53.0</td>\n",
       "      <td>California</td>\n",
       "      <td>1055</td>\n",
       "      <td>2017</td>\n",
       "    </tr>\n",
       "  </tbody>\n",
       "</table>\n",
       "</div>"
      ],
      "text/plain": [
       "     act_composite  act_english  act_math  act_participation  act_reading  \\\n",
       "s 0           19.2         18.9      18.4              100.0         19.7   \n",
       "  1           19.8         18.7      19.8               65.0         20.4   \n",
       "  2           19.7         18.6      19.8               62.0         20.1   \n",
       "  3           19.4         18.9      19.0              100.0         19.7   \n",
       "  4           22.8         22.5      22.7               31.0         23.1   \n",
       "\n",
       "     act_science  sat_evidence_read_write  sat_math  sat_participation  \\\n",
       "s 0         19.4                      593       572                5.0   \n",
       "  1         19.9                      547       533               38.0   \n",
       "  2         19.8                      563       553               30.0   \n",
       "  3         19.5                      614       594                3.0   \n",
       "  4         22.2                      531       524               53.0   \n",
       "\n",
       "          state  total  year  \n",
       "s 0     Alabama   1165  2017  \n",
       "  1      Alaska   1080  2017  \n",
       "  2     Arizona   1116  2017  \n",
       "  3    Arkansas   1208  2017  \n",
       "  4  California   1055  2017  "
      ]
     },
     "execution_count": 252,
     "metadata": {},
     "output_type": "execute_result"
    }
   ],
   "source": [
    "final.head()"
   ]
  },
  {
   "cell_type": "code",
   "execution_count": 28,
   "metadata": {
    "scrolled": false
   },
   "outputs": [
    {
     "data": {
      "image/png": "[encoded data removed]",
      "text/plain": [
       "<Figure size 432x288 with 1 Axes>"
      ]
     },
     "metadata": {
      "needs_background": "light"
     },
     "output_type": "display_data"
    }
   ],
   "source": [
    "sat_read_score2017=final[final['year']=='2017']['sat_evidence_read_write']\n",
    "act_read_score2017=final[final['year']=='2017']['act_reading']\n",
    "\n",
    "plot_scatter(plt,sat_read_score2017,act_read_score2017,'SAT ACT Reading/Verbal Score2017',' SAT Reading Score','ACT Reading Score')"
   ]
  },
  {
   "cell_type": "markdown",
   "metadata": {},
   "source": [
    "There is little correlation between ACT language score and SAT language score"
   ]
  },
  {
   "cell_type": "code",
   "execution_count": 266,
   "metadata": {
    "scrolled": false
   },
   "outputs": [
    {
     "data": {
      "image/png": "[encoded data removed]",
      "text/plain": [
       "<Figure size 432x288 with 1 Axes>"
      ]
     },
     "metadata": {
      "needs_background": "light"
     },
     "output_type": "display_data"
    }
   ],
   "source": [
    "total_score2017=final[final['year']=='2017']['total']\n",
    "composite_score2017=final[final['year']=='2017']['act_composite']\n",
    "\n",
    "plot_scatter(plt,total_score2017,composite_score2017,'SAT ACT Total/Composite Score2017',' SAT Total Score','ACT Composite Score')"
   ]
  },
  {
   "cell_type": "markdown",
   "metadata": {},
   "source": [
    "ACT composite does not correlate strong to SAT Total score."
   ]
  },
  {
   "cell_type": "code",
   "execution_count": 267,
   "metadata": {
    "scrolled": true
   },
   "outputs": [
    {
     "data": {
      "image/png": "[encoded data removed]",
      "text/plain": [
       "<Figure size 432x288 with 1 Axes>"
      ]
     },
     "metadata": {
      "needs_background": "light"
     },
     "output_type": "display_data"
    }
   ],
   "source": [
    "total_score2017=final[final['year']=='2017']['total']\n",
    "total_score2018=final[final['year']=='2018']['total']\n",
    "#composite_score2017=final[final['year']=='2017']['act_composite']\n",
    "\n",
    "plot_scatter(plt,total_score2017,total_score2018,'SAT Total Score',' SAT Total Score 2017','SAT Total Score 2018')"
   ]
  },
  {
   "cell_type": "markdown",
   "metadata": {},
   "source": [
    "There is strong positive correlation between SAT score 2017 and 2018. Performance of both years are the same."
   ]
  },
  {
   "cell_type": "code",
   "execution_count": 268,
   "metadata": {
    "scrolled": true
   },
   "outputs": [
    {
     "data": {
      "image/png": "[encoded data removed]",
      "text/plain": [
       "<Figure size 432x288 with 1 Axes>"
      ]
     },
     "metadata": {
      "needs_background": "light"
     },
     "output_type": "display_data"
    }
   ],
   "source": [
    "composite_score2017=final[final['year']=='2017']['act_composite']\n",
    "composite_score2018=final[final['year']=='2018']['act_composite']\n",
    "\n",
    "plot_scatter(plt,composite_score2017,composite_score2017,'ACT Composite Score',' ACT Composite Score 2017','ACT Composite Score 2018')"
   ]
  },
  {
   "cell_type": "markdown",
   "metadata": {},
   "source": [
    " There is strong positive correlation between ACT composite score 2017 and 2018. Performance of both years are the nearly the same."
   ]
  },
  {
   "cell_type": "markdown",
   "metadata": {},
   "source": [
    "#### Plot and interpret boxplots\n",
    "\n",
    "For each numeric variable in the dataframe create a boxplot using Seaborn. Boxplots demonstrate central tendency and spread in variables. In a certain sense, these are somewhat redundant with histograms, but you may be better able to identify clear outliers or differences in IQR, etc.\n",
    "\n",
    "Multiple values can be plotted to a single boxplot as long as they are of the same relative scale (meaning they have similar min/max values).\n",
    "\n",
    "Each boxplot should:\n",
    "- Only include variables of a similar scale\n",
    "- Have clear labels for each variable\n",
    "- Have appropriate titles and labels"
   ]
  },
  {
   "cell_type": "code",
   "execution_count": 475,
   "metadata": {},
   "outputs": [
    {
     "data": {
      "text/html": [
       "<div>\n",
       "<style scoped>\n",
       "    .dataframe tbody tr th:only-of-type {\n",
       "        vertical-align: middle;\n",
       "    }\n",
       "\n",
       "    .dataframe tbody tr th {\n",
       "        vertical-align: top;\n",
       "    }\n",
       "\n",
       "    .dataframe thead th {\n",
       "        text-align: right;\n",
       "    }\n",
       "</style>\n",
       "<table border=\"1\" class=\"dataframe\">\n",
       "  <thead>\n",
       "    <tr style=\"text-align: right;\">\n",
       "      <th></th>\n",
       "      <th></th>\n",
       "      <th>act_participation</th>\n",
       "      <th>state</th>\n",
       "      <th>year</th>\n",
       "    </tr>\n",
       "  </thead>\n",
       "  <tbody>\n",
       "    <tr>\n",
       "      <th rowspan=\"5\" valign=\"top\">s</th>\n",
       "      <th>0</th>\n",
       "      <td>100.0</td>\n",
       "      <td>Alabama</td>\n",
       "      <td>2017</td>\n",
       "    </tr>\n",
       "    <tr>\n",
       "      <th>1</th>\n",
       "      <td>65.0</td>\n",
       "      <td>Alaska</td>\n",
       "      <td>2017</td>\n",
       "    </tr>\n",
       "    <tr>\n",
       "      <th>2</th>\n",
       "      <td>62.0</td>\n",
       "      <td>Arizona</td>\n",
       "      <td>2017</td>\n",
       "    </tr>\n",
       "    <tr>\n",
       "      <th>3</th>\n",
       "      <td>100.0</td>\n",
       "      <td>Arkansas</td>\n",
       "      <td>2017</td>\n",
       "    </tr>\n",
       "    <tr>\n",
       "      <th>4</th>\n",
       "      <td>31.0</td>\n",
       "      <td>California</td>\n",
       "      <td>2017</td>\n",
       "    </tr>\n",
       "  </tbody>\n",
       "</table>\n",
       "</div>"
      ],
      "text/plain": [
       "     act_participation       state  year\n",
       "s 0              100.0     Alabama  2017\n",
       "  1               65.0      Alaska  2017\n",
       "  2               62.0     Arizona  2017\n",
       "  3              100.0    Arkansas  2017\n",
       "  4               31.0  California  2017"
      ]
     },
     "execution_count": 475,
     "metadata": {},
     "output_type": "execute_result"
    }
   ],
   "source": [
    "act_participation=final.loc[:,['act_participation','state','year']]\n",
    "act_participation.head()                                                "
   ]
  },
  {
   "cell_type": "code",
   "execution_count": 539,
   "metadata": {
    "scrolled": true
   },
   "outputs": [
    {
     "data": {
      "image/png": "[encoded data removed]",
      "text/plain": [
       "<Figure size 720x360 with 1 Axes>"
      ]
     },
     "metadata": {
      "needs_background": "light"
     },
     "output_type": "display_data"
    }
   ],
   "source": [
    "plt.figure(figsize=(10, 5))\n",
    "ax_part = sns.boxplot(y='act_participation',x='year',data=act_participation, orient='v')  # RUN PLOT \n",
    "#ax_composite = sns.boxplot(data=subj, orient='v')  # RUN PLOT \n",
    "\n",
    "plt.show()"
   ]
  },
  {
   "cell_type": "markdown",
   "metadata": {},
   "source": [
    "ACT participation over the 2 years have roughly remained the same."
   ]
  },
  {
   "cell_type": "code",
   "execution_count": 477,
   "metadata": {},
   "outputs": [
    {
     "data": {
      "text/html": [
       "<div>\n",
       "<style scoped>\n",
       "    .dataframe tbody tr th:only-of-type {\n",
       "        vertical-align: middle;\n",
       "    }\n",
       "\n",
       "    .dataframe tbody tr th {\n",
       "        vertical-align: top;\n",
       "    }\n",
       "\n",
       "    .dataframe thead th {\n",
       "        text-align: right;\n",
       "    }\n",
       "</style>\n",
       "<table border=\"1\" class=\"dataframe\">\n",
       "  <thead>\n",
       "    <tr style=\"text-align: right;\">\n",
       "      <th></th>\n",
       "      <th></th>\n",
       "      <th>sat_participation</th>\n",
       "      <th>state</th>\n",
       "      <th>year</th>\n",
       "    </tr>\n",
       "  </thead>\n",
       "  <tbody>\n",
       "    <tr>\n",
       "      <th rowspan=\"5\" valign=\"top\">s</th>\n",
       "      <th>0</th>\n",
       "      <td>5.0</td>\n",
       "      <td>Alabama</td>\n",
       "      <td>2017</td>\n",
       "    </tr>\n",
       "    <tr>\n",
       "      <th>1</th>\n",
       "      <td>38.0</td>\n",
       "      <td>Alaska</td>\n",
       "      <td>2017</td>\n",
       "    </tr>\n",
       "    <tr>\n",
       "      <th>2</th>\n",
       "      <td>30.0</td>\n",
       "      <td>Arizona</td>\n",
       "      <td>2017</td>\n",
       "    </tr>\n",
       "    <tr>\n",
       "      <th>3</th>\n",
       "      <td>3.0</td>\n",
       "      <td>Arkansas</td>\n",
       "      <td>2017</td>\n",
       "    </tr>\n",
       "    <tr>\n",
       "      <th>4</th>\n",
       "      <td>53.0</td>\n",
       "      <td>California</td>\n",
       "      <td>2017</td>\n",
       "    </tr>\n",
       "  </tbody>\n",
       "</table>\n",
       "</div>"
      ],
      "text/plain": [
       "     sat_participation       state  year\n",
       "s 0                5.0     Alabama  2017\n",
       "  1               38.0      Alaska  2017\n",
       "  2               30.0     Arizona  2017\n",
       "  3                3.0    Arkansas  2017\n",
       "  4               53.0  California  2017"
      ]
     },
     "execution_count": 477,
     "metadata": {},
     "output_type": "execute_result"
    }
   ],
   "source": [
    "sat_participation=final.loc[:,['sat_participation','state','year']]\n",
    "sat_participation.head()                                                "
   ]
  },
  {
   "cell_type": "code",
   "execution_count": 478,
   "metadata": {
    "scrolled": true
   },
   "outputs": [
    {
     "data": {
      "image/png": "[encoded data removed]",
      "text/plain": [
       "<Figure size 720x360 with 1 Axes>"
      ]
     },
     "metadata": {
      "needs_background": "light"
     },
     "output_type": "display_data"
    }
   ],
   "source": [
    "plt.figure(figsize=(10, 5))\n",
    "ax_part = sns.boxplot(y='sat_participation',x='year',data=sat_participation, orient='v')  # RUN PLOT \n",
    "#ax_composite = sns.boxplot(data=subj, orient='v')  # RUN PLOT \n",
    "\n",
    "plt.show()"
   ]
  },
  {
   "cell_type": "markdown",
   "metadata": {},
   "source": [
    "SAT participation have improved in 2018 over 2017 with a higher median and 75 percentile."
   ]
  },
  {
   "cell_type": "code",
   "execution_count": 554,
   "metadata": {},
   "outputs": [],
   "source": [
    "act_composite=final.loc[:,['act_composite','state','year']]\n",
    "subj={}\n",
    "d=[]\n",
    "#act_results=final.loc[final['year']=='2017',['act_english', 'act_math','act_reading', 'act_science','year']]\n",
    "\n",
    "\n",
    "act_english=final.loc[final['year']=='2017',['act_english']].values.tolist()\n",
    "act_math=final.loc[final['year']=='2017',['act_math']].values.tolist()\n",
    "act_reading=final.loc[final['year']=='2017',['act_reading']].values.tolist()\n",
    "act_science=final.loc[final['year']=='2017',['act_science']].values.tolist()\n",
    "\n",
    "subj['Subject']=[]\n",
    "subj['Score']=[]\n",
    "for i in range(len(act_english)):\n",
    "    subj['Subject'].append('ACT English')\n",
    "    subj['Score'].append(act_english[i][0])\n",
    "    \n",
    "for i in range(len(act_math)):\n",
    "    subj['Subject'].append('ACT Math')\n",
    "    subj['Score'].append(act_math[i][0])\n",
    "\n",
    "for i in range(len(act_reading)):\n",
    "    subj['Subject'].append('ACT Reading')\n",
    "    subj['Score'].append(act_reading[i][0])\n",
    "\n",
    "for i in range(len(act_science)):\n",
    "    subj['Subject'].append('ACT Science')\n",
    "    subj['Score'].append(act_science[i][0])\n",
    "df_subj=pd.DataFrame(subj)\n"
   ]
  },
  {
   "cell_type": "code",
   "execution_count": 557,
   "metadata": {},
   "outputs": [
    {
     "data": {
      "image/png": "[encoded data removed]",
      "text/plain": [
       "<Figure size 720x360 with 1 Axes>"
      ]
     },
     "metadata": {
      "needs_background": "light"
     },
     "output_type": "display_data"
    }
   ],
   "source": [
    "plt.figure(figsize=(10, 5))\n",
    "ax_act2017 = sns.boxplot(x='Subject',y='Score',data=df_subj, orient='v')  # RUN PLOT \n",
    "#ax_composite = sns.boxplot(data=subj, orient='v')  # RUN PLOT \n",
    "ax_act2017.set_title('ACT Scores 2017')\n",
    "ax_act2017.set_ylim([10, 27])\n",
    "plt.show()\n"
   ]
  },
  {
   "cell_type": "code",
   "execution_count": 558,
   "metadata": {},
   "outputs": [],
   "source": [
    "subj={}\n",
    "d=[]\n",
    "#act_results=final.loc[final['year']=='2017',['act_english', 'act_math','act_reading', 'act_science','year']]\n",
    "\n",
    "\n",
    "act_english=final.loc[final['year']=='2018',['act_english']].values.tolist()\n",
    "act_math=final.loc[final['year']=='2018',['act_math']].values.tolist()\n",
    "#act_participation=final.loc[:,['act_participation','state']].values.tolist()\n",
    "act_reading=final.loc[final['year']=='2018',['act_reading']].values.tolist()\n",
    "act_science=final.loc[final['year']=='2018',['act_science']].values.tolist()\n",
    "\n",
    "subj['Subject']=[]\n",
    "subj['Score']=[]\n",
    "for i in range(len(act_english)):\n",
    "    subj['Subject'].append('ACT English')\n",
    "    subj['Score'].append(act_english[i][0])\n",
    "    \n",
    "for i in range(len(act_math)):\n",
    "    subj['Subject'].append('ACT Math')\n",
    "    subj['Score'].append(act_math[i][0])\n",
    "\n",
    "for i in range(len(act_reading)):\n",
    "    subj['Subject'].append('ACT Reading')\n",
    "    subj['Score'].append(act_reading[i][0])\n",
    "\n",
    "for i in range(len(act_science)):\n",
    "    subj['Subject'].append('ACT Science')\n",
    "    subj['Score'].append(act_science[i][0])\n",
    "df_subj=pd.DataFrame(subj)\n"
   ]
  },
  {
   "cell_type": "code",
   "execution_count": 559,
   "metadata": {
    "scrolled": true
   },
   "outputs": [
    {
     "data": {
      "image/png": "[encoded data removed]",
      "text/plain": [
       "<Figure size 720x360 with 1 Axes>"
      ]
     },
     "metadata": {
      "needs_background": "light"
     },
     "output_type": "display_data"
    }
   ],
   "source": [
    "plt.figure(figsize=(10, 5))\n",
    "ax_act2018 = sns.boxplot(x='Subject',y='Score',data=df_subj, orient='v')  # RUN PLOT \n",
    "#ax_composite = sns.boxplot(data=subj, orient='v')  # RUN PLOT \n",
    "ax_act2018.set_title('ACT Scores 2018')\n",
    "ax_act2018.set_ylim([10, 27])\n",
    "plt.show()"
   ]
  },
  {
   "cell_type": "markdown",
   "metadata": {},
   "source": [
    "ACT results have remained the same for 2 years. "
   ]
  },
  {
   "cell_type": "code",
   "execution_count": 561,
   "metadata": {},
   "outputs": [],
   "source": [
    "subj={}\n",
    "d=[]\n",
    "#act_results=final.loc[final['year']=='2017',['act_english', 'act_math','act_reading', 'act_science','year']]\n",
    "\n",
    "\n",
    "sat_english=final.loc[final['year']=='2017',['sat_evidence_read_write']].values.tolist()\n",
    "sat_math=final.loc[final['year']=='2017',['sat_math']].values.tolist()\n",
    "#act_participation=final.loc[:,['act_participation','state']].values.tolist()\n",
    "sat_total=final.loc[final['year']=='2017',['total']].values.tolist()\n",
    "\n",
    "subj['Subject']=[]\n",
    "subj['Score']=[]\n",
    "for i in range(len(sat_english)):\n",
    "    subj['Subject'].append('SAT Reading Writing')\n",
    "    subj['Score'].append(sat_english[i][0])\n",
    "    \n",
    "for i in range(len(sat_math)):\n",
    "    subj['Subject'].append('SAT Math')\n",
    "    subj['Score'].append(sat_math[i][0])\n",
    "\n",
    "df_subj=pd.DataFrame(subj)\n"
   ]
  },
  {
   "cell_type": "code",
   "execution_count": 565,
   "metadata": {},
   "outputs": [
    {
     "data": {
      "image/png": "[encoded data removed]",
      "text/plain": [
       "<Figure size 720x360 with 1 Axes>"
      ]
     },
     "metadata": {
      "needs_background": "light"
     },
     "output_type": "display_data"
    }
   ],
   "source": [
    "plt.figure(figsize=(10, 5))\n",
    "ax_sat2017 = sns.boxplot(x='Subject',y='Score',data=df_subj, orient='v')  # RUN PLOT \n",
    "#ax_composite = sns.boxplot(data=subj, orient='v')  # RUN PLOT \n",
    "ax_sat2017.set_title('SAT Scores 2017')\n",
    "ax_sat2017.set_ylim([450, 680])\n",
    "plt.show()"
   ]
  },
  {
   "cell_type": "code",
   "execution_count": 549,
   "metadata": {},
   "outputs": [],
   "source": [
    "subj={}\n",
    "d=[]\n",
    "#act_results=final.loc[final['year']=='2017',['act_english', 'act_math','act_reading', 'act_science','year']]\n",
    "\n",
    "\n",
    "sat_english=final.loc[final['year']=='2018',['sat_evidence_read_write']].values.tolist()\n",
    "sat_math=final.loc[final['year']=='2018',['sat_math']].values.tolist()\n",
    "#act_participation=final.loc[:,['act_participation','state']].values.tolist()\n",
    "sat_total=final.loc[final['year']=='2018',['total']].values.tolist()\n",
    "\n",
    "subj['Subject']=[]\n",
    "subj['Score']=[]\n",
    "for i in range(len(sat_english)):\n",
    "    subj['Subject'].append('SAT Reading Writing')\n",
    "    subj['Score'].append(sat_english[i][0])\n",
    "    \n",
    "for i in range(len(sat_math)):\n",
    "    subj['Subject'].append('SAT Math')\n",
    "    subj['Score'].append(sat_math[i][0])\n",
    "\n",
    "df_subj=pd.DataFrame(subj)\n"
   ]
  },
  {
   "cell_type": "code",
   "execution_count": 566,
   "metadata": {
    "scrolled": true
   },
   "outputs": [
    {
     "data": {
      "image/png": "[encoded data removed]",
      "text/plain": [
       "<Figure size 720x360 with 1 Axes>"
      ]
     },
     "metadata": {
      "needs_background": "light"
     },
     "output_type": "display_data"
    }
   ],
   "source": [
    "plt.figure(figsize=(10, 5))\n",
    "ax_sam2018 = sns.boxplot(x='Subject',y='Score',data=df_subj, orient='v')  # RUN PLOT \n",
    "#ax_composite = sns.boxplot(data=subj, orient='v')  # RUN PLOT \n",
    "ax_sam2018.set_title('SAT Scores 2018')\n",
    "ax_sam2018.set_ylim([450, 680])\n",
    "plt.show()"
   ]
  },
  {
   "cell_type": "markdown",
   "metadata": {},
   "source": [
    "#### Feel free to do additional plots below\n",
    "*(do research and choose your own chart types & variables)*\n",
    "\n",
    "Are there any additional trends or relationships you haven't explored? Was there something interesting you saw that you'd like to dive further into? It's likely that there are a few more plots you might want to generate to support your narrative and recommendations that you are building toward. **As always, make sure you're interpreting your plots as you go**."
   ]
  },
  {
   "cell_type": "code",
   "execution_count": 31,
   "metadata": {},
   "outputs": [
    {
     "data": {
      "text/plain": [
       "1123.0588235294117"
      ]
     },
     "execution_count": 31,
     "metadata": {},
     "output_type": "execute_result"
    }
   ],
   "source": [
    "final['total'].mean()"
   ]
  },
  {
   "cell_type": "code",
   "execution_count": 40,
   "metadata": {
    "scrolled": true
   },
   "outputs": [
    {
     "data": {
      "text/plain": [
       "<matplotlib.axes._subplots.AxesSubplot at 0x1a1f471710>"
      ]
     },
     "execution_count": 40,
     "metadata": {},
     "output_type": "execute_result"
    },
    {
     "data": {
      "image/png": "[encoded data removed]",
      "text/plain": [
       "<Figure size 1800x360 with 1 Axes>"
      ]
     },
     "metadata": {
      "needs_background": "light"
     },
     "output_type": "display_data"
    }
   ],
   "source": [
    "participation2017=final.loc[(final['year']=='2017') & (final['sat_participation']>70),['act_participation','sat_participation','state']]\n",
    "participation2017.set_index('state',inplace=True)\n",
    "\n",
    "participation2018=final.loc[(final['year']=='2018')& (final['sat_participation']>70),['act_participation','sat_participation','state']]\n",
    "participation2018.set_index('state',inplace=True)\n",
    "\n",
    "\n",
    "participation2017[['sat_participation','act_participation']].plot(kind='bar',figsize=(25,5),fontsize=20,title=\"2017 States with High SAT Participation\")\n",
    "\n",
    "#state_participation"
   ]
  },
  {
   "cell_type": "code",
   "execution_count": 41,
   "metadata": {},
   "outputs": [
    {
     "data": {
      "text/plain": [
       "<matplotlib.axes._subplots.AxesSubplot at 0x1a1f7eaad0>"
      ]
     },
     "execution_count": 41,
     "metadata": {},
     "output_type": "execute_result"
    },
    {
     "data": {
      "image/png": "[encoded data removed]",
      "text/plain": [
       "<Figure size 1800x360 with 1 Axes>"
      ]
     },
     "metadata": {
      "needs_background": "light"
     },
     "output_type": "display_data"
    }
   ],
   "source": [
    "participation2018[['sat_participation','act_participation']].plot(kind='bar',figsize=(25,5),fontsize=20,title=\"2018 States with High SAT Participation\")\n"
   ]
  },
  {
   "cell_type": "code",
   "execution_count": 32,
   "metadata": {
    "scrolled": true
   },
   "outputs": [
    {
     "data": {
      "text/plain": [
       "<matplotlib.axes._subplots.AxesSubplot at 0x1a1e0d1e90>"
      ]
     },
     "execution_count": 32,
     "metadata": {},
     "output_type": "execute_result"
    },
    {
     "data": {
      "image/png": "[encoded data removed]",
      "text/plain": [
       "<Figure size 1800x360 with 1 Axes>"
      ]
     },
     "metadata": {
      "needs_background": "light"
     },
     "output_type": "display_data"
    }
   ],
   "source": [
    "\n",
    "participation2017=final.loc[(final['year']=='2017') & (final['sat_participation']>50)&(final['total']>1100),['act_participation','sat_participation','state']]\n",
    "participation2017.set_index('state',inplace=True)\n",
    "\n",
    "participation2018=final.loc[(final['year']=='2018')& (final['sat_participation']>50)&(final['total']>1100),['act_participation','sat_participation','state']]\n",
    "participation2018.set_index('state',inplace=True)\n",
    "\n",
    "\n",
    "participation2017[['sat_participation','act_participation']].plot(kind='bar',figsize=(25,5),fontsize=20,title=\"2017 States with High SAT Participation & High Total Score\")\n",
    "\n",
    "#state_participation"
   ]
  },
  {
   "cell_type": "code",
   "execution_count": 33,
   "metadata": {
    "scrolled": false
   },
   "outputs": [
    {
     "data": {
      "text/plain": [
       "<matplotlib.axes._subplots.AxesSubplot at 0x1a1e0c9990>"
      ]
     },
     "execution_count": 33,
     "metadata": {},
     "output_type": "execute_result"
    },
    {
     "data": {
      "image/png": "[encoded data removed]",
      "text/plain": [
       "<Figure size 1800x360 with 1 Axes>"
      ]
     },
     "metadata": {
      "needs_background": "light"
     },
     "output_type": "display_data"
    }
   ],
   "source": [
    "participation2018[['sat_participation','act_participation']].plot(kind='bar',figsize=(25,5),fontsize=20,title=\"2018 States with High SAT Participation & High Total Scoren\")"
   ]
  },
  {
   "cell_type": "code",
   "execution_count": 40,
   "metadata": {},
   "outputs": [
    {
     "data": {
      "text/plain": [
       "21.50294117647059"
      ]
     },
     "execution_count": 40,
     "metadata": {},
     "output_type": "execute_result"
    }
   ],
   "source": [
    "final['act_composite'].mean()"
   ]
  },
  {
   "cell_type": "code",
   "execution_count": 34,
   "metadata": {
    "scrolled": true
   },
   "outputs": [
    {
     "data": {
      "text/plain": [
       "<matplotlib.axes._subplots.AxesSubplot at 0x1a1e09ff10>"
      ]
     },
     "execution_count": 34,
     "metadata": {},
     "output_type": "execute_result"
    },
    {
     "data": {
      "image/png": "[encoded data removed]",
      "text/plain": [
       "<Figure size 1800x360 with 1 Axes>"
      ]
     },
     "metadata": {
      "needs_background": "light"
     },
     "output_type": "display_data"
    }
   ],
   "source": [
    "aparticipation2017=final.loc[(final['year']=='2017') & (final['act_participation']>50)&(final['act_composite']>21),['act_participation','sat_participation','state']]\n",
    "aparticipation2017.set_index('state',inplace=True)\n",
    "\n",
    "aparticipation2018=final.loc[(final['year']=='2018')& (final['act_participation']>50)&(final['act_composite']>21),['act_participation','sat_participation','state']]\n",
    "aparticipation2018.set_index('state',inplace=True)\n",
    "aparticipation2017[['sat_participation','act_participation']].plot(kind='bar',figsize=(25,5),fontsize=20,title=\"2017 States with High ACT Participation & High Composite Score\")"
   ]
  },
  {
   "cell_type": "code",
   "execution_count": 35,
   "metadata": {},
   "outputs": [
    {
     "data": {
      "text/plain": [
       "<matplotlib.axes._subplots.AxesSubplot at 0x1a1cda44d0>"
      ]
     },
     "execution_count": 35,
     "metadata": {},
     "output_type": "execute_result"
    },
    {
     "data": {
      "image/png": "[encoded data removed]",
      "text/plain": [
       "<Figure size 1800x360 with 1 Axes>"
      ]
     },
     "metadata": {
      "needs_background": "light"
     },
     "output_type": "display_data"
    }
   ],
   "source": [
    "aparticipation2018[['sat_participation','act_participation']].plot(kind='bar',figsize=(25,5),fontsize=20,title=\"2018 States with High ACT Participation & High Composite Score\")"
   ]
  },
  {
   "cell_type": "code",
   "execution_count": 573,
   "metadata": {
    "scrolled": true
   },
   "outputs": [
    {
     "data": {
      "image/png": "[encoded data removed]",
      "text/plain": [
       "<Figure size 432x288 with 1 Axes>"
      ]
     },
     "metadata": {
      "needs_background": "light"
     },
     "output_type": "display_data"
    }
   ],
   "source": [
    "total_score2017=final[final['year']=='2017']['total']\n",
    "sat_partrate2017=final[final['year']=='2017']['sat_participation']\n",
    "#composite_score2017=final[final['year']=='2017']['act_composite']\n",
    "\n",
    "plot_scatter(plt,total_score2017,sat_partrate2017,'SAT Relationship of Score and Participation 2018',' SAT Score','SAT Participation %')"
   ]
  },
  {
   "cell_type": "code",
   "execution_count": 574,
   "metadata": {},
   "outputs": [
    {
     "data": {
      "image/png": "[encoded data removed]",
      "text/plain": [
       "<Figure size 432x288 with 1 Axes>"
      ]
     },
     "metadata": {
      "needs_background": "light"
     },
     "output_type": "display_data"
    }
   ],
   "source": [
    "total_score2018=final[final['year']=='2018']['total']\n",
    "sat_partrate2018=final[final['year']=='2018']['sat_participation']\n",
    "#composite_score2017=final[final['year']=='2017']['act_composite']\n",
    "\n",
    "plot_scatter(plt,total_score2018,sat_partrate2018,'SAT Relationship of Score and Participation 2018',' SAT Score','SAT Participation %')"
   ]
  },
  {
   "cell_type": "code",
   "execution_count": 575,
   "metadata": {
    "scrolled": true
   },
   "outputs": [
    {
     "data": {
      "image/png": "[encoded data removed]",
      "text/plain": [
       "<Figure size 432x288 with 1 Axes>"
      ]
     },
     "metadata": {
      "needs_background": "light"
     },
     "output_type": "display_data"
    }
   ],
   "source": [
    "comp_score2017=final[final['year']=='2017']['act_composite']\n",
    "act_partrate2017=final[final['year']=='2017']['act_participation']\n",
    "#composite_score2017=final[final['year']=='2017']['act_composite']\n",
    "\n",
    "plot_scatter(plt,comp_score2017,act_partrate2017,'ACT Relationship of Score and Participation 2017',' ACT Score','ACT Participation %')"
   ]
  },
  {
   "cell_type": "code",
   "execution_count": 576,
   "metadata": {
    "scrolled": true
   },
   "outputs": [
    {
     "data": {
      "image/png": "[encoded data removed]",
      "text/plain": [
       "<Figure size 432x288 with 1 Axes>"
      ]
     },
     "metadata": {
      "needs_background": "light"
     },
     "output_type": "display_data"
    }
   ],
   "source": [
    "comp_score2018=final[final['year']=='2018']['act_composite']\n",
    "act_partrate2018=final[final['year']=='2018']['act_participation']\n",
    "#composite_score2017=final[final['year']=='2017']['act_composite']\n",
    "\n",
    "plot_scatter(plt,comp_score2017,act_partrate2017,'ACT Relationship of Score and Participation 2018',' ACT Score','ACT Participation %')"
   ]
  },
  {
   "cell_type": "markdown",
   "metadata": {},
   "source": [
    "For both SAT and ACT scores are higher when participation is low."
   ]
  },
  {
   "cell_type": "markdown",
   "metadata": {},
   "source": [
    "#### (Optional): Using Tableau, create a choropleth map for each variable using a map of the US. \n",
    "\n",
    "Save this plot as an image file in an images directory, provide a relative path, and insert the image into notebook in markdown."
   ]
  },
  {
   "cell_type": "code",
   "execution_count": null,
   "metadata": {},
   "outputs": [],
   "source": []
  },
  {
   "cell_type": "markdown",
   "metadata": {},
   "source": [
    "## Descriptive and Inferential Statistics"
   ]
  },
  {
   "cell_type": "markdown",
   "metadata": {},
   "source": [
    "#### Summarizing Distributions\n",
    "\n",
    "Above, we used pandas `describe` to provide quick summary statistics of our numeric columns. We also demonstrated many visual relationships.\n",
    "\n",
    "As data scientists, having a complete understanding of data is imperative prior to modeling.\n",
    "\n",
    "While we will continue to build our analytic tools, we know that measures of *central tendency*, *spread*, and *shape/skewness* provide a quick summary of distributions.\n",
    "\n",
    "For each variable in your data, summarize the underlying distributions (in words & statistics)\n",
    " - Be thorough in your verbal description of these distributions.\n",
    " - Be sure to back up these summaries with statistics."
   ]
  },
  {
   "cell_type": "code",
   "execution_count": 569,
   "metadata": {},
   "outputs": [
    {
     "data": {
      "text/html": [
       "<div>\n",
       "<style scoped>\n",
       "    .dataframe tbody tr th:only-of-type {\n",
       "        vertical-align: middle;\n",
       "    }\n",
       "\n",
       "    .dataframe tbody tr th {\n",
       "        vertical-align: top;\n",
       "    }\n",
       "\n",
       "    .dataframe thead th {\n",
       "        text-align: right;\n",
       "    }\n",
       "</style>\n",
       "<table border=\"1\" class=\"dataframe\">\n",
       "  <thead>\n",
       "    <tr style=\"text-align: right;\">\n",
       "      <th></th>\n",
       "      <th>act_composite</th>\n",
       "      <th>act_english</th>\n",
       "      <th>act_math</th>\n",
       "      <th>act_participation</th>\n",
       "      <th>act_reading</th>\n",
       "      <th>act_science</th>\n",
       "      <th>sat_evidence_read_write</th>\n",
       "      <th>sat_math</th>\n",
       "      <th>sat_participation</th>\n",
       "      <th>total</th>\n",
       "    </tr>\n",
       "  </thead>\n",
       "  <tbody>\n",
       "    <tr>\n",
       "      <th>count</th>\n",
       "      <td>102.000000</td>\n",
       "      <td>102.000000</td>\n",
       "      <td>102.000000</td>\n",
       "      <td>102.000000</td>\n",
       "      <td>102.000000</td>\n",
       "      <td>102.000000</td>\n",
       "      <td>102.000000</td>\n",
       "      <td>102.000000</td>\n",
       "      <td>102.000000</td>\n",
       "      <td>102.000000</td>\n",
       "    </tr>\n",
       "    <tr>\n",
       "      <th>mean</th>\n",
       "      <td>21.502941</td>\n",
       "      <td>20.959804</td>\n",
       "      <td>21.153922</td>\n",
       "      <td>63.450980</td>\n",
       "      <td>22.014706</td>\n",
       "      <td>21.193137</td>\n",
       "      <td>566.401961</td>\n",
       "      <td>551.931373</td>\n",
       "      <td>42.774510</td>\n",
       "      <td>1123.058824</td>\n",
       "    </tr>\n",
       "    <tr>\n",
       "      <th>std</th>\n",
       "      <td>2.053756</td>\n",
       "      <td>2.388722</td>\n",
       "      <td>1.999291</td>\n",
       "      <td>33.010538</td>\n",
       "      <td>2.107337</td>\n",
       "      <td>2.601647</td>\n",
       "      <td>46.442823</td>\n",
       "      <td>68.684854</td>\n",
       "      <td>36.252663</td>\n",
       "      <td>92.915678</td>\n",
       "    </tr>\n",
       "    <tr>\n",
       "      <th>min</th>\n",
       "      <td>17.700000</td>\n",
       "      <td>16.300000</td>\n",
       "      <td>17.800000</td>\n",
       "      <td>7.000000</td>\n",
       "      <td>18.000000</td>\n",
       "      <td>2.300000</td>\n",
       "      <td>480.000000</td>\n",
       "      <td>52.000000</td>\n",
       "      <td>2.000000</td>\n",
       "      <td>950.000000</td>\n",
       "    </tr>\n",
       "    <tr>\n",
       "      <th>25%</th>\n",
       "      <td>19.825000</td>\n",
       "      <td>19.025000</td>\n",
       "      <td>19.400000</td>\n",
       "      <td>31.000000</td>\n",
       "      <td>20.425000</td>\n",
       "      <td>19.900000</td>\n",
       "      <td>534.250000</td>\n",
       "      <td>522.250000</td>\n",
       "      <td>4.000000</td>\n",
       "      <td>1055.250000</td>\n",
       "    </tr>\n",
       "    <tr>\n",
       "      <th>50%</th>\n",
       "      <td>21.350000</td>\n",
       "      <td>20.500000</td>\n",
       "      <td>20.900000</td>\n",
       "      <td>66.500000</td>\n",
       "      <td>21.650000</td>\n",
       "      <td>21.200000</td>\n",
       "      <td>554.500000</td>\n",
       "      <td>545.500000</td>\n",
       "      <td>45.500000</td>\n",
       "      <td>1099.000000</td>\n",
       "    </tr>\n",
       "    <tr>\n",
       "      <th>75%</th>\n",
       "      <td>23.600000</td>\n",
       "      <td>23.375000</td>\n",
       "      <td>23.100000</td>\n",
       "      <td>100.000000</td>\n",
       "      <td>24.175000</td>\n",
       "      <td>23.075000</td>\n",
       "      <td>613.500000</td>\n",
       "      <td>595.000000</td>\n",
       "      <td>70.000000</td>\n",
       "      <td>1209.500000</td>\n",
       "    </tr>\n",
       "    <tr>\n",
       "      <th>max</th>\n",
       "      <td>25.600000</td>\n",
       "      <td>26.000000</td>\n",
       "      <td>25.300000</td>\n",
       "      <td>100.000000</td>\n",
       "      <td>26.100000</td>\n",
       "      <td>24.900000</td>\n",
       "      <td>644.000000</td>\n",
       "      <td>655.000000</td>\n",
       "      <td>100.000000</td>\n",
       "      <td>1298.000000</td>\n",
       "    </tr>\n",
       "  </tbody>\n",
       "</table>\n",
       "</div>"
      ],
      "text/plain": [
       "       act_composite  act_english    act_math  act_participation  act_reading  \\\n",
       "count     102.000000   102.000000  102.000000         102.000000   102.000000   \n",
       "mean       21.502941    20.959804   21.153922          63.450980    22.014706   \n",
       "std         2.053756     2.388722    1.999291          33.010538     2.107337   \n",
       "min        17.700000    16.300000   17.800000           7.000000    18.000000   \n",
       "25%        19.825000    19.025000   19.400000          31.000000    20.425000   \n",
       "50%        21.350000    20.500000   20.900000          66.500000    21.650000   \n",
       "75%        23.600000    23.375000   23.100000         100.000000    24.175000   \n",
       "max        25.600000    26.000000   25.300000         100.000000    26.100000   \n",
       "\n",
       "       act_science  sat_evidence_read_write    sat_math  sat_participation  \\\n",
       "count   102.000000               102.000000  102.000000         102.000000   \n",
       "mean     21.193137               566.401961  551.931373          42.774510   \n",
       "std       2.601647                46.442823   68.684854          36.252663   \n",
       "min       2.300000               480.000000   52.000000           2.000000   \n",
       "25%      19.900000               534.250000  522.250000           4.000000   \n",
       "50%      21.200000               554.500000  545.500000          45.500000   \n",
       "75%      23.075000               613.500000  595.000000          70.000000   \n",
       "max      24.900000               644.000000  655.000000         100.000000   \n",
       "\n",
       "             total  \n",
       "count   102.000000  \n",
       "mean   1123.058824  \n",
       "std      92.915678  \n",
       "min     950.000000  \n",
       "25%    1055.250000  \n",
       "50%    1099.000000  \n",
       "75%    1209.500000  \n",
       "max    1298.000000  "
      ]
     },
     "execution_count": 569,
     "metadata": {},
     "output_type": "execute_result"
    }
   ],
   "source": [
    "final.describe()"
   ]
  },
  {
   "cell_type": "markdown",
   "metadata": {},
   "source": []
  },
  {
   "cell_type": "markdown",
   "metadata": {},
   "source": [
    "#### We generally assuming that data we sample from a population will be normally distributed. Do we observe this trend?"
   ]
  },
  {
   "cell_type": "code",
   "execution_count": 532,
   "metadata": {
    "scrolled": true
   },
   "outputs": [
    {
     "data": {
      "text/plain": [
       "<matplotlib.axes._subplots.AxesSubplot at 0x1a291c4450>"
      ]
     },
     "execution_count": 532,
     "metadata": {},
     "output_type": "execute_result"
    },
    {
     "data": {
      "image/png": "[encoded data removed]",
      "text/plain": [
       "<Figure size 432x288 with 1 Axes>"
      ]
     },
     "metadata": {
      "needs_background": "light"
     },
     "output_type": "display_data"
    }
   ],
   "source": [
    "sat_math=[sum(np.random.choice(final['sat_math'], size=5,replace=False))/5 for _ in range(1000)]\n",
    "sns.distplot(sat_math)"
   ]
  },
  {
   "cell_type": "code",
   "execution_count": 533,
   "metadata": {
    "scrolled": false
   },
   "outputs": [
    {
     "data": {
      "text/plain": [
       "<matplotlib.axes._subplots.AxesSubplot at 0x1a29c13810>"
      ]
     },
     "execution_count": 533,
     "metadata": {},
     "output_type": "execute_result"
    },
    {
     "data": {
      "image/png": "[encoded data removed]",
      "text/plain": [
       "<Figure size 432x288 with 1 Axes>"
      ]
     },
     "metadata": {
      "needs_background": "light"
     },
     "output_type": "display_data"
    }
   ],
   "source": [
    "act_math=[sum(np.random.choice(final['act_math'], size=5,replace=False))/5 for _ in range(1000)]\n",
    "sns.distplot(act_math)"
   ]
  },
  {
   "cell_type": "code",
   "execution_count": 534,
   "metadata": {
    "scrolled": true
   },
   "outputs": [
    {
     "data": {
      "text/plain": [
       "<matplotlib.axes._subplots.AxesSubplot at 0x1a29990ad0>"
      ]
     },
     "execution_count": 534,
     "metadata": {},
     "output_type": "execute_result"
    },
    {
     "data": {
      "image/png": "[encoded data removed]",
      "text/plain": [
       "<Figure size 432x288 with 1 Axes>"
      ]
     },
     "metadata": {
      "needs_background": "light"
     },
     "output_type": "display_data"
    }
   ],
   "source": [
    "sat_read=[sum(np.random.choice(final['sat_evidence_read_write'], size=5,replace=False))/5 for _ in range(1000)]\n",
    "sns.distplot(sat_read)"
   ]
  },
  {
   "cell_type": "code",
   "execution_count": 536,
   "metadata": {},
   "outputs": [
    {
     "data": {
      "text/plain": [
       "<matplotlib.axes._subplots.AxesSubplot at 0x1a29988ad0>"
      ]
     },
     "execution_count": 536,
     "metadata": {},
     "output_type": "execute_result"
    },
    {
     "data": {
      "image/png": "[encoded data removed]",
      "text/plain": [
       "<Figure size 432x288 with 1 Axes>"
      ]
     },
     "metadata": {
      "needs_background": "light"
     },
     "output_type": "display_data"
    }
   ],
   "source": [
    "act_eng=[sum(np.random.choice(final['act_english'], size=5,replace=False))/5 for _ in range(1000)]\n",
    "sns.distplot(act_eng)"
   ]
  },
  {
   "cell_type": "markdown",
   "metadata": {},
   "source": [
    "Answer:"
   ]
  },
  {
   "cell_type": "markdown",
   "metadata": {},
   "source": [
    "Does This Assumption Hold for:\n",
    "    - Math\n",
    "    - Reading\n",
    "    - Rates\n",
    "Explain your answers for each distribution and how you think this will affect estimates made from these data."
   ]
  },
  {
   "cell_type": "markdown",
   "metadata": {},
   "source": [
    "All of the distributions samples adhere to the central limit theorem and thus it is safe to extract samples and make conclusions from the data."
   ]
  },
  {
   "cell_type": "markdown",
   "metadata": {},
   "source": [
    "#### Estimate Limits of Data\n",
    "\n",
    "Suppose we only seek to understand the relationship between SAT and ACT participation rates in 2017. \n",
    "\n",
    "##### Does it make sense to conduct statistical inference given these data specifically? \n",
    "\n",
    "Why or why not?\n",
    "\n",
    "*(think about granularity, aggregation, the relationships between populations size & rates...consider the actually populations these data describe in answering this question)*"
   ]
  },
  {
   "cell_type": "markdown",
   "metadata": {},
   "source": []
  },
  {
   "cell_type": "markdown",
   "metadata": {},
   "source": [
    "##### Is it appropriate to compare *these* specific SAT and ACT math scores? \n",
    "\n",
    "Why or why not?"
   ]
  },
  {
   "cell_type": "markdown",
   "metadata": {},
   "source": []
  },
  {
   "cell_type": "markdown",
   "metadata": {},
   "source": [
    "#### Statistical Evaluation of Distributions \n",
    "\n",
    "**If you feel it's appropriate**, using methods we discussed in class, run hypothesis tests to compare variables of interest in our dataset. "
   ]
  },
  {
   "cell_type": "markdown",
   "metadata": {},
   "source": [
    "**H_0**: States with  high  ACT participation will have high SAT participation<br/>  **H_A**: States with high SAT participation will have low SAT participation\n",
    "\n"
   ]
  },
  {
   "cell_type": "code",
   "execution_count": 53,
   "metadata": {},
   "outputs": [
    {
     "data": {
      "text/plain": [
       "Ttest_indResult(statistic=-4.25905915885418, pvalue=3.155970780387903e-05)"
      ]
     },
     "execution_count": 53,
     "metadata": {},
     "output_type": "execute_result"
    }
   ],
   "source": [
    "# Code:\n",
    "import scipy.stats as stats\n",
    "\n",
    "actpart=final['act_participation'].values.tolist()\n",
    "satpart=final['sat_participation'].values.tolist()\n",
    "\n",
    "stats.ttest_ind(actpart, satpart, equal_var=False)\n"
   ]
  },
  {
   "cell_type": "markdown",
   "metadata": {},
   "source": [
    "## Outside Research"
   ]
  },
  {
   "cell_type": "markdown",
   "metadata": {},
   "source": [
    "Based upon your observations, choose **three** states that demonstrate interesting trends in their SAT and/or ACT participation rates. Spend some time doing outside research on state policies that might influence these rates, and summarize your findings below. **Feel free to go back and create new plots that highlight these states of interest**. If you bring in any outside tables or charts, make sure you are explicit about having borrowed them. If you quote any text, make sure that it renders as being quoted. (Make sure that you cite your sources -- check with you local instructor for citation preferences)."
   ]
  },
  {
   "cell_type": "markdown",
   "metadata": {},
   "source": [
    "Colorado is the state that increased to full participation. SAT became mandatory in 2017 in Colorado. <br/>\n",
    "Georgia and Hawaii has high SAT participation rate and good scores even when ACT participation is high."
   ]
  },
  {
   "cell_type": "markdown",
   "metadata": {},
   "source": [
    "## Conclusions and Recommendations"
   ]
  },
  {
   "cell_type": "markdown",
   "metadata": {},
   "source": [
    "Based on your exploration of the data, what are you key takeaways and recommendations? Choose one state with a lower participation rate and provide a suggestion for how the College Board might increase participation amongst graduating seniors in this state. Are there additional data you desire that would better inform your investigations?"
   ]
  },
  {
   "cell_type": "markdown",
   "metadata": {},
   "source": [
    "**Observations** <br/>\n",
    "ACT is more popular than SAT in US with more states making it mandatory. <br/>\n",
    "When SAT participation is high (more than 70%) there will still be a significant number of ACT participation.<br/>\n",
    "When ACT participation is high, SAT participation will be very low. <br/>\n",
    "There are more states with high ACT participation (more than 50%) and do well in ACT (score above mean). There are no states with more than 50% SAT participation and do well (score above mean). If we compare to a lower score slightly below mean score, there are only 3 states with more than 50% SAT participation. Compared to 8 for ACT. \n",
    "\n",
    "**Recommendations** <br/>\n",
    "SAT must work closely with a State's education board to encourage them to make SAT mandatory.<br/>\n",
    "SAT may need to relook its rigour of its testing as no state with high participation actually score higher than the mean. \n",
    "\n",
    "**Other data** <br/>\n",
    "The state's high school scores.\n",
    "students' demographics."
   ]
  },
  {
   "cell_type": "code",
   "execution_count": null,
   "metadata": {},
   "outputs": [],
   "source": []
  }
 ],
 "metadata": {
  "anaconda-cloud": {},
  "kernelspec": {
   "display_name": "Python 3",
   "language": "python",
   "name": "python3"
  },
  "language_info": {
   "codemirror_mode": {
    "name": "ipython",
    "version": 3
   },
   "file_extension": ".py",
   "mimetype": "text/x-python",
   "name": "python",
   "nbconvert_exporter": "python",
   "pygments_lexer": "ipython3",
   "version": "3.7.5"
  }
 },
 "nbformat": 4,
 "nbformat_minor": 2
}
